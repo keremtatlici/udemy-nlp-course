{
  "nbformat": 4,
  "nbformat_minor": 0,
  "metadata": {
    "colab": {
      "name": "stemming_lemma_complete.ipynb",
      "provenance": [],
      "collapsed_sections": []
    },
    "kernelspec": {
      "name": "python3",
      "display_name": "Python 3"
    }
  },
  "cells": [
    {
      "cell_type": "markdown",
      "metadata": {
        "id": "pccWC5dHHUMj"
      },
      "source": [
        "# <font color='#00d2d3'>  NLTK: <br> Stemming: Porter Stemmer, Lancaster Stemmer and Snowball <br> Lemmatization<font/>"
      ]
    },
    {
      "cell_type": "markdown",
      "metadata": {
        "id": "iTZmo5ujIHqi"
      },
      "source": [
        "<font color='#e84393' > Strip affixes from the token and return the stem. <br/> token (str) – The token that should be stemmed."
      ]
    },
    {
      "cell_type": "code",
      "metadata": {
        "id": "xYfRvXwffWC3"
      },
      "source": [
        "#import the nltk package\n",
        "import nltk"
      ],
      "execution_count": null,
      "outputs": []
    },
    {
      "cell_type": "markdown",
      "metadata": {
        "id": "BMx0DDNbS8pd"
      },
      "source": [
        "# <font color='#00d2d3' > 1. Porter Stemmer Algorithm - “An algorithm for suffix stripping.” <br/> "
      ]
    },
    {
      "cell_type": "markdown",
      "metadata": {
        "id": "OfA7ew8ALkLb"
      },
      "source": [
        "One of the most widely used stemming algorithms is the simple and efficient Porter algorithm, which is based on a series of simple cascaded rewrite rules.  The algorithm contains a series of rules like these: <br/>\n",
        "<font color='#e84393' > ATIONAL —►ATE (e.g., relational —►relate)<br/>\n",
        "ING —>6 ifstemcontainsvowel(e.g.,motoring—►motor)<br/>\n",
        "SSES —►SS (e.g., grasses —►grass) <br> </font> \n",
        "Commonly used, gentle algorithm but is not the best for precision. \n",
        "For more information on the Porter Stemmer Algorithm \n",
        "https://tartarus.org/martin/PorterStemmer/"
      ]
    },
    {
      "cell_type": "code",
      "metadata": {
        "id": "hxaa-qsmgApb"
      },
      "source": [
        "from nltk.stem import PorterStemmer\n",
        "porter = PorterStemmer()"
      ],
      "execution_count": null,
      "outputs": []
    },
    {
      "cell_type": "code",
      "metadata": {
        "id": "2sry5f3bgIty",
        "colab": {
          "base_uri": "https://localhost:8080/"
        },
        "outputId": "6858c503-30c7-4185-df57-2e50f57aa31d"
      },
      "source": [
        "print (porter.stem('stockings'))"
      ],
      "execution_count": null,
      "outputs": [
        {
          "output_type": "stream",
          "text": [
            "stock\n"
          ],
          "name": "stdout"
        }
      ]
    },
    {
      "cell_type": "code",
      "metadata": {
        "id": "KQmQb6HWgVB0",
        "colab": {
          "base_uri": "https://localhost:8080/"
        },
        "outputId": "a15ef339-b381-4aa7-c832-58a611b28dc7"
      },
      "source": [
        "print (porter.stem('jumping'))"
      ],
      "execution_count": null,
      "outputs": [
        {
          "output_type": "stream",
          "text": [
            "jump\n"
          ],
          "name": "stdout"
        }
      ]
    },
    {
      "cell_type": "code",
      "metadata": {
        "id": "HJQmcHJXga39",
        "colab": {
          "base_uri": "https://localhost:8080/"
        },
        "outputId": "dfc62d15-6f85-471b-c370-79f48798f9a4"
      },
      "source": [
        "print (porter.stem('Bunnies'))"
      ],
      "execution_count": null,
      "outputs": [
        {
          "output_type": "stream",
          "text": [
            "bunni\n"
          ],
          "name": "stdout"
        }
      ]
    },
    {
      "cell_type": "code",
      "metadata": {
        "id": "CQfbUOXohaoP",
        "colab": {
          "base_uri": "https://localhost:8080/"
        },
        "outputId": "10da38a8-767a-4d02-e009-dc4222060bd4"
      },
      "source": [
        "print (porter.stem('organization'))"
      ],
      "execution_count": null,
      "outputs": [
        {
          "output_type": "stream",
          "text": [
            "organ\n"
          ],
          "name": "stdout"
        }
      ]
    },
    {
      "cell_type": "markdown",
      "metadata": {
        "id": "ECzgMP9uVWWG"
      },
      "source": [
        "# <font color='#00d2d3' > 2. Lancaster - A word stemmer based on the Lancaster stemming algorithm <br/> "
      ]
    },
    {
      "cell_type": "markdown",
      "metadata": {
        "id": "1mIdxTChQVcl"
      },
      "source": [
        "<font color='#00d2d3' > \n",
        "An iterative algorithm with rules. About 120 rules are indexed by the last letter of a suffix. On each iteration, it tries to find an applicable rule by the last character of the word. Each rule specifies either a deletion or replacement of an ending. If there is no such rule, it terminates. It also terminates if a word starts with a vowel and there are only two letters left or if a word starts with a consonant and there are only three characters left. Otherwise, the rule is applied, and the process repeats. <br/> It is an aggressive algorithm that can give low precision. "
      ]
    },
    {
      "cell_type": "code",
      "metadata": {
        "id": "wQHYjyXehIEW"
      },
      "source": [
        "from nltk.stem import LancasterStemmer\n",
        "lancaster = LancasterStemmer()"
      ],
      "execution_count": null,
      "outputs": []
    },
    {
      "cell_type": "code",
      "metadata": {
        "id": "ZkD-ywFchRhG",
        "colab": {
          "base_uri": "https://localhost:8080/"
        },
        "outputId": "cbdd8aac-877a-437d-a5ee-43a59af61ea2"
      },
      "source": [
        "print (lancaster.stem('organization'))"
      ],
      "execution_count": null,
      "outputs": [
        {
          "output_type": "stream",
          "text": [
            "org\n"
          ],
          "name": "stdout"
        }
      ]
    },
    {
      "cell_type": "code",
      "metadata": {
        "id": "rj3XWBIAhgcg",
        "colab": {
          "base_uri": "https://localhost:8080/"
        },
        "outputId": "e49b5795-f3db-468f-cd6a-ef2fb75a4e2a"
      },
      "source": [
        "print (lancaster.stem('bunnies'))"
      ],
      "execution_count": null,
      "outputs": [
        {
          "output_type": "stream",
          "text": [
            "bunny\n"
          ],
          "name": "stdout"
        }
      ]
    },
    {
      "cell_type": "markdown",
      "metadata": {
        "id": "RUe8eiioWg5o"
      },
      "source": [
        "# <font color='#00d2d3' > 3. Snowball -  <br/> "
      ]
    },
    {
      "cell_type": "markdown",
      "metadata": {
        "id": "-XsypTPFXFlU"
      },
      "source": [
        "<font color='#00d2d3' > 3. Snowball - A modified version of the Porter Stemmer. Developed by the same guy. More precise for large datasets. <br/> "
      ]
    },
    {
      "cell_type": "code",
      "metadata": {
        "id": "P4bUHLzQh8Z8"
      },
      "source": [
        "from nltk.stem import SnowballStemmer\n",
        "snow = SnowballStemmer('english')"
      ],
      "execution_count": null,
      "outputs": []
    },
    {
      "cell_type": "code",
      "metadata": {
        "id": "jmzyTEzViR0o",
        "colab": {
          "base_uri": "https://localhost:8080/"
        },
        "outputId": "21cdc8e6-e04d-4464-f0dc-0ea677373b80"
      },
      "source": [
        "print(snow.stem('organization'))\n",
        "print(snow.stem('digitize'))\n",
        "print(snow.stem('favourable'))\n",
        "print(snow.stem('limitation'))"
      ],
      "execution_count": null,
      "outputs": [
        {
          "output_type": "stream",
          "text": [
            "organ\n",
            "digit\n",
            "favour\n",
            "limit\n"
          ],
          "name": "stdout"
        }
      ]
    },
    {
      "cell_type": "code",
      "metadata": {
        "id": "09_ZD9_1UFI9",
        "colab": {
          "base_uri": "https://localhost:8080/"
        },
        "outputId": "6d7ef953-50e3-4432-a6fb-9698ff5a7e21"
      },
      "source": [
        "#a list of words, comparing the three stemming methods\n",
        "bundle = [\"bunnies\", \"organization\",\"polarize\",\"jaguar\",\"stabilize\", \"destabilize\", \"democratic\", \"kingdoms\", \"dramatic\", \"favourable\"]\n",
        "print(\"{0:20}{1:20}{2:20}{3:20}\".format(\"Word\", \"Porter Stem\", \"Lancaster\", \"Snowball\"))\n",
        "\n",
        "for word in bundle:\n",
        "  print(\"{0:20}{1:20}{2:20}{3:20}\".format(word, porter.stem(word),lancaster.stem(word),snow.stem(word)))"
      ],
      "execution_count": null,
      "outputs": [
        {
          "output_type": "stream",
          "text": [
            "Word                Porter Stem         Lancaster           Snowball            \n",
            "bunnies             bunni               bunny               bunni               \n",
            "organization        organ               org                 organ               \n",
            "polarize            polar               pol                 polar               \n",
            "jaguar              jaguar              jagu                jaguar              \n",
            "stabilize           stabil              stabl               stabil              \n",
            "destabilize         destabil            dest                destabil            \n",
            "democratic          democrat            democr              democrat            \n",
            "kingdoms            kingdom             kingdom             kingdom             \n",
            "dramatic            dramat              dram                dramat              \n",
            "favourable          favour              favo                favour              \n"
          ],
          "name": "stdout"
        }
      ]
    }
  ]
}