{
  "cells": [
    {
      "cell_type": "markdown",
      "metadata": {
        "id": "6gdXm-7b_5S9"
      },
      "source": [
        "##<font color='#2ecc71'> Intro to Information Extraction<br>NER using spaCy"
      ]
    },
    {
      "cell_type": "code",
      "execution_count": 7,
      "metadata": {
        "id": "dpoJzfG0C_No"
      },
      "outputs": [],
      "source": [
        "import spacy\n",
        "from spacy import displacy\n",
        "from collections import Counter"
      ]
    },
    {
      "cell_type": "code",
      "execution_count": 12,
      "metadata": {},
      "outputs": [
        {
          "name": "stdout",
          "output_type": "stream",
          "text": [
            "Defaulting to user installation because normal site-packages is not writeable\n",
            "Collecting en-core-web-sm==3.2.0\n",
            "  Downloading https://github.com/explosion/spacy-models/releases/download/en_core_web_sm-3.2.0/en_core_web_sm-3.2.0-py3-none-any.whl (13.9 MB)\n",
            "     |████████████████████████████████| 13.9 MB 3.9 MB/s            \n",
            "\u001b[?25hRequirement already satisfied: spacy<3.3.0,>=3.2.0 in /home/shakabrah/.local/lib/python3.8/site-packages (from en-core-web-sm==3.2.0) (3.2.1)\n",
            "Requirement already satisfied: spacy-loggers<2.0.0,>=1.0.0 in /home/shakabrah/.local/lib/python3.8/site-packages (from spacy<3.3.0,>=3.2.0->en-core-web-sm==3.2.0) (1.0.1)\n",
            "Requirement already satisfied: typer<0.5.0,>=0.3.0 in /home/shakabrah/.local/lib/python3.8/site-packages (from spacy<3.3.0,>=3.2.0->en-core-web-sm==3.2.0) (0.4.0)\n",
            "Requirement already satisfied: murmurhash<1.1.0,>=0.28.0 in /home/shakabrah/.local/lib/python3.8/site-packages (from spacy<3.3.0,>=3.2.0->en-core-web-sm==3.2.0) (1.0.6)\n",
            "Requirement already satisfied: numpy>=1.15.0 in /home/shakabrah/.local/lib/python3.8/site-packages (from spacy<3.3.0,>=3.2.0->en-core-web-sm==3.2.0) (1.19.5)\n",
            "Requirement already satisfied: setuptools in /usr/lib/python3/dist-packages (from spacy<3.3.0,>=3.2.0->en-core-web-sm==3.2.0) (45.2.0)\n",
            "Requirement already satisfied: packaging>=20.0 in /home/shakabrah/.local/lib/python3.8/site-packages (from spacy<3.3.0,>=3.2.0->en-core-web-sm==3.2.0) (21.0)\n",
            "Requirement already satisfied: jinja2 in /home/shakabrah/.local/lib/python3.8/site-packages (from spacy<3.3.0,>=3.2.0->en-core-web-sm==3.2.0) (3.0.2)\n",
            "Requirement already satisfied: wasabi<1.1.0,>=0.8.1 in /home/shakabrah/.local/lib/python3.8/site-packages (from spacy<3.3.0,>=3.2.0->en-core-web-sm==3.2.0) (0.9.0)\n",
            "Requirement already satisfied: requests<3.0.0,>=2.13.0 in /usr/lib/python3/dist-packages (from spacy<3.3.0,>=3.2.0->en-core-web-sm==3.2.0) (2.22.0)\n",
            "Requirement already satisfied: cymem<2.1.0,>=2.0.2 in /home/shakabrah/.local/lib/python3.8/site-packages (from spacy<3.3.0,>=3.2.0->en-core-web-sm==3.2.0) (2.0.6)\n",
            "Requirement already satisfied: langcodes<4.0.0,>=3.2.0 in /home/shakabrah/.local/lib/python3.8/site-packages (from spacy<3.3.0,>=3.2.0->en-core-web-sm==3.2.0) (3.3.0)\n",
            "Requirement already satisfied: spacy-legacy<3.1.0,>=3.0.8 in /home/shakabrah/.local/lib/python3.8/site-packages (from spacy<3.3.0,>=3.2.0->en-core-web-sm==3.2.0) (3.0.8)\n",
            "Requirement already satisfied: pydantic!=1.8,!=1.8.1,<1.9.0,>=1.7.4 in /home/shakabrah/.local/lib/python3.8/site-packages (from spacy<3.3.0,>=3.2.0->en-core-web-sm==3.2.0) (1.8.2)\n",
            "Requirement already satisfied: catalogue<2.1.0,>=2.0.6 in /home/shakabrah/.local/lib/python3.8/site-packages (from spacy<3.3.0,>=3.2.0->en-core-web-sm==3.2.0) (2.0.6)\n",
            "Requirement already satisfied: pathy>=0.3.5 in /home/shakabrah/.local/lib/python3.8/site-packages (from spacy<3.3.0,>=3.2.0->en-core-web-sm==3.2.0) (0.6.1)\n",
            "Requirement already satisfied: thinc<8.1.0,>=8.0.12 in /home/shakabrah/.local/lib/python3.8/site-packages (from spacy<3.3.0,>=3.2.0->en-core-web-sm==3.2.0) (8.0.13)\n",
            "Requirement already satisfied: blis<0.8.0,>=0.4.0 in /home/shakabrah/.local/lib/python3.8/site-packages (from spacy<3.3.0,>=3.2.0->en-core-web-sm==3.2.0) (0.7.5)\n",
            "Requirement already satisfied: preshed<3.1.0,>=3.0.2 in /home/shakabrah/.local/lib/python3.8/site-packages (from spacy<3.3.0,>=3.2.0->en-core-web-sm==3.2.0) (3.0.6)\n",
            "Requirement already satisfied: tqdm<5.0.0,>=4.38.0 in /home/shakabrah/.local/lib/python3.8/site-packages (from spacy<3.3.0,>=3.2.0->en-core-web-sm==3.2.0) (4.62.3)\n",
            "Requirement already satisfied: srsly<3.0.0,>=2.4.1 in /home/shakabrah/.local/lib/python3.8/site-packages (from spacy<3.3.0,>=3.2.0->en-core-web-sm==3.2.0) (2.4.2)\n",
            "Requirement already satisfied: pyparsing>=2.0.2 in /home/shakabrah/.local/lib/python3.8/site-packages (from packaging>=20.0->spacy<3.3.0,>=3.2.0->en-core-web-sm==3.2.0) (2.4.7)\n",
            "Requirement already satisfied: smart-open<6.0.0,>=5.0.0 in /home/shakabrah/.local/lib/python3.8/site-packages (from pathy>=0.3.5->spacy<3.3.0,>=3.2.0->en-core-web-sm==3.2.0) (5.2.1)\n",
            "Requirement already satisfied: typing-extensions>=3.7.4.3 in /home/shakabrah/.local/lib/python3.8/site-packages (from pydantic!=1.8,!=1.8.1,<1.9.0,>=1.7.4->spacy<3.3.0,>=3.2.0->en-core-web-sm==3.2.0) (3.7.4.3)\n",
            "Requirement already satisfied: click<9.0.0,>=7.1.1 in /home/shakabrah/.local/lib/python3.8/site-packages (from typer<0.5.0,>=0.3.0->spacy<3.3.0,>=3.2.0->en-core-web-sm==3.2.0) (8.0.3)\n",
            "Requirement already satisfied: MarkupSafe>=2.0 in /home/shakabrah/.local/lib/python3.8/site-packages (from jinja2->spacy<3.3.0,>=3.2.0->en-core-web-sm==3.2.0) (2.0.1)\n",
            "Installing collected packages: en-core-web-sm\n",
            "Successfully installed en-core-web-sm-3.2.0\n",
            "\u001b[38;5;2m✔ Download and installation successful\u001b[0m\n",
            "You can now load the package via spacy.load('en_core_web_sm')\n"
          ]
        }
      ],
      "source": [
        "!python3 -m spacy download en_core_web_sm"
      ]
    },
    {
      "cell_type": "code",
      "execution_count": 13,
      "metadata": {
        "id": "M465Czc7HGtS"
      },
      "outputs": [],
      "source": [
        "import en_core_web_sm\n",
        "nlp = en_core_web_sm.load()"
      ]
    },
    {
      "cell_type": "markdown",
      "metadata": {
        "id": "Z22HB0Wd7KUW"
      },
      "source": [
        "<font color='#00d2d3'>Nintendo Q3 profit rises 6% on Switch sales but misses estimates<br><font color='#00d2d3'>Nintendo Co Ltd 7974.T said on Thursday third-quarter operating profit rose 6%,driven by Switch console sales in the year-end shopping season, but the earnings fell below market expectations.Profit for the October-December quarter was 168.7 billion yen ($1.54 billion) versus 158.6 billion yen a year earlier.That compared with an average forecast of 175 billion yen from 10 analyst estimates compiled by Refinitiv.<br>[NASDAQ](https://www.nasdaq.com/articles/nintendo-q3-profit-rises-6-on-switch-sales-but-misses-estimates-2020-01-30)"
      ]
    },
    {
      "cell_type": "code",
      "execution_count": 16,
      "metadata": {
        "id": "7VeAUZ9wDCmJ"
      },
      "outputs": [
        {
          "data": {
            "text/plain": [
              "[('Thursday', 'DATE'),\n",
              " ('third-quarter', 'DATE'),\n",
              " ('6%,driven', 'CARDINAL'),\n",
              " ('Switch', 'ORG'),\n",
              " ('year-end shopping', 'DATE'),\n",
              " ('October-December quarter', 'DATE'),\n",
              " ('168.7 billion yen', 'MONEY'),\n",
              " ('$1.54 billion', 'MONEY'),\n",
              " ('158.6 billion yen', 'MONEY'),\n",
              " ('a year earlier', 'DATE'),\n",
              " ('175 billion yen', 'MONEY'),\n",
              " ('10', 'CARDINAL'),\n",
              " ('Refinitiv', 'ORG')]"
            ]
          },
          "execution_count": 16,
          "metadata": {},
          "output_type": "execute_result"
        }
      ],
      "source": [
        "doc = nlp('Nintendo Co Ltd 7974.T said on Thursday third-quarter operating profit rose 6%,driven by Switch console sales in the year-end shopping season, but the earnings fell below market expectations.Profit for the October-December quarter was 168.7 billion yen ($1.54 billion) versus 158.6 billion yen a year earlier.That compared with an average forecast of 175 billion yen from 10 analyst estimates compiled by Refinitiv.')\n",
        "ner = [(X.text, X.label_) for X in doc.ents]\n",
        "ner"
      ]
    },
    {
      "cell_type": "code",
      "execution_count": 17,
      "metadata": {
        "id": "2DXOhQI4ihp-"
      },
      "outputs": [
        {
          "data": {
            "text/plain": [
              "[(Nintendo, 2, ''),\n",
              " (Co, 2, ''),\n",
              " (Ltd, 2, ''),\n",
              " (7974.T, 2, ''),\n",
              " (said, 2, ''),\n",
              " (on, 2, ''),\n",
              " (Thursday, 3, 'DATE'),\n",
              " (third, 3, 'DATE'),\n",
              " (-, 1, 'DATE'),\n",
              " (quarter, 1, 'DATE'),\n",
              " (operating, 2, ''),\n",
              " (profit, 2, ''),\n",
              " (rose, 2, ''),\n",
              " (6%,driven, 3, 'CARDINAL'),\n",
              " (by, 2, ''),\n",
              " (Switch, 3, 'ORG'),\n",
              " (console, 2, ''),\n",
              " (sales, 2, ''),\n",
              " (in, 2, ''),\n",
              " (the, 2, ''),\n",
              " (year, 3, 'DATE'),\n",
              " (-, 1, 'DATE'),\n",
              " (end, 1, 'DATE'),\n",
              " (shopping, 1, 'DATE'),\n",
              " (season, 2, ''),\n",
              " (,, 2, ''),\n",
              " (but, 2, ''),\n",
              " (the, 2, ''),\n",
              " (earnings, 2, ''),\n",
              " (fell, 2, ''),\n",
              " (below, 2, ''),\n",
              " (market, 2, ''),\n",
              " (expectations, 2, ''),\n",
              " (., 2, ''),\n",
              " (Profit, 2, ''),\n",
              " (for, 2, ''),\n",
              " (the, 2, ''),\n",
              " (October, 3, 'DATE'),\n",
              " (-, 1, 'DATE'),\n",
              " (December, 1, 'DATE'),\n",
              " (quarter, 1, 'DATE'),\n",
              " (was, 2, ''),\n",
              " (168.7, 3, 'MONEY'),\n",
              " (billion, 1, 'MONEY'),\n",
              " (yen, 1, 'MONEY'),\n",
              " ((, 2, ''),\n",
              " ($, 3, 'MONEY'),\n",
              " (1.54, 1, 'MONEY'),\n",
              " (billion, 1, 'MONEY'),\n",
              " (), 2, ''),\n",
              " (versus, 2, ''),\n",
              " (158.6, 3, 'MONEY'),\n",
              " (billion, 1, 'MONEY'),\n",
              " (yen, 1, 'MONEY'),\n",
              " (a, 3, 'DATE'),\n",
              " (year, 1, 'DATE'),\n",
              " (earlier, 1, 'DATE'),\n",
              " (., 2, ''),\n",
              " (That, 2, ''),\n",
              " (compared, 2, ''),\n",
              " (with, 2, ''),\n",
              " (an, 2, ''),\n",
              " (average, 2, ''),\n",
              " (forecast, 2, ''),\n",
              " (of, 2, ''),\n",
              " (175, 3, 'MONEY'),\n",
              " (billion, 1, 'MONEY'),\n",
              " (yen, 1, 'MONEY'),\n",
              " (from, 2, ''),\n",
              " (10, 3, 'CARDINAL'),\n",
              " (analyst, 2, ''),\n",
              " (estimates, 2, ''),\n",
              " (compiled, 2, ''),\n",
              " (by, 2, ''),\n",
              " (Refinitiv, 3, 'ORG'),\n",
              " (., 2, '')]"
            ]
          },
          "execution_count": 17,
          "metadata": {},
          "output_type": "execute_result"
        }
      ],
      "source": [
        "tag = [(X, X.ent_iob, X.ent_type_) for X in doc]\n",
        "tag"
      ]
    },
    {
      "cell_type": "markdown",
      "metadata": {
        "id": "Eq10FDoQ54nz"
      },
      "source": [
        "<font color='#2ecc71'>\n",
        "*   ORG: Companies, agencies, institutions, etc.<br>\n",
        "*   Cardinal Number: a number that says how many of something there are<br>\n",
        "*  <font color='pink#00d2d3ider of financial market data and infrastructure<br> \n",
        "\n",
        "[spaCy annotation](https://spacy.io/api/annotation)\n",
        "\n",
        "\n"
      ]
    },
    {
      "cell_type": "code",
      "execution_count": null,
      "metadata": {
        "id": "DSv4p02pDI-6"
      },
      "outputs": [],
      "source": []
    },
    {
      "cell_type": "code",
      "execution_count": null,
      "metadata": {
        "id": "asxYVu27DKfR"
      },
      "outputs": [],
      "source": []
    },
    {
      "cell_type": "code",
      "execution_count": null,
      "metadata": {
        "id": "L1NNVNwBCxUB"
      },
      "outputs": [],
      "source": [
        "doc1 = nlp('Labour is a centre-left political party in the United Kingdom that has been described as an alliance of social democrats, democratic socialists and trade unionists. In all general elections since 1922, Labour has been either the governing party or the Official Opposition.')\n"
      ]
    },
    {
      "cell_type": "code",
      "execution_count": null,
      "metadata": {
        "id": "sf4wxiVQDWPc"
      },
      "outputs": [],
      "source": []
    },
    {
      "cell_type": "markdown",
      "metadata": {
        "id": "j--yX6OBEV2D"
      },
      "source": [
        "<font color='#00d2d3'><br>BeautifulSoup: Scrape html page<br>html5lib: Parse<br>convert to text<br>\n"
      ]
    },
    {
      "cell_type": "code",
      "execution_count": null,
      "metadata": {
        "id": "75f824ZmDY_O"
      },
      "outputs": [],
      "source": []
    },
    {
      "cell_type": "code",
      "execution_count": null,
      "metadata": {
        "id": "sXhhavstDgbl"
      },
      "outputs": [],
      "source": []
    }
  ],
  "metadata": {
    "accelerator": "GPU",
    "colab": {
      "collapsed_sections": [],
      "name": "NER_spaCy_Lecture.ipynb",
      "provenance": []
    },
    "kernelspec": {
      "display_name": "Python 3",
      "name": "python3"
    },
    "language_info": {
      "codemirror_mode": {
        "name": "ipython",
        "version": 3
      },
      "file_extension": ".py",
      "mimetype": "text/x-python",
      "name": "python",
      "nbconvert_exporter": "python",
      "pygments_lexer": "ipython3",
      "version": "3.8.10"
    }
  },
  "nbformat": 4,
  "nbformat_minor": 0
}
