{
 "cells": [
  {
   "cell_type": "markdown",
   "metadata": {
    "id": "0fr7_vl64Yyu"
   },
   "source": [
    "##<font color='#fd79a8'> Markov Chains"
   ]
  },
  {
   "cell_type": "code",
   "execution_count": 22,
   "metadata": {
    "id": "xuKKgJvK4Vyo"
   },
   "outputs": [],
   "source": [
    "import numpy as np\n",
    "import random as rm"
   ]
  },
  {
   "cell_type": "code",
   "execution_count": 23,
   "metadata": {
    "id": "SsjX_im243Uq"
   },
   "outputs": [],
   "source": [
    "# The statespace\n",
    "states = [\"Tas\",\"Kagit\",\"Makas\"]\n",
    "\n",
    "# Possible sequences of events\n",
    "transition = [[\"TT\",\"TK\",\"TM\"],[\"KT\",\"KK\",\"KM\"],[\"MT\",\"MK\",\"MM\"]]\n",
    "\n",
    "# Probabilities matrix (transition matrix)\n",
    "ProbabilityMatrix = [[0.2,0.35,0.45],[0.35,0.2,0.45],[0.35,0.35,0.3]]"
   ]
  },
  {
   "cell_type": "markdown",
   "metadata": {
    "id": "IOAh4CQIsai3"
   },
   "source": [
    "###<font color='#fd79a8'>  Predict the next state using Markov Chain, based on current state. "
   ]
  },
  {
   "cell_type": "code",
   "execution_count": 24,
   "metadata": {
    "id": "XOSVquCn5CEb"
   },
   "outputs": [],
   "source": [
    "def predict_state(days):\n",
    "    # Choose the starting state\n",
    "    activityToday = \"Kagit\"\n",
    "    print(\"Start state: \" + activityToday)\n",
    "    #starting with the current state only \n",
    "    activityList = [activityToday]\n",
    "    i = 0\n",
    "    # To calculate the probability of the activity she would do, based on current state\n",
    "    prob = 1\n",
    "    while i != days:\n",
    "        if activityToday == \"Tas\":\n",
    "            change = np.random.choice(transition[0],replace=True,p=ProbabilityMatrix[0])\n",
    "            if change == \"TT\":\n",
    "                prob = prob * ProbabilityMatrix[0][0]\n",
    "                activityList.append(\"Tas\")\n",
    "                pass\n",
    "            elif change == \"TK\":\n",
    "                prob = prob * ProbabilityMatrix[0][1]\n",
    "                activityToday = \"Kagit\"\n",
    "                activityList.append(\"Kagit\")\n",
    "            else:\n",
    "                prob = prob * ProbabilityMatrix[0][2]\n",
    "                activityToday = \"Makas\"\n",
    "                activityList.append(\"Makas\")\n",
    "        elif activityToday == \"Kagit\":\n",
    "            change = np.random.choice(transition[1],replace=True,p=ProbabilityMatrix[1])\n",
    "            if change == \"KK\":\n",
    "                prob = prob * ProbabilityMatrix[1][1]\n",
    "                activityList.append(\"Kagit\")\n",
    "                pass\n",
    "            elif change == \"KT\":\n",
    "                prob = prob * ProbabilityMatrix[1][0]\n",
    "                activityToday = \"Tas\"\n",
    "                activityList.append(\"Tas\")\n",
    "            else:\n",
    "                prob = prob * ProbabilityMatrix[1][2]\n",
    "                activityToday = \"Makas\"\n",
    "                activityList.append(\"Makas\")\n",
    "        elif activityToday == \"Makas\":\n",
    "            change = np.random.choice(transition[2],replace=True,p=ProbabilityMatrix[2])\n",
    "            if change == \"MM\":\n",
    "                prob = prob * ProbabilityMatrix[2][2]\n",
    "                activityList.append(\"Makas\")\n",
    "                pass\n",
    "            elif change == \"MT\":\n",
    "                prob = prob * ProbabilityMatrix[2][1]\n",
    "                activityToday = \"Tas\"\n",
    "                activityList.append(\"Tas\")\n",
    "            else:\n",
    "                prob = prob * ProbabilityMatrix[2][2]\n",
    "                activityToday = \"Kagit\"\n",
    "                activityList.append(\"Kagit\")\n",
    "        i += 1  \n",
    "    print(\"Possible states: \" + str(activityList))\n",
    "    print(\"End state after \"+ str(days) + \" days: \" + activityToday)\n",
    "    print(\"Probability of the possible sequence of states: \" + str(prob))\n",
    "\n",
    "# Function that forecasts the possible state for the next 2 days\n"
   ]
  },
  {
   "cell_type": "code",
   "execution_count": 34,
   "metadata": {
    "colab": {
     "base_uri": "https://localhost:8080/"
    },
    "id": "SApkWLXX5HdU",
    "outputId": "6c73db85-79ac-471d-f987-e3dbb3b9b919"
   },
   "outputs": [
    {
     "name": "stdout",
     "output_type": "stream",
     "text": [
      "Start state: Kagit\n",
      "Possible states: ['Kagit', 'Tas', 'Makas', 'Kagit', 'Tas', 'Makas']\n",
      "End state after 5 days: Makas\n",
      "Probability of the possible sequence of states: 0.007441875000000001\n"
     ]
    }
   ],
   "source": [
    "predict_state(5)"
   ]
  },
  {
   "cell_type": "code",
   "execution_count": null,
   "metadata": {
    "id": "yViKQysw5ezI"
   },
   "outputs": [],
   "source": []
  }
 ],
 "metadata": {
  "interpreter": {
   "hash": "31f2aee4e71d21fbe5cf8b01ff0e069b9275f58929596ceb00d14d90e3e16cd6"
  },
  "kernelspec": {
   "display_name": "Python 3.8.10 64-bit",
   "language": "python",
   "name": "python3"
  },
  "language_info": {
   "codemirror_mode": {
    "name": "ipython",
    "version": 3
   },
   "file_extension": ".py",
   "mimetype": "text/x-python",
   "name": "python",
   "nbconvert_exporter": "python",
   "pygments_lexer": "ipython3",
   "version": "3.8.10"
  },
  "orig_nbformat": 4
 },
 "nbformat": 4,
 "nbformat_minor": 2
}
