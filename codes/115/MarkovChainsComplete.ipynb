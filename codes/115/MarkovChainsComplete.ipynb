{
  "cells": [
    {
      "cell_type": "markdown",
      "metadata": {
        "id": "0fr7_vl64Yyu"
      },
      "source": [
        "##<font color='#fd79a8'> Markov Chains"
      ]
    },
    {
      "cell_type": "code",
      "execution_count": 1,
      "metadata": {
        "id": "xuKKgJvK4Vyo"
      },
      "outputs": [],
      "source": [
        "import numpy as np\n",
        "import random as rm"
      ]
    },
    {
      "cell_type": "code",
      "execution_count": 2,
      "metadata": {
        "id": "SsjX_im243Uq"
      },
      "outputs": [],
      "source": [
        "# The statespace\n",
        "states = [\"Sleep\",\"Netflix\",\"Gym\"]\n",
        "\n",
        "# Possible sequences of events\n",
        "transition = [[\"SS\",\"SG\",\"SN\"],[\"GS\",\"GG\",\"GN\"],[\"NS\",\"NG\",\"NN\"]]\n",
        "\n",
        "# Probabilities matrix (transition matrix)\n",
        "ProbabilityMatrix = [[0.1,0.7,0.2],[0.6,0.1,0.3],[0.1,0.7,0.2]]"
      ]
    },
    {
      "cell_type": "markdown",
      "metadata": {
        "id": "IOAh4CQIsai3"
      },
      "source": [
        "###<font color='#fd79a8'>  Predict the next state using Markov Chain, based on current state. "
      ]
    },
    {
      "cell_type": "code",
      "execution_count": 3,
      "metadata": {
        "id": "XOSVquCn5CEb"
      },
      "outputs": [],
      "source": [
        "def predict_state(days):\n",
        "    # Choose the starting state\n",
        "    activityToday = \"Netflix\"\n",
        "    print(\"Start state: \" + activityToday)\n",
        "    #starting with the current state only \n",
        "    activityList = [activityToday]\n",
        "    i = 0\n",
        "    # To calculate the probability of the activity she would do, based on current state\n",
        "    prob = 1\n",
        "    while i != days:\n",
        "        if activityToday == \"Sleep\":\n",
        "            change = np.random.choice(transition[0],replace=True,p=ProbabilityMatrix[0])\n",
        "            if change == \"SS\":\n",
        "                prob = prob * 0.1\n",
        "                activityList.append(\"Sleep\")\n",
        "                pass\n",
        "            elif change == \"SG\":\n",
        "                prob = prob * 0.7\n",
        "                activityToday = \"Gym\"\n",
        "                activityList.append(\"Gym\")\n",
        "            else:\n",
        "                prob = prob * 0.2\n",
        "                activityToday = \"Netflix\"\n",
        "                activityList.append(\"Netflix\")\n",
        "        elif activityToday == \"Gym\":\n",
        "            change = np.random.choice(transition[1],replace=True,p=ProbabilityMatrix[1])\n",
        "            if change == \"GG\":\n",
        "                prob = prob * 0.1\n",
        "                activityList.append(\"Gym\")\n",
        "                pass\n",
        "            elif change == \"GS\":\n",
        "                prob = prob * 0.6\n",
        "                activityToday = \"Sleep\"\n",
        "                activityList.append(\"Sleep\")\n",
        "            else:\n",
        "                prob = prob * 0.3\n",
        "                activityToday = \"Netflix\"\n",
        "                activityList.append(\"Netflix\")\n",
        "        elif activityToday == \"Netflix\":\n",
        "            change = np.random.choice(transition[2],replace=True,p=ProbabilityMatrix[2])\n",
        "            if change == \"NN\":\n",
        "                prob = prob * 0.2\n",
        "                activityList.append(\"Netflix\")\n",
        "                pass\n",
        "            elif change == \"NS\":\n",
        "                prob = prob * 0.1\n",
        "                activityToday = \"Sleep\"\n",
        "                activityList.append(\"Sleep\")\n",
        "            else:\n",
        "                prob = prob * 0.7\n",
        "                activityToday = \"Gym\"\n",
        "                activityList.append(\"Gym\")\n",
        "        i += 1  \n",
        "    print(\"Possible states: \" + str(activityList))\n",
        "    print(\"End state after \"+ str(days) + \" days: \" + activityToday)\n",
        "    print(\"Probability of the possible sequence of states: \" + str(prob))\n",
        "\n",
        "# Function that forecasts the possible state for the next 2 days\n"
      ]
    },
    {
      "cell_type": "code",
      "execution_count": 4,
      "metadata": {
        "colab": {
          "base_uri": "https://localhost:8080/"
        },
        "id": "SApkWLXX5HdU",
        "outputId": "6c73db85-79ac-471d-f987-e3dbb3b9b919"
      },
      "outputs": [
        {
          "name": "stdout",
          "output_type": "stream",
          "text": [
            "Start state: Netflix\n",
            "Possible states: ['Netflix', 'Gym']\n",
            "End state after 1 days: Gym\n",
            "Probability of the possible sequence of states: 0.7\n"
          ]
        }
      ],
      "source": [
        "predict_state(1)"
      ]
    },
    {
      "cell_type": "code",
      "execution_count": 4,
      "metadata": {
        "id": "yViKQysw5ezI"
      },
      "outputs": [],
      "source": []
    }
  ],
  "metadata": {
    "colab": {
      "collapsed_sections": [],
      "name": "MarkovChainsComplete.ipynb",
      "provenance": []
    },
    "kernelspec": {
      "display_name": "Python 3",
      "name": "python3"
    },
    "language_info": {
      "codemirror_mode": {
        "name": "ipython",
        "version": 3
      },
      "file_extension": ".py",
      "mimetype": "text/x-python",
      "name": "python",
      "nbconvert_exporter": "python",
      "pygments_lexer": "ipython3",
      "version": "3.8.10"
    }
  },
  "nbformat": 4,
  "nbformat_minor": 0
}
