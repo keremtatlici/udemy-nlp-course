{
  "nbformat": 4,
  "nbformat_minor": 0,
  "metadata": {
    "colab": {
      "name": "Parser.ipynb",
      "provenance": []
    },
    "kernelspec": {
      "name": "python3",
      "display_name": "Python 3"
    },
    "language_info": {
      "name": "python"
    },
    "accelerator": "GPU"
  },
  "cells": [
    {
      "cell_type": "markdown",
      "metadata": {
        "id": "pBgmRiNCZ6xd"
      },
      "source": [
        "##<font color='#fd79a8'>Part of Speech tagging & Parser<br>NER using NLTK"
      ]
    },
    {
      "cell_type": "code",
      "metadata": {
        "id": "vjjFFmmvgMO1",
        "colab": {
          "base_uri": "https://localhost:8080/"
        },
        "outputId": "94d04493-bae9-4301-fffc-3fddff3fb870"
      },
      "source": [
        "# %tensorflow_version 2.x\n",
        "# import tensorflow as tf\n",
        "# device_name = tf.test.gpu_device_name()\n",
        "# if device_name != '/device:GPU:0':\n",
        "#   raise SystemError('GPU device not found')\n",
        "# print('Found GPU at: {}'.format(device_name))"
      ],
      "execution_count": null,
      "outputs": [
        {
          "output_type": "stream",
          "text": [
            "Found GPU at: /device:GPU:0\n"
          ],
          "name": "stdout"
        }
      ]
    },
    {
      "cell_type": "markdown",
      "metadata": {
        "id": "HJL0Z5lwzPmT"
      },
      "source": [
        "[NLTK Perceptron Tagger Source](https://www.nltk.org/_modules/nltk/tag/perceptron.html)"
      ]
    },
    {
      "cell_type": "markdown",
      "metadata": {
        "id": "Vg1aWKXJ0AoA"
      },
      "source": [
        "<font color='#fd79a8'>Tagger\tAccuracy<br>\n",
        "PerceptronTagger\t98.8%<br>\n",
        "NLTKTagger\t94.0%<br>\n",
        "PatternTagger\t91.6%"
      ]
    },
    {
      "cell_type": "code",
      "metadata": {
        "colab": {
          "base_uri": "https://localhost:8080/"
        },
        "id": "ccUi4BcwZ2XJ",
        "outputId": "74ea01ed-b587-44fe-d049-35edc41822e4"
      },
      "source": [
        "import nltk\n",
        "nltk.download('punkt')\n",
        "nltk.download('averaged_perceptron_tagger')\n",
        "from nltk.tokenize import word_tokenize\n",
        "from nltk.tag import pos_tag\n",
        "from nltk import pos_tag, word_tokenize, RegexpParser"
      ],
      "execution_count": null,
      "outputs": [
        {
          "output_type": "stream",
          "text": [
            "[nltk_data] Downloading package punkt to /root/nltk_data...\n",
            "[nltk_data]   Unzipping tokenizers/punkt.zip.\n",
            "[nltk_data] Downloading package averaged_perceptron_tagger to\n",
            "[nltk_data]     /root/nltk_data...\n",
            "[nltk_data]   Unzipping taggers/averaged_perceptron_tagger.zip.\n"
          ],
          "name": "stdout"
        }
      ]
    },
    {
      "cell_type": "markdown",
      "metadata": {
        "id": "hAVyCNvu15ja"
      },
      "source": [
        "<font color=\"pink\">NLTK data package includes a pre-trained Punkt tokenizer<br>[IBM Watson Resource for Part-of-speech tags](https://www.ibm.com/docs/en/wca/3.5.0?topic=analytics-part-speech-tag-sets)<br>[NLTK Chunking notes](http://www.nltk.org/howto/chunk.html#:~:text=Chunking%20uses%20a%20special%20regexp,a%20sentence%20can%20be%20chunked.)"
      ]
    },
    {
      "cell_type": "markdown",
      "metadata": {
        "id": "1PJha0qv1QsK"
      },
      "source": [
        "The perceptron part-of-speech tagger implements part-of-speech tagging using the averaged, structured perceptron algorithm.<br>Structured prediction - For POS tagging - the simplest\n",
        "approach is break the problem down to per-token tagging and then\n",
        "tag left to right"
      ]
    },
    {
      "cell_type": "code",
      "metadata": {
        "id": "ycz5hjnGQZc3"
      },
      "source": [
        "import os\n",
        "import matplotlib as mpl\n",
        "# if os.environ.get('DISPLAY','') == '':\n",
        "#     print('no display found. Using non-interactive Agg backend')\n",
        "#     mpl.use('Agg')\n",
        "# import matplotlib.pyplot as plt"
      ],
      "execution_count": null,
      "outputs": []
    },
    {
      "cell_type": "markdown",
      "metadata": {
        "id": "vbEovUeTTZW2"
      },
      "source": [
        "![picture](https://www.studentuk.com/wp-content/uploads/2016/08/short-story-the-elves-and-the-shoemaker.jpeg)"
      ]
    },
    {
      "cell_type": "markdown",
      "metadata": {
        "id": "Ri3PuYyEbr20"
      },
      "source": [
        "[IBM Watson Resource for Part-of-speech tags](https://www.ibm.com/docs/en/wca/3.5.0?topic=analytics-part-speech-tag-sets)"
      ]
    },
    {
      "cell_type": "markdown",
      "metadata": {
        "id": "7p1DEuf-59uW"
      },
      "source": [
        "Chunk extraction or partial parsing is a process of extracting short phrases from the sentence (tagged with Part-of-Speech).\n",
        "\n",
        "Chunking uses a special regexp syntax for rules that delimit the chunks. These rules must be converted to 'regular' regular expressions before a sentence can be chunked.\n",
        "\n"
      ]
    },
    {
      "cell_type": "code",
      "metadata": {
        "colab": {
          "base_uri": "https://localhost:8080/"
        },
        "id": "2Qt2xaCpbpzl",
        "outputId": "ce498a3c-fa93-4136-a629-10215bcd0bb5"
      },
      "source": [
        "   \n",
        "# Example text\n",
        "sample_text = \"A shoemaker and his wife were very poor.\"\n",
        "   \n",
        "# Find all parts of speech in above sentence\n",
        "tagged = pos_tag(word_tokenize(sample_text))\n",
        "   \n",
        "#Extract all parts of speech from any text\n",
        "chunker = RegexpParser(\"\"\"\n",
        "                       NP: {<DT>?<JJ>*<NN>}    #To extract Noun Phrases\n",
        "                       P: {<IN>}               #To extract Prepositions\n",
        "                       V: {<V.*>}              #To extract Verbs\n",
        "                       PP: {<P> <NP>}          #To extract Prepostional Phrases\n",
        "                       VP: {<V> <NP|PP>*}      #To extarct Verb Phrases\n",
        "                       \"\"\")\n",
        "  \n",
        "# Print all parts of speech in above sentence\n",
        "output = chunker.parse(tagged)\n",
        "print(\"After Extracting\\n\", output)"
      ],
      "execution_count": null,
      "outputs": [
        {
          "output_type": "stream",
          "text": [
            "After Extracting\n",
            " (S\n",
            "  (NP A/DT shoemaker/NN)\n",
            "  and/CC\n",
            "  his/PRP$\n",
            "  (NP wife/NN)\n",
            "  (VP (V were/VBD))\n",
            "  very/RB\n",
            "  poor/JJ\n",
            "  ./.)\n"
          ],
          "name": "stdout"
        }
      ]
    },
    {
      "cell_type": "markdown",
      "metadata": {
        "id": "Jb59fPFWfMRy"
      },
      "source": [
        "Bracketed notation above - another way of representing a parse tree"
      ]
    },
    {
      "cell_type": "code",
      "metadata": {
        "id": "vlR9AuO4i-wQ"
      },
      "source": [
        "# To draw the parse tree\n",
        "output.draw()"
      ],
      "execution_count": null,
      "outputs": []
    }
  ]
}