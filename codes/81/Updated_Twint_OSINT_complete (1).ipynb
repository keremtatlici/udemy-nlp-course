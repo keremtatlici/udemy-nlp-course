{
  "nbformat": 4,
  "nbformat_minor": 0,
  "metadata": {
    "accelerator": "GPU",
    "colab": {
      "name": "Updated_Twint_OSINT_complete.ipynb",
      "provenance": []
    },
    "kernelspec": {
      "display_name": "Python 3",
      "name": "python3"
    },
    "language_info": {
      "name": "python"
    }
  },
  "cells": [
    {
      "cell_type": "markdown",
      "metadata": {
        "id": "MNJUh3j9fRUh"
      },
      "source": [
        "###<font color=\"#48dbfb\" > Twint- Unlimited Tweets Scraping"
      ]
    },
    {
      "cell_type": "code",
      "metadata": {
        "colab": {
          "base_uri": "https://localhost:8080/"
        },
        "id": "8n_dgLutfHjB",
        "outputId": "8e5b9f7c-2149-4f9e-b457-c98542741228"
      },
      "source": [
        "from google.colab import drive\n",
        "drive.mount('gdrive')"
      ],
      "execution_count": null,
      "outputs": [
        {
          "output_type": "stream",
          "text": [
            "Drive already mounted at gdrive; to attempt to forcibly remount, call drive.mount(\"gdrive\", force_remount=True).\n"
          ],
          "name": "stdout"
        }
      ]
    },
    {
      "cell_type": "code",
      "metadata": {
        "id": "P5A7157-f5y5"
      },
      "source": [
        "# Uninstall tensorflow first\n",
        "# #!pip uninstall tensorflow -y\n",
        "# #Install tensorflow-gpu (stable version)\n",
        "# !pip install tensorflow-gpu  # stable"
      ],
      "execution_count": null,
      "outputs": []
    },
    {
      "cell_type": "code",
      "metadata": {
        "colab": {
          "background_save": true
        },
        "id": "arTwt9bbfv1I"
      },
      "source": [
        "# %tensorflow_version 2.x\n",
        "# import tensorflow as tf\n",
        "# device_name = tf.test.gpu_device_name()\n",
        "# if device_name != '/device:GPU:0':\n",
        "#   raise SystemError('GPU device not found')\n",
        "# print('Found GPU at: {}'.format(device_name))"
      ],
      "execution_count": null,
      "outputs": []
    },
    {
      "cell_type": "code",
      "metadata": {
        "colab": {
          "base_uri": "https://localhost:8080/"
        },
        "id": "8q354rWZIbcV",
        "outputId": "80169de3-01c8-41f1-e53e-11170b922504"
      },
      "source": [
        "!git clone --depth=1 https://github.com/twintproject/twint.git\n",
        "!cd twint\n",
        "!pip3 install . -r requirements.txt"
      ],
      "execution_count": null,
      "outputs": [
        {
          "output_type": "stream",
          "text": [
            "Cloning into 'twint'...\n",
            "remote: Enumerating objects: 47, done.\u001b[K\n",
            "remote: Counting objects: 100% (47/47), done.\u001b[K\n",
            "remote: Compressing objects: 100% (44/44), done.\u001b[K\n",
            "remote: Total 47 (delta 3), reused 14 (delta 0), pack-reused 0\u001b[K\n",
            "Unpacking objects: 100% (47/47), done.\n",
            "\u001b[31mERROR: Directory '.' is not installable. Neither 'setup.py' nor 'pyproject.toml' found.\u001b[0m\n"
          ],
          "name": "stdout"
        }
      ]
    },
    {
      "cell_type": "code",
      "metadata": {
        "id": "jxV4iYFmJRc-"
      },
      "source": [
        "!pip3 install --user --upgrade git+https://github.com/twintproject/twint.git@origin/master#egg=twint"
      ],
      "execution_count": null,
      "outputs": []
    },
    {
      "cell_type": "markdown",
      "metadata": {
        "id": "xB20AAEEJgn1"
      },
      "source": [
        "#<font color=\"#48dbfb\" >****************Restart Runtime************************"
      ]
    },
    {
      "cell_type": "code",
      "metadata": {
        "id": "MTSOkuubgPxH"
      },
      "source": [
        "import twint"
      ],
      "execution_count": null,
      "outputs": []
    },
    {
      "cell_type": "markdown",
      "metadata": {
        "id": "J3W4KN2e3y_g"
      },
      "source": [
        "Solve compatibility issues with notebooks and RunTime errors."
      ]
    },
    {
      "cell_type": "code",
      "metadata": {
        "id": "iYU_DZ5ioVKB"
      },
      "source": [
        "import pandas\n",
        "import nest_asyncio \n",
        "nest_asyncio.apply()"
      ],
      "execution_count": null,
      "outputs": []
    },
    {
      "cell_type": "markdown",
      "metadata": {
        "id": "d7iPFmCPuks_"
      },
      "source": [
        "<font color=\"turquoise\"> Set up TWINT config - this starts a new twint configuration<br>#then - pass in different configuration options - what u want to scrape"
      ]
    },
    {
      "cell_type": "code",
      "metadata": {
        "id": "muZdlw5fgW4-"
      },
      "source": [
        "c = twint.Config() \n",
        "c.Store_csv = True\n",
        "c.Store_object = True\n",
        "c.Pandas = True\n",
        "c.Custom[\"tweet\"] = [\"id\", \"date\", \"time\", \"tweet\", \"hashtags\",\"cashtags\",\"retweets_count\", \"likes_count\"]\n",
        "c.Search = \"#bitcoin\" #let's start with scraping for bitcoin \n",
        "c.Limit = 500\n",
        "c.Since = \"2021-06-01\"\n",
        "c.Until = \"2021-06-30\"\n",
        "c.Lang = 'en'"
      ],
      "execution_count": null,
      "outputs": []
    },
    {
      "cell_type": "code",
      "metadata": {
        "id": "nqpY2zENgYZ_"
      },
      "source": [
        "twint.run.Search(c)"
      ],
      "execution_count": null,
      "outputs": []
    },
    {
      "cell_type": "code",
      "metadata": {
        "id": "mjuy4Il7kZag"
      },
      "source": [
        "twint.storage.panda.Tweets_df.head()"
      ],
      "execution_count": null,
      "outputs": []
    },
    {
      "cell_type": "code",
      "metadata": {
        "id": "Qm3-cfLMvDzT"
      },
      "source": [
        "c=twint.Config()\n",
        "c.Store_object = True\n",
        "c.Pandas = True\n",
        "c.Username =\"elonmusk\"\n",
        "#c.Limit = 30000\n",
        "c.Since = \"2020-01-01\"\n",
        "c.Until = \"2021-01-31\""
      ],
      "execution_count": null,
      "outputs": []
    },
    {
      "cell_type": "code",
      "metadata": {
        "id": "sneOewxBkU0Y"
      },
      "source": [
        "twint.storage.panda.Tweets_df['tweet'].count()"
      ],
      "execution_count": null,
      "outputs": []
    },
    {
      "cell_type": "code",
      "metadata": {
        "id": "oJkKgZL9kj-c"
      },
      "source": [
        "twint.storage.panda.Tweets_df.to_csv('elonmusk2020JAN2021.csv')\n",
        "#copy to csv\n",
        "!cp elonmusk2020JAN2021.csv \"gdrive/My Drive/ScrapedTweets\""
      ],
      "execution_count": null,
      "outputs": []
    },
    {
      "cell_type": "markdown",
      "metadata": {
        "id": "atxLW-7wGagH"
      },
      "source": [
        "<font color=\"turquoise\"> Search via Geographic Location <br>c.Geo = “lat,lon, radius”"
      ]
    },
    {
      "cell_type": "code",
      "metadata": {
        "id": "h_xTbQn3I_mQ"
      },
      "source": [
        "c=twint.Config()\n",
        "c.Store_object = True\n",
        "c.Pandas = True\n",
        "c.Geo = “51.507351,-0.127, 5km”\n",
        "# c.Username =\"elonmusk\"\n",
        "# c.Search = \"covid\"\n",
        "# #c.Limit = 30000\n",
        "c.Since = \"2021-01-01\"\n",
        "c.Until = \"2021-01-31\"\n",
        "# c.Lang = 'en'\n"
      ],
      "execution_count": null,
      "outputs": []
    }
  ]
}