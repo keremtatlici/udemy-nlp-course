{
  "cells": [
    {
      "cell_type": "markdown",
      "metadata": {
        "id": "MNJUh3j9fRUh"
      },
      "source": [
        "###<font color=\"#48dbfb\" > Twint- Unlimited Tweets Scraping"
      ]
    },
    {
      "cell_type": "markdown",
      "metadata": {
        "colab": {
          "base_uri": "https://localhost:8080/"
        },
        "id": "8n_dgLutfHjB",
        "outputId": "8e5b9f7c-2149-4f9e-b457-c98542741228"
      },
      "source": [
        "from google.colab import drive\n",
        "drive.mount('gdrive')"
      ]
    },
    {
      "cell_type": "code",
      "execution_count": null,
      "metadata": {
        "id": "P5A7157-f5y5"
      },
      "outputs": [],
      "source": [
        "# Uninstall tensorflow first\n",
        "# #!pip uninstall tensorflow -y\n",
        "# #Install tensorflow-gpu (stable version)\n",
        "# !pip install tensorflow-gpu  # stable"
      ]
    },
    {
      "cell_type": "code",
      "execution_count": null,
      "metadata": {
        "colab": {
          "background_save": true
        },
        "id": "arTwt9bbfv1I"
      },
      "outputs": [],
      "source": [
        "# %tensorflow_version 2.x\n",
        "# import tensorflow as tf\n",
        "# device_name = tf.test.gpu_device_name()\n",
        "# if device_name != '/device:GPU:0':\n",
        "#   raise SystemError('GPU device not found')\n",
        "# print('Found GPU at: {}'.format(device_name))"
      ]
    },
    {
      "cell_type": "markdown",
      "metadata": {
        "colab": {
          "base_uri": "https://localhost:8080/"
        },
        "id": "8q354rWZIbcV",
        "outputId": "80169de3-01c8-41f1-e53e-11170b922504"
      },
      "source": [
        "!git clone --depth=1 https://github.com/twintproject/twint.git\n",
        "!cd twint\n",
        "!pip3 install . -r requirements.txt"
      ]
    },
    {
      "cell_type": "code",
      "execution_count": null,
      "metadata": {
        "id": "jxV4iYFmJRc-"
      },
      "outputs": [],
      "source": [
        "!pip3 install --user --upgrade git+https://github.com/twintproject/twint.git@origin/master#egg=twint"
      ]
    },
    {
      "cell_type": "markdown",
      "metadata": {
        "id": "xB20AAEEJgn1"
      },
      "source": [
        "#<font color=\"#48dbfb\" >****************Restart Runtime************************"
      ]
    },
    {
      "cell_type": "code",
      "execution_count": 1,
      "metadata": {
        "id": "MTSOkuubgPxH"
      },
      "outputs": [],
      "source": [
        "import twint"
      ]
    },
    {
      "cell_type": "markdown",
      "metadata": {
        "id": "J3W4KN2e3y_g"
      },
      "source": [
        "Solve compatibility issues with notebooks and RunTime errors."
      ]
    },
    {
      "cell_type": "code",
      "execution_count": 2,
      "metadata": {
        "id": "iYU_DZ5ioVKB"
      },
      "outputs": [],
      "source": [
        "import pandas\n",
        "import nest_asyncio \n",
        "nest_asyncio.apply()"
      ]
    },
    {
      "cell_type": "markdown",
      "metadata": {
        "id": "d7iPFmCPuks_"
      },
      "source": [
        "<font color=\"turquoise\"> Set up TWINT config - this starts a new twint configuration<br>#then - pass in different configuration options - what u want to scrape"
      ]
    },
    {
      "cell_type": "code",
      "execution_count": null,
      "metadata": {
        "id": "muZdlw5fgW4-"
      },
      "outputs": [],
      "source": [
        "c = twint.Config() \n",
        "c.Store_csv = True\n",
        "c.Store_object = True\n",
        "c.Pandas = True\n",
        "c.Custom[\"tweet\"] = [\"id\", \"date\", \"time\", \"tweet\", \"hashtags\",\"cashtags\",\"retweets_count\", \"likes_count\"]\n",
        "c.Search = \"#bitcoin\" #let's start with scraping for bitcoin \n",
        "c.Limit = 500\n",
        "c.Since = \"2021-06-01\"\n",
        "c.Until = \"2021-06-30\"\n",
        "c.Lang = 'en'"
      ]
    },
    {
      "cell_type": "code",
      "execution_count": null,
      "metadata": {
        "id": "nqpY2zENgYZ_"
      },
      "outputs": [],
      "source": [
        "twint.run.Search(c)"
      ]
    },
    {
      "cell_type": "code",
      "execution_count": null,
      "metadata": {
        "id": "mjuy4Il7kZag"
      },
      "outputs": [],
      "source": [
        "twint.storage.panda.Tweets_df.head()"
      ]
    },
    {
      "cell_type": "code",
      "execution_count": null,
      "metadata": {
        "id": "Qm3-cfLMvDzT"
      },
      "outputs": [],
      "source": [
        "c=twint.Config()\n",
        "c.Store_object = True\n",
        "c.Pandas = True\n",
        "c.Username =\"elonmusk\"\n",
        "#c.Limit = 30000\n",
        "c.Since = \"2020-01-01\"\n",
        "c.Until = \"2021-01-31\""
      ]
    },
    {
      "cell_type": "code",
      "execution_count": null,
      "metadata": {
        "id": "sneOewxBkU0Y"
      },
      "outputs": [],
      "source": [
        "twint.storage.panda.Tweets_df['tweet'].count()"
      ]
    },
    {
      "cell_type": "code",
      "execution_count": null,
      "metadata": {
        "id": "oJkKgZL9kj-c"
      },
      "outputs": [],
      "source": [
        "twint.storage.panda.Tweets_df.to_csv('elonmusk2020JAN2021.csv')\n",
        "#copy to csv\n",
        "!cp elonmusk2020JAN2021.csv \"gdrive/My Drive/ScrapedTweets\""
      ]
    },
    {
      "cell_type": "markdown",
      "metadata": {
        "id": "atxLW-7wGagH"
      },
      "source": [
        "<font color=\"turquoise\"> Search via Geographic Location <br>c.Geo = “lat,lon, radius”"
      ]
    },
    {
      "cell_type": "code",
      "execution_count": 3,
      "metadata": {
        "id": "h_xTbQn3I_mQ"
      },
      "outputs": [],
      "source": [
        "c=twint.Config()\n",
        "c.Store_object = True\n",
        "c.Pandas = True\n",
        "c.Geo = \"51.507351,-0.127, 5km\"\n",
        "# c.Username =\"elonmusk\"\n",
        "# c.Search = \"covid\"\n",
        "# #c.Limit = 30000\n",
        "c.Since = \"2021-01-01\"\n",
        "c.Until = \"2021-01-31\"\n",
        "# c.Lang = 'en'\n"
      ]
    },
    {
      "cell_type": "code",
      "execution_count": 4,
      "metadata": {},
      "outputs": [
        {
          "name": "stdout",
          "output_type": "stream",
          "text": [
            "1355666835212009474 2021-01-31 02:58:55 +0300 <RaMalfaisal> 23-01-2021. First snow of the year ✨ The difference between Saturday and Sunday ♥️.  https://t.co/Y0yUFRywcd\n",
            "1355666352984494081 2021-01-31 02:57:00 +0300 <Ryan_Colaco> @juiceboxmisha Yooooo that poor bunny rabbit is moving its nose even after she put it in the freezer?!?!?! 😪\n",
            "1355666352380534794 2021-01-31 02:57:00 +0300 <caroline121diet> Just posted a photo @ London Borough of Islington  https://t.co/rJH6VVOxxT\n",
            "1355665964638076929 2021-01-31 02:55:27 +0300 <jaybeezle> You've been thinking it wrong Mikel\n",
            "1355665836279803911 2021-01-31 02:54:57 +0300 <VeraMirosavlje1> @Chris3BM Good night Chris 😴\n",
            "1355665756588044289 2021-01-31 02:54:38 +0300 <LucyDaviesCOO> Loved Laure and Gilou’s Romeo &amp; Juliet style bit - ‘Just go’, ‘no’ - so tense and also - what love between them #Spiral #engrenages\n",
            "1355665657854095367 2021-01-31 02:54:14 +0300 <ootaibiii> تهمني وتعنى لي مهما قست الاقدار\n",
            "1355665571371745281 2021-01-31 02:53:53 +0300 <jaybeezle> Ted Laaso actually very good\n",
            "1355665109142695938 2021-01-31 02:52:03 +0300 <Dawgnuts1> @Jorraptor Just watched the latest video and I have come to AC because of Valhalla and I love the RPG elements of the last two games.  Also wondering of you can do a lore video about Isu and what it is for us new comers and what the big deal is?\n",
            "1355664842221367303 2021-01-31 02:51:00 +0300 <chef_am> Just posted a photo @ London, United Kingdom  https://t.co/rNUhO2Ahwl\n",
            "1355664710595698688 2021-01-31 02:50:28 +0300 <PamPamHaynes> Posing with my book. @ London Bridge  https://t.co/FDH4thdweK\n",
            "1355664221388890116 2021-01-31 02:48:32 +0300 <ishtiaq_khattak> @ImranRiazFan Gillay teetar wala sarkar\n",
            "1355663524966658051 2021-01-31 02:45:46 +0300 <ootaibiii> ماتغيرنا الليالي ولا طول الغياب -\n",
            "1355663144371318793 2021-01-31 02:44:15 +0300 <rudebwoyben1> @anditstezzie @ChantayyJayy Enough cases from Stoke Newington station to back this up.\n",
            "1355662897960116224 2021-01-31 02:43:16 +0300 <londonmanblog> #thelondonmanblog #travel #travelphotography #photography #nature #travelgram #love #photooftheday #instagood #wanderlust #instatravel #adventure #travelblogger #trip #picoftheday #vacation #explore  #traveling #instagram #landscape #traveler #travelling #beautiful #holiday  https://t.co/mENKrZ3Jsu\n",
            "1355662640899641345 2021-01-31 02:42:15 +0300 <NicoleBdsm> @MissFoxxFD Haha it entertained me. 😁\n",
            "1355662515624140800 2021-01-31 02:41:45 +0300 <rudebwoyben1> @bourgeoismelt @Martin_Abrams @jrc1921 Oh what japes! I bet Jason Lee looks back at this and laughs!\n",
            "1355662098274136065 2021-01-31 02:40:05 +0300 <ayricabkz> Misslendin :(  https://t.co/QqhCcZOe3d\n",
            "1355662052728205313 2021-01-31 02:39:55 +0300 <fatzzinooo> can we normalise boys/ men being good with kids? what’s the point in being a dad if you can’t take care of kids?\n",
            "1355661693297295364 2021-01-31 02:38:29 +0300 <celalcanbilgic> I've bought this hoodie as a source of motivation, which I thought would help me to cope with depression. Now, the only difference is I'm depressed in a nice hoodie.  https://t.co/T1MFNv5ZsA\n",
            "[!] No more data! Scraping will stop now.\n",
            "found 0 deleted tweets in this search.\n"
          ]
        }
      ],
      "source": [
        "twint.run.Search(c)"
      ]
    },
    {
      "cell_type": "code",
      "execution_count": 5,
      "metadata": {},
      "outputs": [
        {
          "data": {
            "text/html": [
              "<div>\n",
              "<style scoped>\n",
              "    .dataframe tbody tr th:only-of-type {\n",
              "        vertical-align: middle;\n",
              "    }\n",
              "\n",
              "    .dataframe tbody tr th {\n",
              "        vertical-align: top;\n",
              "    }\n",
              "\n",
              "    .dataframe thead th {\n",
              "        text-align: right;\n",
              "    }\n",
              "</style>\n",
              "<table border=\"1\" class=\"dataframe\">\n",
              "  <thead>\n",
              "    <tr style=\"text-align: right;\">\n",
              "      <th></th>\n",
              "      <th>id</th>\n",
              "      <th>conversation_id</th>\n",
              "      <th>created_at</th>\n",
              "      <th>date</th>\n",
              "      <th>timezone</th>\n",
              "      <th>place</th>\n",
              "      <th>tweet</th>\n",
              "      <th>language</th>\n",
              "      <th>hashtags</th>\n",
              "      <th>cashtags</th>\n",
              "      <th>...</th>\n",
              "      <th>geo</th>\n",
              "      <th>source</th>\n",
              "      <th>user_rt_id</th>\n",
              "      <th>user_rt</th>\n",
              "      <th>retweet_id</th>\n",
              "      <th>reply_to</th>\n",
              "      <th>retweet_date</th>\n",
              "      <th>translate</th>\n",
              "      <th>trans_src</th>\n",
              "      <th>trans_dest</th>\n",
              "    </tr>\n",
              "  </thead>\n",
              "  <tbody>\n",
              "    <tr>\n",
              "      <th>0</th>\n",
              "      <td>1355666835212009474</td>\n",
              "      <td>1355666835212009474</td>\n",
              "      <td>1.612051e+12</td>\n",
              "      <td>2021-01-31 02:58:55</td>\n",
              "      <td>+0300</td>\n",
              "      <td></td>\n",
              "      <td>23-01-2021. First snow of the year ✨ The diffe...</td>\n",
              "      <td>en</td>\n",
              "      <td>[]</td>\n",
              "      <td>[]</td>\n",
              "      <td>...</td>\n",
              "      <td>51.507351,-0.127,5km</td>\n",
              "      <td></td>\n",
              "      <td></td>\n",
              "      <td></td>\n",
              "      <td></td>\n",
              "      <td>[]</td>\n",
              "      <td></td>\n",
              "      <td></td>\n",
              "      <td></td>\n",
              "      <td></td>\n",
              "    </tr>\n",
              "    <tr>\n",
              "      <th>1</th>\n",
              "      <td>1355666352984494081</td>\n",
              "      <td>1355665296854548482</td>\n",
              "      <td>1.612051e+12</td>\n",
              "      <td>2021-01-31 02:57:00</td>\n",
              "      <td>+0300</td>\n",
              "      <td></td>\n",
              "      <td>@juiceboxmisha Yooooo that poor bunny rabbit i...</td>\n",
              "      <td>en</td>\n",
              "      <td>[]</td>\n",
              "      <td>[]</td>\n",
              "      <td>...</td>\n",
              "      <td>51.507351,-0.127,5km</td>\n",
              "      <td></td>\n",
              "      <td></td>\n",
              "      <td></td>\n",
              "      <td></td>\n",
              "      <td>[{'screen_name': 'juiceboxmisha', 'name': 'hse...</td>\n",
              "      <td></td>\n",
              "      <td></td>\n",
              "      <td></td>\n",
              "      <td></td>\n",
              "    </tr>\n",
              "    <tr>\n",
              "      <th>2</th>\n",
              "      <td>1355666352380534794</td>\n",
              "      <td>1355666352380534794</td>\n",
              "      <td>1.612051e+12</td>\n",
              "      <td>2021-01-31 02:57:00</td>\n",
              "      <td>+0300</td>\n",
              "      <td>{'type': 'Point', 'coordinates': [51.5445, -0....</td>\n",
              "      <td>Just posted a photo @ London Borough of Isling...</td>\n",
              "      <td>en</td>\n",
              "      <td>[]</td>\n",
              "      <td>[]</td>\n",
              "      <td>...</td>\n",
              "      <td>51.507351,-0.127,5km</td>\n",
              "      <td></td>\n",
              "      <td></td>\n",
              "      <td></td>\n",
              "      <td></td>\n",
              "      <td>[]</td>\n",
              "      <td></td>\n",
              "      <td></td>\n",
              "      <td></td>\n",
              "      <td></td>\n",
              "    </tr>\n",
              "    <tr>\n",
              "      <th>3</th>\n",
              "      <td>1355665964638076929</td>\n",
              "      <td>1355665964638076929</td>\n",
              "      <td>1.612051e+12</td>\n",
              "      <td>2021-01-31 02:55:27</td>\n",
              "      <td>+0300</td>\n",
              "      <td></td>\n",
              "      <td>You've been thinking it wrong Mikel</td>\n",
              "      <td>en</td>\n",
              "      <td>[]</td>\n",
              "      <td>[]</td>\n",
              "      <td>...</td>\n",
              "      <td>51.507351,-0.127,5km</td>\n",
              "      <td></td>\n",
              "      <td></td>\n",
              "      <td></td>\n",
              "      <td></td>\n",
              "      <td>[]</td>\n",
              "      <td></td>\n",
              "      <td></td>\n",
              "      <td></td>\n",
              "      <td></td>\n",
              "    </tr>\n",
              "    <tr>\n",
              "      <th>4</th>\n",
              "      <td>1355665836279803911</td>\n",
              "      <td>1355664540457951233</td>\n",
              "      <td>1.612051e+12</td>\n",
              "      <td>2021-01-31 02:54:57</td>\n",
              "      <td>+0300</td>\n",
              "      <td></td>\n",
              "      <td>@Chris3BM Good night Chris 😴</td>\n",
              "      <td>en</td>\n",
              "      <td>[]</td>\n",
              "      <td>[]</td>\n",
              "      <td>...</td>\n",
              "      <td>51.507351,-0.127,5km</td>\n",
              "      <td></td>\n",
              "      <td></td>\n",
              "      <td></td>\n",
              "      <td></td>\n",
              "      <td>[{'screen_name': 'Chris3BM', 'name': 'Chris3BM...</td>\n",
              "      <td></td>\n",
              "      <td></td>\n",
              "      <td></td>\n",
              "      <td></td>\n",
              "    </tr>\n",
              "  </tbody>\n",
              "</table>\n",
              "<p>5 rows × 38 columns</p>\n",
              "</div>"
            ],
            "text/plain": [
              "                    id      conversation_id    created_at  \\\n",
              "0  1355666835212009474  1355666835212009474  1.612051e+12   \n",
              "1  1355666352984494081  1355665296854548482  1.612051e+12   \n",
              "2  1355666352380534794  1355666352380534794  1.612051e+12   \n",
              "3  1355665964638076929  1355665964638076929  1.612051e+12   \n",
              "4  1355665836279803911  1355664540457951233  1.612051e+12   \n",
              "\n",
              "                  date timezone  \\\n",
              "0  2021-01-31 02:58:55    +0300   \n",
              "1  2021-01-31 02:57:00    +0300   \n",
              "2  2021-01-31 02:57:00    +0300   \n",
              "3  2021-01-31 02:55:27    +0300   \n",
              "4  2021-01-31 02:54:57    +0300   \n",
              "\n",
              "                                               place  \\\n",
              "0                                                      \n",
              "1                                                      \n",
              "2  {'type': 'Point', 'coordinates': [51.5445, -0....   \n",
              "3                                                      \n",
              "4                                                      \n",
              "\n",
              "                                               tweet language hashtags  \\\n",
              "0  23-01-2021. First snow of the year ✨ The diffe...       en       []   \n",
              "1  @juiceboxmisha Yooooo that poor bunny rabbit i...       en       []   \n",
              "2  Just posted a photo @ London Borough of Isling...       en       []   \n",
              "3                You've been thinking it wrong Mikel       en       []   \n",
              "4                       @Chris3BM Good night Chris 😴       en       []   \n",
              "\n",
              "  cashtags  ...                   geo source user_rt_id user_rt  retweet_id  \\\n",
              "0       []  ...  51.507351,-0.127,5km                                         \n",
              "1       []  ...  51.507351,-0.127,5km                                         \n",
              "2       []  ...  51.507351,-0.127,5km                                         \n",
              "3       []  ...  51.507351,-0.127,5km                                         \n",
              "4       []  ...  51.507351,-0.127,5km                                         \n",
              "\n",
              "                                            reply_to retweet_date translate  \\\n",
              "0                                                 []                          \n",
              "1  [{'screen_name': 'juiceboxmisha', 'name': 'hse...                          \n",
              "2                                                 []                          \n",
              "3                                                 []                          \n",
              "4  [{'screen_name': 'Chris3BM', 'name': 'Chris3BM...                          \n",
              "\n",
              "  trans_src  trans_dest  \n",
              "0                        \n",
              "1                        \n",
              "2                        \n",
              "3                        \n",
              "4                        \n",
              "\n",
              "[5 rows x 38 columns]"
            ]
          },
          "execution_count": 5,
          "metadata": {},
          "output_type": "execute_result"
        }
      ],
      "source": [
        "twint.storage.panda.Tweets_df.head()"
      ]
    },
    {
      "cell_type": "code",
      "execution_count": null,
      "metadata": {},
      "outputs": [],
      "source": []
    }
  ],
  "metadata": {
    "accelerator": "GPU",
    "colab": {
      "name": "Updated_Twint_OSINT_complete.ipynb",
      "provenance": []
    },
    "kernelspec": {
      "display_name": "Python 3",
      "name": "python3"
    },
    "language_info": {
      "codemirror_mode": {
        "name": "ipython",
        "version": 3
      },
      "file_extension": ".py",
      "mimetype": "text/x-python",
      "name": "python",
      "nbconvert_exporter": "python",
      "pygments_lexer": "ipython3",
      "version": "3.8.10"
    }
  },
  "nbformat": 4,
  "nbformat_minor": 0
}
