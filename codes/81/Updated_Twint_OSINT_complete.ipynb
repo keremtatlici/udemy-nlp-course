{
  "cells": [
    {
      "cell_type": "markdown",
      "metadata": {
        "id": "MNJUh3j9fRUh"
      },
      "source": [
        "###<font color=\"#48dbfb\" > Twint- Unlimited Tweets Scraping"
      ]
    },
    {
      "cell_type": "markdown",
      "metadata": {
        "colab": {
          "base_uri": "https://localhost:8080/"
        },
        "id": "8n_dgLutfHjB",
        "outputId": "8e5b9f7c-2149-4f9e-b457-c98542741228"
      },
      "source": [
        "from google.colab import drive\n",
        "drive.mount('gdrive')"
      ]
    },
    {
      "cell_type": "code",
      "execution_count": 1,
      "metadata": {
        "id": "P5A7157-f5y5"
      },
      "outputs": [],
      "source": [
        "# Uninstall tensorflow first\n",
        "# #!pip uninstall tensorflow -y\n",
        "# #Install tensorflow-gpu (stable version)\n",
        "# !pip install tensorflow-gpu  # stable"
      ]
    },
    {
      "cell_type": "code",
      "execution_count": 2,
      "metadata": {
        "colab": {
          "background_save": true
        },
        "id": "arTwt9bbfv1I"
      },
      "outputs": [],
      "source": [
        "# %tensorflow_version 2.x\n",
        "# import tensorflow as tf\n",
        "# device_name = tf.test.gpu_device_name()\n",
        "# if device_name != '/device:GPU:0':\n",
        "#   raise SystemError('GPU device not found')\n",
        "# print('Found GPU at: {}'.format(device_name))"
      ]
    },
    {
      "cell_type": "markdown",
      "metadata": {
        "colab": {
          "base_uri": "https://localhost:8080/"
        },
        "id": "8q354rWZIbcV",
        "outputId": "80169de3-01c8-41f1-e53e-11170b922504"
      },
      "source": [
        "!git clone --depth=1 https://github.com/twintproject/twint.git\n",
        "!cd twint\n",
        "!pip3 install . -r requirements.txt"
      ]
    },
    {
      "cell_type": "code",
      "execution_count": 3,
      "metadata": {
        "id": "jxV4iYFmJRc-"
      },
      "outputs": [
        {
          "name": "stdout",
          "output_type": "stream",
          "text": [
            "Collecting twint\n",
            "  Cloning https://github.com/twintproject/twint.git (to revision origin/master) to /tmp/pip-install-j8j3d3wf/twint_5a2bcf9adc184be59ce364d7d3f3d87c\n",
            "  Running command git clone --filter=blob:none -q https://github.com/twintproject/twint.git /tmp/pip-install-j8j3d3wf/twint_5a2bcf9adc184be59ce364d7d3f3d87c\n",
            "\u001b[33m  WARNING: Did not find branch or tag 'origin/master', assuming revision or ref.\u001b[0m\n",
            "  Running command git checkout -q origin/master\n",
            "  Resolved https://github.com/twintproject/twint.git to commit origin/master\n",
            "  Preparing metadata (setup.py) ... \u001b[?25ldone\n",
            "\u001b[?25hRequirement already satisfied: aiodns in /home/shakabrah/.local/lib/python3.8/site-packages (from twint) (3.0.0)\n",
            "Requirement already satisfied: aiohttp in /home/shakabrah/.local/lib/python3.8/site-packages (from twint) (3.7.0)\n",
            "Requirement already satisfied: aiohttp_socks in /home/shakabrah/.local/lib/python3.8/site-packages (from twint) (0.4.1)\n",
            "Requirement already satisfied: beautifulsoup4 in /home/shakabrah/.local/lib/python3.8/site-packages (from twint) (4.10.0)\n",
            "Requirement already satisfied: cchardet in /home/shakabrah/.local/lib/python3.8/site-packages (from twint) (2.1.7)\n",
            "Requirement already satisfied: dataclasses in /home/shakabrah/.local/lib/python3.8/site-packages (from twint) (0.6)\n",
            "Requirement already satisfied: elasticsearch in /home/shakabrah/.local/lib/python3.8/site-packages (from twint) (7.16.1)\n",
            "Requirement already satisfied: fake-useragent in /home/shakabrah/.local/lib/python3.8/site-packages (from twint) (0.1.11)\n",
            "Requirement already satisfied: geopy in /home/shakabrah/.local/lib/python3.8/site-packages (from twint) (2.2.0)\n",
            "Requirement already satisfied: googletransx in /home/shakabrah/.local/lib/python3.8/site-packages (from twint) (2.4.2)\n",
            "Requirement already satisfied: pandas in /home/shakabrah/.local/lib/python3.8/site-packages (from twint) (1.3.3)\n",
            "Requirement already satisfied: pysocks in /home/shakabrah/.local/lib/python3.8/site-packages (from twint) (1.7.1)\n",
            "Requirement already satisfied: schedule in /home/shakabrah/.local/lib/python3.8/site-packages (from twint) (1.1.0)\n",
            "Requirement already satisfied: pycares>=4.0.0 in /home/shakabrah/.local/lib/python3.8/site-packages (from aiodns->twint) (4.1.2)\n",
            "Requirement already satisfied: attrs>=17.3.0 in /home/shakabrah/.local/lib/python3.8/site-packages (from aiohttp->twint) (21.2.0)\n",
            "Requirement already satisfied: multidict<7.0,>=4.5 in /home/shakabrah/.local/lib/python3.8/site-packages (from aiohttp->twint) (5.2.0)\n",
            "Requirement already satisfied: chardet<4.0,>=2.0 in /usr/lib/python3/dist-packages (from aiohttp->twint) (3.0.4)\n",
            "Requirement already satisfied: yarl<2.0,>=1.0 in /home/shakabrah/.local/lib/python3.8/site-packages (from aiohttp->twint) (1.7.2)\n",
            "Requirement already satisfied: async-timeout<4.0,>=3.0 in /home/shakabrah/.local/lib/python3.8/site-packages (from aiohttp->twint) (3.0.1)\n",
            "Requirement already satisfied: soupsieve>1.2 in /home/shakabrah/.local/lib/python3.8/site-packages (from beautifulsoup4->twint) (2.3.1)\n",
            "Requirement already satisfied: certifi in /usr/lib/python3/dist-packages (from elasticsearch->twint) (2019.11.28)\n",
            "Requirement already satisfied: urllib3<2,>=1.21.1 in /usr/lib/python3/dist-packages (from elasticsearch->twint) (1.25.8)\n",
            "Requirement already satisfied: geographiclib<2,>=1.49 in /home/shakabrah/.local/lib/python3.8/site-packages (from geopy->twint) (1.52)\n",
            "Requirement already satisfied: requests in /usr/lib/python3/dist-packages (from googletransx->twint) (2.22.0)\n",
            "Requirement already satisfied: numpy>=1.17.3 in /home/shakabrah/.local/lib/python3.8/site-packages (from pandas->twint) (1.19.5)\n",
            "Requirement already satisfied: python-dateutil>=2.7.3 in /usr/lib/python3/dist-packages (from pandas->twint) (2.7.3)\n",
            "Requirement already satisfied: pytz>=2017.3 in /usr/lib/python3/dist-packages (from pandas->twint) (2019.3)\n",
            "Requirement already satisfied: cffi>=1.5.0 in /home/shakabrah/.local/lib/python3.8/site-packages (from pycares>=4.0.0->aiodns->twint) (1.14.6)\n",
            "Requirement already satisfied: idna>=2.0 in /usr/lib/python3/dist-packages (from yarl<2.0,>=1.0->aiohttp->twint) (2.8)\n",
            "Requirement already satisfied: pycparser in /home/shakabrah/.local/lib/python3.8/site-packages (from cffi>=1.5.0->pycares>=4.0.0->aiodns->twint) (2.20)\n"
          ]
        }
      ],
      "source": [
        "!pip3 install --user --upgrade git+https://github.com/twintproject/twint.git@origin/master#egg=twint"
      ]
    },
    {
      "cell_type": "markdown",
      "metadata": {
        "id": "xB20AAEEJgn1"
      },
      "source": [
        "#<font color=\"#48dbfb\" >****************Restart Runtime************************"
      ]
    },
    {
      "cell_type": "code",
      "execution_count": 4,
      "metadata": {
        "id": "MTSOkuubgPxH"
      },
      "outputs": [],
      "source": [
        "import twint"
      ]
    },
    {
      "cell_type": "markdown",
      "metadata": {
        "id": "J3W4KN2e3y_g"
      },
      "source": [
        "Solve compatibility issues with notebooks and RunTime errors."
      ]
    },
    {
      "cell_type": "code",
      "execution_count": 5,
      "metadata": {
        "id": "iYU_DZ5ioVKB"
      },
      "outputs": [],
      "source": [
        "import pandas\n",
        "import nest_asyncio \n",
        "nest_asyncio.apply()"
      ]
    },
    {
      "cell_type": "markdown",
      "metadata": {
        "id": "d7iPFmCPuks_"
      },
      "source": [
        "<font color=\"turquoise\"> Set up TWINT config - this starts a new twint configuration<br>#then - pass in different configuration options - what u want to scrape"
      ]
    },
    {
      "cell_type": "code",
      "execution_count": 6,
      "metadata": {
        "id": "muZdlw5fgW4-"
      },
      "outputs": [],
      "source": [
        "c = twint.Config() \n",
        "c.Store_csv = True\n",
        "c.Store_object = True\n",
        "c.Pandas = True\n",
        "c.Custom[\"tweet\"] = [\"id\", \"date\", \"time\", \"tweet\", \"hashtags\",\"cashtags\",\"retweets_count\", \"likes_count\"]\n",
        "c.Search = \"#bitcoin\" #let's start with scraping for bitcoin \n",
        "c.Limit = 500\n",
        "#c.Since = \"2021-06-01\"\n",
        "#c.Until = \"2021-06-30\"\n",
        "c.Lang = 'en'"
      ]
    },
    {
      "cell_type": "code",
      "execution_count": 7,
      "metadata": {
        "id": "nqpY2zENgYZ_"
      },
      "outputs": [
        {
          "name": "stdout",
          "output_type": "stream",
          "text": [
            "1473992146550145027 2021-12-23 15:21:27 +0300 <SkrillCrypto> The disadvantages of mining are high electricity costs, BTC being less valuable in a bear market, a risk of the network being hacked and 'halvings' where it becomes harder to mine for #bitcoin.\n",
            "1473992136483868680 2021-12-23 15:21:25 +0300 <SkrillCrypto> #Bitcoin mining is how bitcoins enter into circulation. It's also how new transactions are confirmed by the network and a critical component of the maintenance and development of the blockchain ledger.\n",
            "1473992133224841222 2021-12-23 15:21:24 +0300 <SkrillCrypto> We've all heard how #Bitcoin is created through mining, but how does it work exactly? Read on below and allow us to explain 🧵 👇  https://t.co/Twa8Dsk0AU\n",
            "1473992132960550913 2021-12-23 15:21:24 +0300 <RAYHAN20568753> #Bitcoin #Cryptocurrency  https://t.co/cRmNwME9WS\n",
            "1473992073514786823 2021-12-23 15:21:10 +0300 <bitcoinagile> BTC 4HR_analysis for BINANCE:BTCUSDT by jjjjchen #Bitcoin $BTC  https://t.co/RI19IEXeOR  https://t.co/YKUk3547tk\n",
            "1473992058914410500 2021-12-23 15:21:06 +0300 <Alert_Shark> #Bitcoin 📈   ▓▓▓▓▓▓▓░░░░░░░░ 49%  price:$48399.65      eth/btc: 0.08\n",
            "1473992055567355905 2021-12-23 15:21:06 +0300 <all_things_btc> Imagine if gold was proof of stake. The ultra rich and governments receive a new free shipment to add to their stockpiles each month, while the commoners get left behind? No thanks. #Bitcoin  https://t.co/BSV9iyKDCC\n",
            "1473992055055654913 2021-12-23 15:21:06 +0300 <bmurphypointman> #tumblr #shoppingstaronline #twitter #facebook #instagram #dogecoin #socialmedia #pinterest #doge #deal #gift #gifts #giftideas #shop #shopping #affiliatemarketing #bitcoin #freeshipping on purchases over $25 at #Amazon  https://t.co/EynvCaoEnT\n",
            "1473992035774439437 2021-12-23 15:21:01 +0300 <FindCoinAction> #BITCOIN #BTC impulse bar 48371.99 - 48486.62  $BTC Bar close 48381.63  #Crypto short term volatility detection\n",
            "1473992032569868289 2021-12-23 15:21:00 +0300 <ctalerts7> 250,000,000 #USDT (250,000,000 USD) Tether Treasury to #Bitfinex Current Price: $BTC  48,355.29  $ETH  3,928.05 $BNB      527.90  $SOL     178.08 Fear &amp; Greed Index:  34  (-11) Trends:  $FIL $ADA $COTI $MANA $MATIC #Bitcoin #NFT #Web3 #Omicron\n",
            "1473992022101004289 2021-12-23 15:20:58 +0300 <HobaBot> 🚀🚀🚀 $XLM Long Position(v2) 🚀🚀🚀  Entry: 0.27367 Target:0.27498 Stop:0.27088  #Binance #Bitcoin #Signals #Buy #XLMUSDT #XLM\n",
            "1473991978660544515 2021-12-23 15:20:47 +0300 <HWillert> #Bitcoin : 0,01% des investisseurs possèdent un quart de la masse cryptomonétaire  https://t.co/x932qxD2nl via @LUsineDigitale\n",
            "1473991974764097537 2021-12-23 15:20:46 +0300 <michmitnick> #Bitcoin Ticker: #BTC Precio: $48,379.70 Cambio en las últimas 24 horas: -0.44% 🔻\n",
            "1473991972402733057 2021-12-23 15:20:46 +0300 <Moe_mentum_> #Bitcoin per D3 — IFS reading one of the historical  lows at ( OS) region  backtest shows that market was bottomed   D3 at( -2  deviation ) was 👇 -&gt; October 2011 @ $2.15  -&gt; 15 Dec 2018 @ $3135   https://t.co/125TAgbVlu\n",
            "1473991960297836546 2021-12-23 15:20:43 +0300 <RohanKh35759371> #CPLAY, #IDO, #CryptoPlayStore, #Bitcoin, #BinanceSmartChain, #Cryptocurrency.\n",
            "1473991914630389762 2021-12-23 15:20:32 +0300 <TV_Finance> 📺 @AdmiralsFrance : LES MINES S'EFFONDRENT. 📉 $SQM, #Omicron, les marchés en fin d'année... Dans #FLASHMARCHES sur @TV_Finance ➡️  https://t.co/2Xveq6Olqj avec Florent Dubreuil, analyste chez @AdmiralsFrance #bourse #CAC40 #NASDAQ #forex #Bitcoin  https://t.co/3ANk1CaQOp\n",
            "1473991897026813957 2021-12-23 15:20:28 +0300 <currencycom_USA> Did you know that the available #Bitcoin supply is decreasing?  Total Supply = total Bitcoin mined Available Supply = Total Supply - Irretrievably Lost Bitcoins  About 4% of available #Bitcoins are lost each year  What do you think it means for $BTC?  👉  https://t.co/vsqM4g1fnk  https://t.co/jUGFPiWwFe\n",
            "1473991895131070469 2021-12-23 15:20:27 +0300 <CurrencyCom> Did you know that the available #Bitcoin supply is decreasing?  Total Supply = total Bitcoin mined Available Supply = Total Supply - Irretrievably Lost Bitcoins  About 4% of available #Bitcoins are lost each year  What do you think it means for $BTC?  👉  https://t.co/FhKKaSrVF7  https://t.co/4fwBj2M1VT\n",
            "1473991888281960453 2021-12-23 15:20:26 +0300 <bitcoin_xx> 新たに開業した「GMOあおぞらネット銀行」の口コミ、評判を今すぐチェック！  https://t.co/xiLMP1dU29 #bitcoin #ビットコイン\n",
            "1473991857629655040 2021-12-23 15:20:18 +0300 <AJ_MedinaCA> We may support competing projects, but should speak up when media outlets like @FT publish stories with deliberate omissions.   #Bitcoin is bad crypto, but it's not a ponzi scheme. Everyone in crypto know $BTC generates revenue.   Well, the journalists with @FT don't.   See #3.  https://t.co/Da5kvv6Xzd\n",
            "1473991851669483521 2021-12-23 15:20:17 +0300 <tienldeth> Bitcoin 1-week social activity:  Galaxy Score™ 65.5/100 AltRank™ 210/3,414 2,139,931 social mentions 7,705,214,200 engagements 15,358 social contributors 24.10% social dominance 477,171 shared links Price -0.69% to $48,438.42    https://t.co/9HjqaCeG85 $btc #bitcoin\n",
            "1473991838931423237 2021-12-23 15:20:14 +0300 <BASIL226> #Bitcoin, #Ethereum face resistance as market remains steady  #cryptocurrencies #CryptocurrencyNews\n",
            "1473991824406687750 2021-12-23 15:20:11 +0300 <leboncoincrypto> #Blockchain #Crypto #Bitcoin #Ethereum #Trading CISA, FBI and NSA Publish Joint Advisory and Scanner for Log4j Vulnerabilities:  https://t.co/kI5kutuIbz\n",
            "1473991821273489410 2021-12-23 15:20:10 +0300 <bmurphypointman> #discounts #tumblr #twitter #facebook #instagram #webtalk #socialmedia #pinterest #reddit #deal #gift #gifts #giftideas #shop #shopping #affiliatemarketing #bitcoin #food #popcorn  https://t.co/3dP3OAwNjQ\n",
            "1473991817515474948 2021-12-23 15:20:09 +0300 <bmurphypointman> #discounts #bitcoin #tumblr #twitter #facebook #instagram #dogecoin #socialmedia #tiktok #doge #deal #gift #gifts #giftideas #shop #shopping #affiliatemarketing  #popcorn  https://t.co/3dP3OAwNjQ\n",
            "1473991815145660424 2021-12-23 15:20:08 +0300 <bmurphypointman> #discounts #blogger #tumblr #twitter #facebook #instagram #blog #socialmedia #affiliatemarketing #blogging #website #reddit #affiliate #referral #crypto #shopping #travel #business #bitcoin #dogecoin  https://t.co/Yeeo6vTA6Q\n",
            "1473991811433889792 2021-12-23 15:20:07 +0300 <DanCoinInvestor> #Bitcoin #비트코인 #코인 좀 전 알림으로 왔었던 1조원의 #BTC 물량입금은 크립토퀀트 Pro차트에는 반영되지 않았으며, 거래목적이 아닌 거래소 내부 지갑이동일 가능성이 높습니다  혹시나 거래목적의 가능성이 보이면 공유해 드리긴 하겠으나 개인적으로는 그럴 가능성은 거의 없다고 보고있습니다  https://t.co/ra3KoXmKo2\n",
            "1473991808883515404 2021-12-23 15:20:07 +0300 <inputspike> BNB/SPARTA (Binance) gained 25.60% in the last 20 min. $SPARTA #bitcoin  https://t.co/jK3y9735v0\n",
            "1473991765942231046 2021-12-23 15:19:57 +0300 <Mohamma84695310> Don't miss the metaverse project on the Solana network! The whitelist closes on December 10. Don't miss this opportunity and support the community!  https://t.co/HluqknSP3j  #Solana #ICO #Metaverse #Airdrops #cryptocurrency #Bitcoin #CryptoNews  https://t.co/W2uN3RTx0D\n",
            "1473991757524357124 2021-12-23 15:19:55 +0300 <ZeBitcoin> @secoemolhado @samcallah @schmittpaula @BrunaFrascolla você não acha que esse absurdo todo vai ser um puta incentivo pra quem tem um mínimo de bom senso migrar pro #bitcoin ? Eu tenho essa forte impressão, pra mim vai ser o catalizador pra adoção numa escala que a gente não imagina.\n",
            "1473991733499338764 2021-12-23 15:19:49 +0300 <sakiz29> #BTCUSDT #Bitcoin  https://t.co/IBUYIYJKYv\n",
            "1473991706659987461 2021-12-23 15:19:42 +0300 <qhatucrypto> #Bitcoin  https://t.co/CCW1PQV0VL\n",
            "1473991696052633603 2021-12-23 15:19:40 +0300 <qhatucrypto> #Bitcoin Binance 4h BTCUSDT:48382.32 RSI(54.64) StochRSI(12.37,20.72) macd(224.21,312.06) sma8:48596.53 sma21:48120.31 sma50:47693.66 sma100:48288.14 sma200:51828.19\n",
            "1473991690696503296 2021-12-23 15:19:39 +0300 <ancient_home> Best platform to stake stablecoins? #Bitcoin #cryptocurrency #stake #StableCoin #passiveincome\n",
            "1473991677836554240 2021-12-23 15:19:36 +0300 <angelanjo2007> Today's problem 🤔🤔 [Dubai World Trade Center will become the regulator of cryptocurrency and other virtual assets] #Cryptocurrency #bitcoin #Ethereum #sol #crypto\n",
            "1473991674678312962 2021-12-23 15:19:35 +0300 <aiman373251> #Bitcoin #Cryptocurrency  https://t.co/rTAwLmZz4y\n",
            "1473991669343260678 2021-12-23 15:19:34 +0300 <Hasolidit1BTC> מה היה קורה אם הסולידית הייתה קונה #ביטקוין ב-26.11.2020 ($16,725) , במקום לצייץ?  ביצועים מאז:   #Bitcoin - $48,460.00 (+189.75%)  SPX (S&amp;P 500) - 4,696.56 (+29.39%)  DJI (Dow Jones) - 35,753.89 (+19.69%) Nasdaq - 15,521.89 (+28.34%)\n",
            "1473991657326587913 2021-12-23 15:19:31 +0300 <bitluso> @MonteiroQuadrio @LiberalPT incoerência é sinónimo de política, pelo menos a #bitcoin é assente em números que não têm sinónimos\n",
            "1473991625319886861 2021-12-23 15:19:23 +0300 <KardesBaris> Kardeşler Poolin bir madencilik havuzu. #Bitcoin'ler buradan \"dışarıya\" çıkartılıyor.  Burada 2 ihtimal var:  1. Muhtemel satış için borsalara gönderiliyor olabilir.  2. Bazı güvenlik sorunu gibi gerekçelerle madencilerin cüzdanlarına gönderiliyor olabilir.\n",
            "1473991563088904194 2021-12-23 15:19:08 +0300 <CountsSatoshi> I threw a G on each of these, looking for a spot scalp, if #bitcoin behaves.  $skm not filled yet, lol.  I’ll cut early if market craps.  $idex $any  https://t.co/iPgCKGSvo3\n",
            "1473991549302325248 2021-12-23 15:19:05 +0300 <HobaBot> 🚀🚀🚀 $BLZ Long Position(v1) 🚀🚀🚀 Entry Price: 0.23933 Target:0.24047 Stop:0.23688 #Binance #Bitcoin #Signals #Buy #BLZUSDT #BLZ\n",
            "1473991538833301520 2021-12-23 15:19:02 +0300 <_Tospik> Je me renseigne sur le passé du #Bitcoin, je découvre l’histoire de laszlo qui aurait acheté 2 pizzas pour 10,000 BTC il y a quelques années…  Cette histoire incroyable m’amène à son origine, sur le plus grand et ancien forum crypto toujours à ce jour:  https://t.co/s6Zy18wcRt  https://t.co/s8APMgmWrA\n",
            "1473991527089131520 2021-12-23 15:19:00 +0300 <randylus> While it has been a pretty volatile month for the cryptocurrency, hedge fund Pantera Capital maintain $BTC #Bitcoin is a smart investment. And our next guest says it's the most asymmetric trade in a generation and a better investment than government bonds.\n",
            "1473991505769553924 2021-12-23 15:18:55 +0300 <AbgJusti> En #Colombia ya es posible con #bitcóin OpenNode, realizar transacciones inmobiliarias se puedan hacer en tiempo real de manera inmediata, similar a como ocurre con la experiencia de comprar un tiquete de avión y otros. #Neiva   https://t.co/kH5rDv4IdY a través de @Portafolioco\n",
            "1473991484974239744 2021-12-23 15:18:50 +0300 <AisARagnar> @pdcap_mugtalks Is she not the one with her name on one of those lists of people who are paid to promote shitcoins?  Yes, we are toxic to such without apologies @LayahHeilpern   Only scammers promote shitcoins while stacking #bitcoin\n",
            "1473991440426582018 2021-12-23 15:18:39 +0300 <federic41984326> this is my laser cat after buying #Bitcoin\n",
            "1473991399464972292 2021-12-23 15:18:29 +0300 <MemedMeat> Dolar Ne Olacak Düşüş Devam Edicek Mi | #borsa #dolar #bitcoin  https://t.co/Da7iweohP0 via @YouTube  İyi Seyirler\n",
            "1473991391919235072 2021-12-23 15:18:27 +0300 <CatToTheMoon_tp> ไม่ไรนะ แต่ก็คาดหวังแหละ 555555 Still bullish!!!! #บิทคอยน์ #btc #bitcoin #คริปโต $btc\n",
            "1473991365008793604 2021-12-23 15:18:21 +0300 <muapaydin> #bitcoin böyle düşse off be ne dolandırdılar milleti deriz...  Gram altın. :/  https://t.co/jGxiKbrm5N\n",
            "1473991357165416455 2021-12-23 15:18:19 +0300 <abujaHODL> @ChudiEstate web3 is the 2021 version of Blockchain not #Bitcoin. A marketing tool designed to distract people from the signal\n",
            "1473991341713420291 2021-12-23 15:18:15 +0300 <LBurgess09> ZYRA - LIMITED EDITION T-shirt  👉 https://t.co/CJksqeNphv  #zyramains #bitcoin  https://t.co/RFGRyVPoQ0\n",
            "1473991313678901260 2021-12-23 15:18:09 +0300 <Gus21M> All #fiat currencies are sinking (#USD being the slowest sinking) so the desperation for a lifeboat has become very apparent. However, before jumping on a lifeboat, the last hurrah onboard the #ssfiatship is a money grab.  Ah, but much of the money grab will end up in #bitcoin!  https://t.co/Mi3Oxm1uA5\n",
            "1473991303830642689 2021-12-23 15:18:06 +0300 <bmurphypointman> #shoppingstaronline #tumblr #twitter #facebook #instagram #dogecoin #socialmedia #pinterest #doge #deal #gift #gifts #giftideas #shop #shopping #affiliatemarketing #bitcoin #freeshipping on purchases over $25 at #Amazon  https://t.co/EynvCaoEnT\n",
            "1473991299539910668 2021-12-23 15:18:05 +0300 <vahid_poursasan> New Airdrop | AlgoBlocks | #Crypto #Bitcoin #AlgoBlocks #Airdrop #Tokens...  https://t.co/WRgPlarVQu via @YouTube\n",
            "1473991262680207362 2021-12-23 15:17:57 +0300 <jpvillagra> @EvilcitoCL @mirkomacari #bitcoin es muy lento para transacciones y nadie quiere gastar sus btc en el retail. Usen #dogecoin. Transaccion rápida y bajo costo de uso\n",
            "1473991242753228801 2021-12-23 15:17:52 +0300 <ChrisBTCbull> #Bitcoin DEC 22🎯🚀  https://t.co/4GLASkh7JG\n",
            "1473991231059468293 2021-12-23 15:17:49 +0300 <DiarioBitcoin> La capitalizacion de #Bitcoin es mayor que el GDP de 175 paises, Marzo 2021 -@BTC_Archive\n",
            "1473991201485373442 2021-12-23 15:17:42 +0300 <ubuntunerd> @Apple I feel bad for iPhone sheep #bitcoin\n",
            "1473991155037655041 2021-12-23 15:17:31 +0300 <IAmBitcoinBot> Current #Bitcoin Price is $48455 #BTC #Crypto\n",
            "1473991151548051459 2021-12-23 15:17:30 +0300 <cryptofoliopro> 1 Cryptocurrency I'd Buy Right Now #CryptoCurrency #bitcoin #cryptocurrencies   https://t.co/n3a8zYv47p\n",
            "1473991127015596034 2021-12-23 15:17:24 +0300 <Coinosphere> @Grady_Booch @iamcardib How so? Over twice as many Salvadorans now have #bitcoin wallets than they do bank accounts.\n",
            "1473991126373871619 2021-12-23 15:17:24 +0300 <FCFVAGaming> LABitConf Day Two Was Bitcoin's Time To Shine #Bitcoin via  https://t.co/9UiYqby29m  https://t.co/yDpMEAISvD\n",
            "1473991042747801607 2021-12-23 15:17:04 +0300 <vs_bitcoin> #Silver Market Cap: $1.288 T #Bitcoin Market Cap: $920.77 B  Progress (Bitcoin surpassing Silver) ▓▓▓▓▓▓▓▓▓▓▓▓▓▓░░░░░░ 71.49%\n",
            "1473991033801293824 2021-12-23 15:17:02 +0300 <Money_Trending> Steve Hanke: 'We know the price of bitcoin, but not its value ... it's probably zero'   https://t.co/KYnz1c9qck #Bitcoin\n",
            "1473991032463405062 2021-12-23 15:17:02 +0300 <VersusBtc> #Gold Market Cap: $11.477 T #Bitcoin Market Cap: $920.77 B  Progress (Bitcoin surpassing Gold) ▓▓░░░░░░░░░░░░░░░░░░ 8.02%\n",
            "1473991010246004742 2021-12-23 15:16:56 +0300 <nestproclub> Do you know which company holds the most #Bitcoin?   Check out the top HODLers of $BTC 👇  #Crypto $BTC $ETH #DeFi #Cryptonews #Investment #CryptocurrencyNews #DeFi  https://t.co/eOJtQ2rAsh\n",
            "1473990968659566594 2021-12-23 15:16:47 +0300 <MustanDEMRKOL> #BİTCOİN #65k 🙏🙏🙏🙏\n",
            "1473990917690253313 2021-12-23 15:16:34 +0300 <pompcoin> #Bitcoin price flatlines as $XRP hits $1 with ‘massive’ #Altcoin move set for 2022 - Cointelegraph  https://t.co/4tK0lqLP4h\n",
            "1473990909880840192 2021-12-23 15:16:32 +0300 <pompcoin> El Salvador #Bitcoin purchase channels meme energy with magic number - Markets Insider  https://t.co/jkFO2PUOSI\n",
            "1473990895913549827 2021-12-23 15:16:29 +0300 <Bit2me_pt> El Salvador comemora a escassez de #Bitcoin com a compra de 21 bitcoins por mais de 1 milhão de dólares.\n",
            "1473990885717196800 2021-12-23 15:16:27 +0300 <RMillsBizDev> @cryp_uno I do trade crypto but also your hiphop career predates #bitcoin&amp; all cryptocurrency..\n",
            "1473990823268302852 2021-12-23 15:16:12 +0300 <BeerKub8> Bitcoin price flatlines as XRP hits $1 with 'massive' altcoin move set for 2022 #Altcoin #bitcoin via  https://t.co/6hmTcgUSTI  https://t.co/5okDRaeyA9\n",
            "1473990819946315778 2021-12-23 15:16:11 +0300 <glassnodealerts> 📉 #Bitcoin $BTC Futures Volume (24h) just reached a 1-month low of $3,342,063,835.61 on #Okex  Previous 1-month low of $3,392,207,375.06 was observed on 12 December 2021  View metric:  https://t.co/TLC0RI2esk  https://t.co/yNf5z0jnge\n",
            "1473990819409539073 2021-12-23 15:16:11 +0300 <CmoBitcoin> The latest #bitcoin block 715397 with 3299 transactions was just mined by  https://t.co/B69DPLQez2 Total Fees:0.15305603 Block Subsidy:6.25 #Bitcoin #BTC #blockchain #analysis\n",
            "1473990805106868233 2021-12-23 15:16:08 +0300 <CryptoCoinPage> Did you know that?  4,000,000 #Bitcoin has been bought above $50,000. 4,000,000 Bitcoins are in almost inactive wallets.\n",
            "1473990802535768072 2021-12-23 15:16:07 +0300 <bmurphypointman> #discounts #bitcoin #tumblr #twitter #facebook #instagram #dogecoin #socialmedia #tiktok #doge #deal #gift #gifts #giftideas #shop #shopping #affiliatemarketing  #freeshipping on orders over $99 at  https://t.co/FsGWUaZyeH\n",
            "1473990801956900865 2021-12-23 15:16:07 +0300 <cryptocharts> Thoughts on $BTC #Bitcoin! See jjjjchen's idea on TradingView below.  https://t.co/jnAkxPb9EH\n",
            "1473990801105510403 2021-12-23 15:16:07 +0300 <bmurphypointman> #discounts #tumblr #twitter #facebook #instagram #webtalk #socialmedia #pinterest #reddit #deal #gift #gifts #giftideas #shop #shopping #affiliatemarketing #bitcoin #freeshipping  https://t.co/FsGWUaZyeH\n",
            "1473990800036012033 2021-12-23 15:16:06 +0300 <bmurphypointman> #discounts #blogger #tumblr #twitter #facebook #instagram #blog #socialmedia #affiliatemarketing #blogging #website #reddit #affiliate #referral #crypto #shopping #travel #business #bitcoin #dogecoin  https://t.co/qrROoUTXe2\n",
            "1473990796093399051 2021-12-23 15:16:05 +0300 <CryptoPricing> Bitcoin Price (USD): 48488.97  Ethereum Price (USD): 3941.54  Dogecoin Price (USD): 0.176  Safemoon Price (USD): 1.36e-06  #Bitcoin #Dogecoin #Ethereum #Safemoon #Crypto\n",
            "1473990794403008533 2021-12-23 15:16:05 +0300 <MarketChartsApp> #BTCUSDT - New Technical Analysis   Chart on TradingView  https://t.co/ecR28JQAUJ $BTC $ETH #Bitcoin #CryptoCurrency #Trading #TechnicalAnalysis  https://t.co/q2BdJpdW5Z\n",
            "1473990771418218507 2021-12-23 15:15:59 +0300 <coinfucyus> El Salvador, \"21. yüzyılın 21. yılının son 21. gününü\" anmak için 21 tane daha #bitcoin satın aldı.\n",
            "1473990761020542981 2021-12-23 15:15:57 +0300 <GMBurnsTracker> 🔥Last 22 minutes: 117,151.37 (117.15k $GM) were burned  🔥Total Burned Supply: 53.35% - 533,464,293,899.81 (533.46b $GM) ♻️ Circulating Supply: 466,535,706,100.19 (466.54b $GM) ☀️ Have a gm-day! #Ethereum #BSC #Bitcoin.\n",
            "1473990744297947136 2021-12-23 15:15:53 +0300 <SLam_LEJAS> #Brave browser is a must for improved #privacy.  You earn $BAT tokens and can even spend them on #Travala !    https://t.co/XJrqiIEb8a  $ava @brave #bitcoin\n",
            "1473990740678168584 2021-12-23 15:15:52 +0300 <kucuktakipci> Şu #bitcoin #btc de hazine aynı kur koruma işi verse bitcoin alıcam ama bekliyorum. Bakalım şapkadan tavşan çıkar belki 😂😂\n",
            "1473990716502204416 2021-12-23 15:15:46 +0300 <wjgrun> #Cryptocurrency is a wild &amp; volatile ride. Do your own research &amp; don't invest money you can't afford to lose, but don't miss out!  Sign up with my referral links for Coinbase:  https://t.co/pyNrJlYVje &amp; Binance:   https://t.co/q87omqe5NR  #Bitcoin #BTC #BNB #Doge #dogecoin #ETH\n",
            "1473990714740682760 2021-12-23 15:15:46 +0300 <LamassuBTC> Stackin'-only #Bitcoin ATM in Chicago.\n",
            "1473990698030575619 2021-12-23 15:15:42 +0300 <nfteventz> Report: Illegal Trades Account for Less Than 3% of Total Bitcoin Transactions #nft #meta #bitcoin #boredape #littpanda #eth   https://t.co/gNvQi5fEa1\n",
            "1473990694255706114 2021-12-23 15:15:41 +0300 <CryptoHolon> Propaganda &amp; wars are easily funded in a FIAT world with Central Banks going brrrrr.   #buy #bitcoin &amp; #EthereumClassic ☘️\n",
            "1473990689486688263 2021-12-23 15:15:40 +0300 <RMNMCMLXXXV> Un hombre @XabiAlonso, frente a todo el poder del estado.  El individuo frente al sometimiento estatal. Todo el apoyo Xabi, tu lucha es ejemplo. No estás solo. #BastaDeAbusoEstatal #Bitcoin fixes this  https://t.co/EH3iH1xqDu\n",
            "1473990673506394113 2021-12-23 15:15:36 +0300 <nfteventz> Binance introduces BNB Auto-Burn to replace quarterly burn protocol #nft #meta #bitcoin #boredape #littpanda #eth   https://t.co/R7RQ22rCLI\n",
            "1473990672822808582 2021-12-23 15:15:36 +0300 <Babylonbroke> More borrowing on the horizon #eur #bitcoin\n",
            "1473990660583735306 2021-12-23 15:15:33 +0300 <SODA_MAPE> @Blockworks_ Does that mean #bitcoin is now centralised though? 😂 I’m buying the truly decentralised meme coins lol\n",
            "1473990652425736192 2021-12-23 15:15:31 +0300 <BryanYoong4> Which of these will happen first in 2022?  make your own predict pricing  #Bitcoin: $1xx,xxx #Ethereum: $1x,xxx  #BNB: $1,xxx #Solana: $6xx #Chainlink: $1xx #Polkadot: $2xx #Cardano: $ x  #Polygon: $ x #Dogecoin: $ x #Shib: $0.00xx\n",
            "1473990650525884419 2021-12-23 15:15:31 +0300 <TheCVX> #Cryptocurrency 24h #implied #volatility remains relatively stable at 71.80. #CVX #Bitcoin $BTC $ETH  Learn more at  https://t.co/NdcbToUMzn\n",
            "1473990649611526144 2021-12-23 15:15:30 +0300 <Blackhatex> #Bitcoin Yataya bağlaması da güzel arada sıyrılan altcoinler oluyor .\n",
            "1473990647271014406 2021-12-23 15:15:30 +0300 <coinok> 1 BTC Price: Bitstamp 48467.67 USD #BTC #Bitcoin 2021-12-23 07:15  https://t.co/UkzP1f8WIS\n",
            "1473990642535743490 2021-12-23 15:15:29 +0300 <2vjM6> 💋♥️ wish me luck #Crypto #Bitcoin  https://t.co/4CUxqLPjoE\n",
            "1473990626005901314 2021-12-23 15:15:25 +0300 <yat_fx> Bitcoin'de ilk ziyaret nereye olur sizce ?.  #Bitcoin #cryptocurrency\n",
            "1473990596427542529 2021-12-23 15:15:18 +0300 <Akashkumarumrao> जब डेली कैंडल मा BTC यो आगे-पीछे हाले से ......  मन्ने घना कसुता लागे से--2 #bitcoin  https://t.co/cOrlRbSODy\n",
            "1473990587833409537 2021-12-23 15:15:16 +0300 <MikeBurgersburg> @username_Dizzy @catanauta @davidgerard Enough?  Theft from 2 million of the poorest people in the world via corruption of their already unstable government? Really fucking low.  Also consider the economic damage Bukele’s #Bitcoin experiment has already done to El Salvador’s financial condition. It will get worse.\n",
            "1473990579193327620 2021-12-23 15:15:14 +0300 <steko170981> 10% of #BTC #Bitcoin not mined yet... will you experience that, #CRYPTO Nation? 😎\n",
            "1473990562411909127 2021-12-23 15:15:10 +0300 <Bitcoin_Vegan> Good Morning,  Here’s a reminder, everything might not go as planned today.  🤷🏿‍♂️  #KeepGoing and #BTFD or #HFSP  #Bitcoin\n",
            "1473990560507740167 2021-12-23 15:15:09 +0300 <bmurphypointman> #tumblr #twitter #facebook #instagram #dogecoin #socialmedia #pinterest #doge #deal #gift #gifts #giftideas #shop #shopping #shoppingtime #affiliatemarketing #bitcoin #freeshipping on purchases over $25 at #Amazon  https://t.co/EynvCaoEnT\n",
            "1473990551389147142 2021-12-23 15:15:07 +0300 <ChainCouncil> A Certified Cryptocurrency Auditor™ (CCA) is an #expert in #Cryptocurrency and #Blockchain forensics. Get #certified and gain #access to the #hike you have been #dreaming of.  Avail of the sitewide 20% discount. Use coupon code: SANTA20.  Visit:  https://t.co/IzvUs7qbDX #Bitcoin  https://t.co/zquAlb4FXd\n",
            "1473990548268720129 2021-12-23 15:15:06 +0300 <silvija0> Which #crypto to invest in? Looking for a a friend👀 #bitcoin  https://t.co/ik4rVVoZTD\n",
            "1473990547798904832 2021-12-23 15:15:06 +0300 <additionalrules> NFT news.  Steve Aoki Is Headlining a Metaverse Christmas Party Hosted by Monkey Kingdom NFTs - HYPEBEAST     https://t.co/N7P5hagtP0  #NFT #BTC #bitcoin #money\n",
            "1473990545655713803 2021-12-23 15:15:06 +0300 <additionalrules> NFT news.  As NFTs Boom, Here’s What Entertainment Fans Need to Know About Environmental Impact - Teen Vogue     https://t.co/8syGcTL8dF  #NFT #BTC #bitcoin #money\n",
            "1473990540828241923 2021-12-23 15:15:05 +0300 <additionalrules> NFT news.  Looking Back on a Wild Year of NFTs With Rhea Myers - TIME     https://t.co/gmV2q0preB  #NFT #BTC #bitcoin #money\n",
            "1473990529167855619 2021-12-23 15:15:02 +0300 <vergelijkBTC> Prijsvergelijking; De 5 Goedkoopste Nederlandse Bitcoin Verkopers:  1. BL3P €42.667,86 2. Bitpanda €42.829,82 3. Binance €42.833,52 4. Bitvavo €42.863,00 5. SATOS €42.879,57  De actuele prijzen vergelijken:  https://t.co/AzjGwBwiku #BTC #NLBTC #BitcoinNL #Bitcoin\n",
            "1473990525300748288 2021-12-23 15:15:01 +0300 <moon_or_earth> current price of #Bitcoin : 48,448.00 USDT  last 15 min  change : +0.19% volatile : 0.30%  O : 48,354.76 USDT H : 48,500.00 USDT L : 48,354.76 USDT C : 48,448.00 USDT  to the moon? [23-12-2021 12:15 Z]\n",
            "1473990520791724034 2021-12-23 15:15:00 +0300 <CriptoNoticias> Diariamente, el flujo saliente de los #exchanges sobrepasa los USD 150 millones. Los HODLers de manos fuertes continúan acumulando #bitcoin 📊👀\n",
            "1473990465041186817 2021-12-23 15:14:46 +0300 <RantsSouth>  https://t.co/Njoe3O0hUU | Security guard, gunman killed in Joburg CBD shootout - Learn about cryptocurrency and the stock market for FREE at  https://t.co/lkFxXY9td9 #southafrica #southafricanews #mzansi #bitcoin #stockmarket  https://t.co/8xmF8AKrTq\n",
            "1473990448737890306 2021-12-23 15:14:43 +0300 <Mano10Napel> Whatever is caused by Fiat, can be fixed by #Bitcoin\n",
            "1473990414873112577 2021-12-23 15:14:34 +0300 <CryptoRevoltFR> @bender57b @LudovicBrossy @nico_dufrene @blast_france @salomesaque @ydemombynes #Bitcoin à l'inverse s'imposera dans le temps par l'adoption qui sera lente car combattu férocement par ceux qui détiennent le pouvoir &amp; des avantages   Ce que tu cites n'arrivera pas du jour au lendemain et une multitude d'autres phénomènes interviendront entre-temps\n",
            "1473990412675076097 2021-12-23 15:14:34 +0300 <oneandonlypd> @TheGuySwann #Bitcoin is the only right.\n",
            "1473990375538892805 2021-12-23 15:14:25 +0300 <BitcoinBot15> #cryptocurrency #star #Bitcoin  https://t.co/yKrHQhVJY2\n",
            "1473990370921009166 2021-12-23 15:14:24 +0300 <hintassist> $BTC, what's next for #bitcoin? In the process to establish 50k as retested support and reclaim 53k. There are various scenarios for what happens next, some of them will put it above 60k even, but the risk of falling back to 40k and breaking through to 30k remains high.#Cryptos\n",
            "1473990327933435904 2021-12-23 15:14:14 +0300 <Crypto___Trades> Alert: #Bitcoin  Possible resistance ahead, prior swing high 15M 48471.8 Dec 23 2021 12:14PM\n",
            "1473990322816536576 2021-12-23 15:14:13 +0300 <RealSetvin> Is this grammatically correct? #Chinese #bitcoin #friends  比特币很容易获得, 一个知心最难寻\n",
            "1473990317854633992 2021-12-23 15:14:11 +0300 <Nemo103108> @twobitidiot Amen, I’ve always been #Bitcoin first but there is not a doubt in my mind that a free market in competing currencies is the true goal… let the cream rise to the top naturally\n",
            "1473990311529615371 2021-12-23 15:14:10 +0300 <cryptofeaa> Süper bir airdrop. Kesinlikle katılın derim. Tüm adımları uygulamalı olarak anlattım. Videoyu izleyerek çok rahat yapabilirsiniz   https://t.co/tTvDvciFtq  #Airdrop #ParaKazan #Bitcoin #SHIB #RACA\n",
            "1473990310988599299 2021-12-23 15:14:10 +0300 <MempoolWhales> 🐋 465 #BTC (22.550.975 USD) will be transfered from unknown wallet to unknown address (2 x used before)   https://t.co/ogj9wGlDpS #bitcoin\n",
            "1473990310594322435 2021-12-23 15:14:10 +0300 <CryptobiebNL> ETF’s brengen cryptovaluta naar een hoger niveau.  Meer lezen? 👇👇   https://t.co/F1Nvyh3LsO  #ETF #Bitcoin #cryptovaluta #CFD #futures #CFRA\n",
            "1473990310019620865 2021-12-23 15:14:09 +0300 <Aroa_cripto> Parece que twitter me volvió a esconder. 😐  #trading #Criptomonedas #bitcoin\n",
            "1473990306488098824 2021-12-23 15:14:09 +0300 <CryptoNewswire> XCAD Network Receives Series A Funding via Strategic Partnership with Jump Crypto -  https://t.co/67LkeSbh8l #market #bitcoin #cryptocurrency\n",
            "1473990289803071496 2021-12-23 15:14:05 +0300 <HobaBot> 🚀🚀🚀 $OCEAN Long Position(v1) 🚀🚀🚀 Entry Price: 0.93847 Target:0.94297 Stop:0.92889 #Binance #Bitcoin #Signals #Buy #OCEANUSDT #OCEAN\n",
            "1473990286409826306 2021-12-23 15:14:04 +0300 <tictoknextblock> 🟩 Block 715397 ⛏ ⛏  📅 23rd Dec 2021, 12:13:19 GMT  📣 3,299 tx with a value of 14,449.819 ₿ ($700.69m 🇺🇸)  📣 distributed to 10,017 recipients 💎🙌  📣 18,908,737.50 ₿ (90.04161%) mined ⛏  📣 2,091,262.50 ₿ remaining 💰  #bitcoin #tictoknextblock\n",
            "1473990272212217860 2021-12-23 15:14:00 +0300 <bitluso> @MonteiroQuadrio @LiberalPT Tenho a ideia que a maioria dos militantes são FIAT junkies e vêem a #bitcoin apenas como um investimento, mas gostava de estar enganado #changemymind\n",
            "1473990229879308297 2021-12-23 15:13:50 +0300 <sweetburgercom> #bitcoin Block #715397 : 1446000 bytes, 3299 transactions, 6.40305603BTC($310,325) reward              For more information, visit  https://t.co/PBM5d8h0QA\n",
            "1473990182533836812 2021-12-23 15:13:39 +0300 <BitcoinTracker2> $BTCUSD Current Bitcoin Price: $48,472 Day High: $48,705 Day Low: $48,112 Year Low: $22,778 Year High: $68,790 65 Day Moving Avg: $54,782 10 Day Moving Avg: $47,829 #Bitcoin #RealMoney #BTC #Cypto\n",
            "1473990175596621831 2021-12-23 15:13:37 +0300 <satsleft> 👋 A new block was found on the #Bitcoin network. We're at block height 715397, current #bitcoin price is $48451.37 and there are 209123747690011 #sats left to mine.\n",
            "1473990171502784514 2021-12-23 15:13:36 +0300 <gannmarketstr> 🪙 Kripto Para Yatırımcıları Yatay Seyreden Bitcoin'den Büyük Bir Hareket Bekliyor!  Piyasa uzmanları ise hatırlatıyor: \"Ralliler en umutsuz anlarda, yorgun boğalar pes ettiğinde başlar!\"  👉 Kazanç fırsatlarını yakalayın;  https://t.co/MRfwrJasB8  #Bitcoin #ETH #BTC #SHIB\n",
            "1473990168180842503 2021-12-23 15:13:36 +0300 <CryptoNewz4> Hashgraph vs. Blockchain: Understanding key points - Kalkine Media    https://t.co/LkuNUY9LFW   #Blockchain  #Bitcoin\n",
            "1473990167480631299 2021-12-23 15:13:35 +0300 <LinksSonny> 81歳の再選？アメリカも終わってるな。そう思いません？  #Bitcoin   バイデン氏、再選出馬の考え示す　トランプ氏との「再戦」に意欲（毎日新聞） #Yahooニュース  https://t.co/q3nVOnhifa\n",
            "1473990147976810497 2021-12-23 15:13:31 +0300 <oneandonlypd> #Bitcoin is.\n",
            "1473990141005815809 2021-12-23 15:13:29 +0300 <rubel_lt_121> #Bitcoin #Cryptocurrency  https://t.co/pn0f6aepBE\n",
            "1473990138120196100 2021-12-23 15:13:28 +0300 <Jocmartineza> Que felicidad, Navidad adelantada @Alvaro_DMaria 🔥🌠 #bitcoin  https://t.co/tlNvFhIR47\n",
            "1473990134651568128 2021-12-23 15:13:28 +0300 <Kndsoheil> #Bitcoin #Cryptocurrency  https://t.co/IM6rEK7RR3\n",
            "1473990128125333507 2021-12-23 15:13:26 +0300 <SatoshiiHeavy> #Bitcoin Complacency kills the imagination   Uncomfortability promotes change   If you're comfortable you'll probably never change.  If you want to change your situation  you must get uncomfortable.\n",
            "1473990128033009671 2021-12-23 15:13:26 +0300 <Monstrecrypto> Not mine but funny 🤣 #Bitcoin  https://t.co/id3MK1CjMT\n",
            "1473990126854455302 2021-12-23 15:13:26 +0300 <BTCProgress> #Bitcoin Current Price: $48,451.37 #Bitcoin Target Price: $100,000.00  ▓▓▓▓▓▓▓▓▓░░░░░░░░░░░ 48%\n",
            "1473990126741204993 2021-12-23 15:13:26 +0300 <weeblueghost> -  BTC price: $48,475 / £36,086   20.63 Naks per USD 27.71 Naks per GBP  &lt;price steady&gt;   One #Bitcoin = one million #Naks. Simple as that!   #Bitcoinprice #SatoshiNakamoto  23/12/2021  12:13:24 GMT  https://t.co/TifT9WUTMK\n",
            "1473990095204241408 2021-12-23 15:13:18 +0300 <vincentvrijhof> @CryptoMichNL \" #Bitcoin fixes this!\"  https://t.co/dAO3ONK0Z7\n",
            "1473990029118689280 2021-12-23 15:13:03 +0300 <namsardar> Gold became a SoV after it established itself as the medium of exchange of free markets.  #Bitcoin became a SoV after it established itself as the medium of exchange of free markets.  #Monero is in the process of establishing itself as the medium of exchange of free markets.\n",
            "1473990015764021253 2021-12-23 15:12:59 +0300 <calmanmuratali> Yeni nesil vadeli mevduatların getirileri enflasyonun gerisinde kalacak. Buraya yazıyorum. Zamanı gelince hatırlatırım. Vatandaş her türlü zarar yazacak...  #usdtry #dolar #faiz #bitcoin\n",
            "1473989970260115457 2021-12-23 15:12:48 +0300 <FeverTwit> USD-BTC ( 2021-12-23 12:12:46.62 )  High: $49230.3890 Low:  $48059.6500 Last:  $48456.3850  Volume: $4637290.55  LIKE &amp; RETWEET 🦃  #BTC #Bitcoin #moon\n",
            "1473989941126471692 2021-12-23 15:12:42 +0300 <CryptoBoj> #Bitcoin is in an interesting spot now.   I’m switching my stance from bullish to neutral at 48500$.   Mostly due to Bitcoin being rejected at $49.500 and Alt-coin dominance heading towards the top of it ascending triangle.   TomDeMark Seq. indicator hinting at trend exhaustion.  https://t.co/aJbayXtWJ0\n",
            "1473989912714424323 2021-12-23 15:12:35 +0300 <Romina70527533> @SophieNFT #Bitcoin ✅\n",
            "1473989837963378696 2021-12-23 15:12:17 +0300 <oneandonlypd> #Bitcoin is.\n",
            "1473989803746201603 2021-12-23 15:12:09 +0300 <AmoreLoveAmor> You should really get into #DigiByte! It’s a premier &amp; secure blockchain! Ecosystem involves a mining economy!   Uses 5 mining algorithms which increases security and decentralization! Faster transaction compared to #Bitcoin and #Litecoin.   Ok, bye for now! 💙  https://t.co/XiGxSjETSQ\n",
            "1473989802919870467 2021-12-23 15:12:09 +0300 <BitcoinUKPR> Bitsgap - Bitcoin &amp; Cryptocurrency Trading Platform  https://t.co/50VZQwA7gY   TRY OUT THE 14 DAY FREE TRIAL TO SEE HOW IT WORKS.  #Bitcoin #Ethereum #Altcoin #CryptoTrading\n",
            "1473989799740682244 2021-12-23 15:12:08 +0300 <bmurphypointman> #discounts #tumblr #twitter #facebook #instagram #webtalk #socialmedia #pinterest #reddit #deal #gift #gifts #giftideas #shop #shopping #affiliatemarketing #bitcoin  Shop #Cookies &amp; #GiftBaskets  https://t.co/cxtRqfOUhP\n",
            "1473989799702933518 2021-12-23 15:12:08 +0300 <bmurphypointman> #discounts #bitcoin #tumblr #twitter #facebook #instagram #dogecoin #socialmedia #tiktok #doge #deal #gift #gifts #giftideas #shop #shopping #affiliatemarketing  Mrs. Fields Cookies - Shop #Cookies &amp; #GiftBaskets  https://t.co/cxtRqfOUhP\n",
            "1473989797698015234 2021-12-23 15:12:07 +0300 <CryptoPriceBTC> Bitcoin Overview - 24 Hour:  Average $BTC price across exchanges: $48,445.60 Change: $-664.84 (-1.35%) High: $49,182.65 Low: $48,072.08 Volume: $2.09B Market Cap: $916.04B  View more details at:  https://t.co/ptPO2aNjxz  #Bitcoin #BTC #Cryptocurrency  https://t.co/2pS2bApxc0\n",
            "1473989796787900420 2021-12-23 15:12:07 +0300 <bmurphypointman> #discounts #blogger #tumblr #twitter #facebook #instagram #blog #socialmedia #affiliatemarketing #blogging #website #reddit #affiliate #referral #crypto #shopping #travel #business #bitcoin #dogecoin  https://t.co/ejFYfcz2La\n",
            "1473989796347490305 2021-12-23 15:12:07 +0300 <bmurphypointman> #tumblr #twitter #facebook #instagram #dogecoin #socialmedia #pinterest #doge #deal #gift #gifts #giftideas #shop #shoppingtime #shopping #affiliatemarketing #bitcoin #freeshipping on purchases over $25 at #Amazon  https://t.co/EynvCaoEnT\n",
            "1473989703196151808 2021-12-23 15:11:45 +0300 <Bitcoin_Korea> El Salvador has purchased 21 more #bitcoins to commemorate \"the last 21st day of the year 21 of the 21st century.\" #bitcoin #cryptocurrency  https://t.co/XIqAQRIjon (via Twitter  https://t.co/GCy3u2dLX0)\n",
            "1473989692378992641 2021-12-23 15:11:42 +0300 <mahsun_gundogan> Devlet 10 dan satış yapıp, farkı cebinden ödeyeceksin diyor... #Bitcoin'e döndü ama döviz kurunda volatilite Bitcoin volatilitesinden daha kötü. Çünkü Bitcoin'de vade büyük oranda yok, zaten makroekonomi bağlantı düzeyi de döviz kuru gibi değil...\n",
            "1473989641648807937 2021-12-23 15:11:30 +0300 <BTCsquare> Bullish divergence between #Bitcoin price and illiquid supply ratio.   This has led to higher prices the last 2 times. 3rd time? 🧐  By @BTC_Archive  https://t.co/aSe6v3VrjA\n",
            "1473989614667022340 2021-12-23 15:11:24 +0300 <_TonyCapo> Illegal Trades Account for Less Than 3% of Total Bitcoin Transactions – Blockchain Bitcoin News #Blockchain #bitcoin via  https://t.co/R4If3laVMV  https://t.co/hvmUSdsSWy\n",
            "1473989613521969153 2021-12-23 15:11:23 +0300 <Biteris_> Bitcoin and Ether knocked after rise #Trading #bitcoin #forex via  https://t.co/hdGVR11260  https://t.co/IIcEQqP4x9\n",
            "1473989579912974348 2021-12-23 15:11:15 +0300 <EligiuszRawski> Our world runs mainly on fossil fuels and this will not change quickly, that's why it is crucial to develop solutions that are very energy efficient. Use $vinu on $vite chain. Like, share and comment.   #cryptocurrency #memecoin #bitcoin #Ethereum #dogecoin #GlobalWarming\n",
            "1473989575639019528 2021-12-23 15:11:14 +0300 <KoinSaati> Amerika Birleşik Devletleri Menkul Kıymetler ve Borsa Komisyonu SEC, fiziksel olarak desteklenen iki #Bitcoin #ETF’sini SEC standartlarını karşılamama gerekçesiyle reddetti. Detaylar için👇🏻👇🏻   https://t.co/vA4o5gmJGs  https://t.co/8y0IGzzihE\n",
            "1473989561407750144 2021-12-23 15:11:11 +0300 <FalcoreIt> Falcore found #bitcoin in a User vault at this location! Join me playing #coinhuntworld, It's awesome!  https://t.co/uxjSTSrlGf #cryptocurrency #64682  https://t.co/OOQxYF1zPP\n",
            "1473989546660536324 2021-12-23 15:11:07 +0300 <Damon8125> I was born on the 23.12.1989  My hole Life I never thought I would encounter such great ERA to be alive surrounded by Great artists,  great developers and this great that is #NFTCommunity , #DeFi , #Metaverse , #GameFi , #crypto #bitcoin #Ethereum   Grateful 🙏  https://t.co/QrmDbD5uV3\n",
            "1473989544697544709 2021-12-23 15:11:07 +0300 <NumquamRetro2> @gogoDiegocrypto Is that even a thing? #Bitcoin is written in script, which is not turing complete. Script programs can’t perform loops. It can’t solve any computational problem(other than solidity for example). How would that work?\n",
            "1473989515614523395 2021-12-23 15:11:00 +0300 <thanks_issin> #BTC #Bitcoin この値動きは、引力のようにはたらきます。  急騰するであろうサインがある銘柄が、この暴落によって引きずられる場合があります。  法則として、例えば4時間足での暴落ならば、日足での急騰サインはただの押し目です。時間足の大小関係の大切さについても、残しておきます。\n",
            "1473989513252937730 2021-12-23 15:11:00 +0300 <flantoshi> Everything reminds me of her 😭 --- #binance #crypto #blockchain #bitcoin #Cardano  https://t.co/QBJ027DmGI\n",
            "1473989459863613444 2021-12-23 15:10:47 +0300 <SMcBitcoin21> #bitcoin gives power to everyone who uses it.\n",
            "1473989455031586817 2021-12-23 15:10:46 +0300 <budleiser> A penny saved is a penny earned.  Actually a penny earned is taxed at the state and federal level. A penny saved loses purchasing power every day to inflation. #TaxationIsTheft #bitcoin\n",
            "1473989441341558796 2021-12-23 15:10:42 +0300 <Bitbello> @VaiValley @BitcoinMagazine @elonmusk Hey, don't buy #Bitcoin please. Thanks.\n",
            "1473989412417589249 2021-12-23 15:10:35 +0300 <azorcode> Último día de chambita por este 2021 vaya un año bien difícil la verdad pero muy agradecido de estar acá vivo y seguir poniendo mi granito de arena para el mejor dinero del mundo #Bitcoin muchas gracias a todos por apoyar mis tweets locos 😁✌  https://t.co/V0aCTqTuvr\n",
            "1473989406117842953 2021-12-23 15:10:34 +0300 <InvesTradeLearn> @QuantChild @BreakingCrypto5 #Bitcoin offers people access to a store of value independent of traditional banks.   There's your main use case.\n",
            "1473989403244908544 2021-12-23 15:10:33 +0300 <PistTrust> Our NFT Marketplace will be opening soon, and  We are currently in the AIRDROP quiz event!!!🎉  Event Tweet😉  https://t.co/CevNjk9sEk  #PIST #Crypto #ETH #Bitcoin #NFT #DeFi #Game_Fi #Cryptocurrency #Blockchain #NFTMarket\n",
            "1473989397229883392 2021-12-23 15:10:32 +0300 <jjllau> @Breedlove22 #Bitcoin is Money, FIAT is an illusion.\n",
            "1473989395720151041 2021-12-23 15:10:31 +0300 <Trend_Surfers> ⚠️ Exit Long position for #ETHUSDT⚠️  Exit Price: 3932.11  Like free signals? Here you go:  https://t.co/WPz3CnDUS8  #Bitcoin #Crypto #ETH #Binance #CryptoSignals #ETH  https://t.co/vCRE3lMgdr\n",
            "1473989384466751493 2021-12-23 15:10:29 +0300 <PaxfulArabic> Ways you can use Paxful:   ✅ Spend less when sending $ abroad ✅Use your Lightning wallet to make quick transactions ✅Store your #Bitcoin ✅Get discounted gift cards ✅Convert between BTC, ETH, and USDT  + many more ways to move money!  Get started:  https://t.co/Frigq09qb8\n",
            "1473989357489041414 2021-12-23 15:10:22 +0300 <Wiotwam> Muchas teorías y al final ganara #Bitcoin\n",
            "1473989357304483848 2021-12-23 15:10:22 +0300 <bitcoinagile> Report: Illegal Trades Account for Less Than 3% of Total #bitcoin Transactions  #blockchain Bitcoin News #illegaltrade #3percent  https://t.co/izv1eSt7lT  https://t.co/xErohTAo06\n",
            "1473989329341005824 2021-12-23 15:10:16 +0300 <Imado62> #Bitcoin miner unspent supply is currently sitting just 500 BTC below ATH.  These coins are issued to miners as a reward for solving a block, but have never been spent onchain.  Miners started HODLing significantly more BTC since March 2020.  https://t.co/1f1Geyqjnk\n",
            "1473989301788499969 2021-12-23 15:10:09 +0300 <cryptscp> Ledger Nano S Keep your crypto secure, everywhere  https://t.co/LT9sA1w7DS #defi #mining #tech #blockchain #marketing #passiveincome #today #bitcoin  https://t.co/css2cHLdhR\n",
            "1473989294104715273 2021-12-23 15:10:07 +0300 <NVMtheShitcoins> Feel like you've missed key stories and news events in blockchain and crypto over the past few?  Well, fear not brave #bitcoin believer, @Mrbateman3131 has you back, with the best bits of the Non Fungible News from Series 2 of #NVMTS!   ⏯️ https://t.co/cTWpSSlU85\n",
            "1473989281739849733 2021-12-23 15:10:04 +0300 <aWebAnalysis> Bitcoin BTC Current Price: $48,451.57  1h: +0.02% 24h: -1.32% 7d: -1.45%  30d: -13.96% 60d: -19.63% 90d: +17.19%  #btc $BTC #bitcoin\n",
            "1473989281056272384 2021-12-23 15:10:04 +0300 <GlobalEconomyEN> If you want to donate crypto to support my project you can do it at the following address #Bitcoin: 3H8Q6MSh3HV4nGxEEGEA3pFs6HtPUuU6KJ\n",
            "1473989269769400320 2021-12-23 15:10:01 +0300 <Bitcoin10min> $48485.36 | €42849.98 | ¥314499.03 | £36104.74 #bitcoinprice #cryptocurrency #bitcoin\n",
            "1473989268070674434 2021-12-23 15:10:01 +0300 <mfnft> @nayibbukele When has the early adoption of \"disruptive\" technology not been disruptive? Keep blazing this trail!!! #bitcoin\n",
            "1473989262475366400 2021-12-23 15:10:00 +0300 <StanleyEpstein> Ever get the feeling you’ve been cheated?   https://t.co/n98v9ZLShn  #Bitcoin #cryptocurrency #finance #FOMO #banking #business #money  https://t.co/z6I1Ij8s35\n",
            "1473989229436882952 2021-12-23 15:09:52 +0300 <HobaBot> 🔻🔻🔻 $SFP Short Position(v2) 🔻🔻🔻  Entry: 1.5829 Target:1.5753 Stop:1.599  #Binance #Bitcoin #Signals #Sell #SFPUSDT #SFP\n",
            "1473989209753071616 2021-12-23 15:09:47 +0300 <navidnassiri> Altcoins Jump, XRP and SHIB See Substantial Gains   https://t.co/4qx1KDtv5u #crypto #cryptocurrency #blockchain #bitcoin #ethereum #antifud #fightfomo  https://t.co/IINBGtLYgb\n",
            "1473989187909074947 2021-12-23 15:09:42 +0300 <Web3markets> @Breedlove22 Anyone know how much VC has been spent on #bitcoin mining firms?\n",
            "1473989160029802496 2021-12-23 15:09:35 +0300 <FX37715131> 結構時間かかりましたが、1Hで見る限り上だと確信していました👍#BTC     #Bitcoin #ビットコイン #仮想通貨 #暗号資産 #暗号通貨 #ETH #イーサリアム #fx #fx初心者 #fx勉強中 #投資家  #投資初心者  https://t.co/RDQuoJYjsS\n",
            "1473989154337816581 2021-12-23 15:09:34 +0300 <BetFastcom> Injuries and inconsistency: The case against signing Carlos Correa  https://t.co/VrHRQ21NY2  ▶️  https://t.co/NKkDBVS66N #MLB #Bitcoin #Sportsbooks\n",
            "1473989152240771073 2021-12-23 15:09:33 +0300 <Barbie__Crypto> The rise and fall patterns that are frequently encountered in technical analysis and that may be useful to you...   #Bitcoin  #ETH #BNB  #Binance  https://t.co/FPCvAv4i8v\n",
            "1473989137732673542 2021-12-23 15:09:30 +0300 <bitluso> Se a @LiberalPT quiser realmente que o pais cresça a todos os níveis, deixe de fazer piadolas com shitcoins no Twitter e tome ações concretas para que a #bitcoin seja moeda oficial de Portugal   https://t.co/bZwlARe4Yn\n",
            "1473989121026711560 2021-12-23 15:09:26 +0300 <myaiexpert1> El Salvador has added 21 #bitcoin to its treasury on the 21st day of the last month of the 21st year of the 21st century. President Nayib Bukele said he made the purchase at 21:21:21 and pointed out El Salvador’s land area is 21,000 square kilometers when announcing the purchase.\n",
            "1473989112319422464 2021-12-23 15:09:24 +0300 <AventusNetwork> 🔥😱Crypto and blockchain deals soared 131% in 2021 in a 'defining' year for the sector, according to a report:   https://t.co/lnrLSgKmV8  #crypto #blockchain #bitcoin #ethereum #ETH #BTC\n",
            "1473989087493345281 2021-12-23 15:09:18 +0300 <Cryptonaldoo> #Btc #Bitcoin\n",
            "1473989072498667522 2021-12-23 15:09:14 +0300 <smartvalorinc> •200 Awesome Christmas Gifts are waiting for You!  •Top 6 most voted Christmas wishes will be each gifted with $200 in #Bitcoin •Based on your wish popularity - we’ll draw 194 Lucky gifts of $20 in #Bitcoin  Join #SmartValor🇨🇭- The Crypto exchange gift that keeps on giving 🎁\n",
            "1473989066148483078 2021-12-23 15:09:13 +0300 <InfoCriptDivisa> El Salvador ha comprado 21 #bitcoins más para conmemorar \"el último día 21 del año 21 del siglo XXI\". #bitcoin #cryptocurrency  https://t.co/p4D1Wmn4Vo\n",
            "1473989037639753741 2021-12-23 15:09:06 +0300 <bmurphypointman> #tumblr #twitter #facebook #instagram #dogecoin #socialmedia #pinterest #doge #deal #gift #gifts #giftideas #shoppingtime #shop #shopping #affiliatemarketing #bitcoin #freeshipping on purchases over $25 at #Amazon  https://t.co/EynvCaoEnT\n",
            "1473989014441111552 2021-12-23 15:09:01 +0300 <CryptoNewz4> How Chingari Became India’s Number One Social App on Google Play    https://t.co/de3WzYOi2J   #Bitcoin\n",
            "1473989014432665604 2021-12-23 15:09:01 +0300 <CryptoNewz4> 5 Ways to Manage Your Crypto Portfolio As We Head Into 2022    https://t.co/LOdWfNQOSh   #Bitcoin\n",
            "1473989014420140035 2021-12-23 15:09:01 +0300 <CryptoNewz4> Telegram-verified payments bot to accept Toncoin cryptocurrency    https://t.co/ECTx1a2kdu   #Bitcoin\n",
            "1473989014227238915 2021-12-23 15:09:01 +0300 <CryptoNewz4> Retailers to drive crypto payments adoption: Survey    https://t.co/kNt28sUR6f   #Bitcoin\n",
            "1473989013346435076 2021-12-23 15:09:00 +0300 <CryptoNewz4> Bitcoin price flatlines as XRP hits $1 with ‘massive’ altcoin move set for 2022    https://t.co/FK14V8IkXB   #Bitcoin\n",
            "1473989007876915202 2021-12-23 15:08:59 +0300 <WassieCFO> @Choi3Choice Check out this account on OpenSea  🧡💙💛💚💜  #NFTs #NFTCommunity #NFTGiveaway #NFTcollection #NFTartist #NFTartwork #Crypto #ETH #MATIC #Bitcoin #NFTJapan #shiba #NFT #SolanaNFTs     https://t.co/QRriLwQTJq via @opensea   https://t.co/byj3FLTW3T\n",
            "1473988989170458628 2021-12-23 15:08:55 +0300 <HobaBot> 🔻🔻🔻 $MATIC Short Position(v1) 🔻🔻🔻 Entry Price: 2.5291 Target:2.51696 Stop:2.55489 #Binance #Bitcoin #Signals #Sell #MATICUSDT #MATIC\n",
            "1473988972082876425 2021-12-23 15:08:50 +0300 <Bitcoin8News> The $BTC price is at $48,445.25 right now. 🟢 Compared to the last tweet, the price has increased by $28.36 (0.06%). 🔴 In the last 24 hours the price has dropped by $656.52 (1.34%).  #Bitcoin #BTC  https://t.co/q2hHQ4sCkB\n",
            "1473988969503375366 2021-12-23 15:08:50 +0300 <moni_talks_xyz> 🙆 Trump and the Russian Federation don't like crypto   1/4 Mr Donald Trump just recently came down on cryptocurrencies again.That's one.   #Russia #Trump #Bitcoin #Dollar #Ban #Crypto  https://t.co/CE1evsI9Id\n",
            "1473988944199102466 2021-12-23 15:08:44 +0300 <PaxfulArabic> That Big #Bitcoin Energy تلك الطاقة الهائلة #للبيتكوين  https://t.co/fHSknS27cz\n",
            "1473988936137596936 2021-12-23 15:08:42 +0300 <vedatarmagan> Crazy donkey #NFTs #NFTCommunity #nftcollector #nftart #Binance #BITCOIn #Ethereum #ETH #NFT #Metaverse  https://t.co/P9McSwHMhI\n",
            "1473988889887092741 2021-12-23 15:08:31 +0300 <FrAscendex> En ce #Christmas🎄 $BTC sera probablement ____ . Commentez #MerryChristmas et vos idées sur le prix du #Bitcoin\n",
            "1473988887466983428 2021-12-23 15:08:30 +0300 <BitStarzInsider> One lucky BitStarz player got their Christmas present a little early, hitting a massive 61,032x multiplier on the enchanting Beauty and the beast slot 🎅💰  #casino #win #slots #btc #bitcoin #bigwin   https://t.co/jqDDP2UZFl\n",
            "1473988862401777667 2021-12-23 15:08:24 +0300 <Barbie__Crypto> Buying burritos with #Bitcoin  in El Salvador 🌟  https://t.co/Zr4NwbJ4aF\n",
            "If you want to add #cashflow to it, do your research on #DeFiChain. It is digital financial services on #BTCo have it under digital control on your mobile phone and out of the reach of politicians. \n",
            "1473988848124317703 2021-12-23 15:08:21 +0300 <SilverBulletBTC> Altcoins are lined up for a nice little bull run   All we need is #Bitcoin to break above $50k  @elonmusk bro are you here? 🙏\n",
            "1473988831741313027 2021-12-23 15:08:17 +0300 <bitcoinstocode> for hundreds or even thousands of years gold has won over fiat, in 2020-2021 #bitcoin has won over gold\n",
            "1473988821398298624 2021-12-23 15:08:15 +0300 <MichaelAntonF> @darwinbitcoin @samcallah #Bitcoin is our D-Day.\n",
            "1473988821289218051 2021-12-23 15:08:15 +0300 <priyanshu2750> Check out my NFT listing on OpenSea!  https://t.co/Y8ALEr8tUc via @opensea  #NFTCommmunity #Polygon #Binance #MyCryptoWish #Tezos #blockchain #Bitcoin #btc #NFT\n",
            "1473988801508921345 2021-12-23 15:08:10 +0300 <amin_sorkheh72> Bitcoin price flatlines as XRP hits $1 with 'massive' altcoin move set for 2022 #Altcoin #bitcoin via  https://t.co/dVQ96fEGbg  https://t.co/aZQPTHXpaW\n",
            "1473988793241948165 2021-12-23 15:08:08 +0300 <Davbiz18> @DocFangFang #Bitcoin 🐳\n",
            "1473988788254912521 2021-12-23 15:08:07 +0300 <bmurphypointman> #discounts #bitcoin #tumblr #twitter #facebook #instagram #dogecoin #socialmedia #tiktok #doge #deal #gift #gifts #giftideas #shop #shopping #affiliatemarketing  #drizly #drinks #Beer #wine #liquor  https://t.co/geyDQchEbS\n",
            "1473988786778513413 2021-12-23 15:08:06 +0300 <bmurphypointman> #discounts #tumblr #twitter #facebook #instagram #webtalk #socialmedia #pinterest #reddit #deal #gift #gifts #giftideas #shop #shopping #affiliatemarketing #bitcoin #Freeshipping with $25 Purchase  https://t.co/T6DssFr7Nn\n",
            "1473988784316469248 2021-12-23 15:08:06 +0300 <bmurphypointman> #discounts #blogger #tumblr #twitter #facebook #instagram #blog #socialmedia #affiliatemarketing #blogging #website #reddit #affiliate #referral #crypto #shopping #travel #business #bitcoin #dogecoin  https://t.co/8SvumefzzY\n",
            "1473988759834316803 2021-12-23 15:08:00 +0300 <Aware_Yugen> Time for #crypto #bitcoin and #klever\n",
            "1473988728930676736 2021-12-23 15:07:53 +0300 <BitcoinBlessed> #Bitcoin\n",
            "1473988718939852801 2021-12-23 15:07:50 +0300 <xrpjoker_no1> I'm curious when people like @jack &amp; Co will start to understand that $XRP is not a disadvantage for #Bitcoin\n",
            "1473988718046367746 2021-12-23 15:07:50 +0300 <CryptoRevoltFR> @bender57b @LudovicBrossy @nico_dufrene @blast_france @salomesaque @ydemombynes Le problème est uniquement idéologique  Pour un keynésien ou un marxiste, #Bitcoin est contraire à chacune de leur théorie économique, monétaire, politique et philosophique  Cela explique pour quoi Dufrêne se bat autant pour semer sa propagande et ses postulats infondés...\n",
            "1473988710999994370 2021-12-23 15:07:48 +0300 <BorsaTek_> #usdttry doviz geliri olanın bile alım gücünün düştüğü bir dönemdeyiz gıda ikinci el arac vss çatır çatır artan fiyatlar simdi tik yok #bitcoin\n",
            "1473988709682794499 2021-12-23 15:07:48 +0300 <Breedlove22> #Bitcoin is money for grown ups.\n",
            "1473988702724665355 2021-12-23 15:07:46 +0300 <MONkoolCSGO> Call me simple - the best deminer on BetFury! 😎️ My win: 0.0040742989 TRX. My BTC address: undefined. Be brave &amp; try your luck  with \"Mines\" game 💣 #betfurysuccess #bitcoin #staking\n",
            "1473988672412434432 2021-12-23 15:07:39 +0300 <Barbie__Crypto> Elon: Bitcoin just gives power to rich people  #Bitcoin : How are you still this uninformed?  https://t.co/PpWcotkFKu\n",
            "1473988652946522114 2021-12-23 15:07:34 +0300 <IdGypro> always find this type of project Strong  !! And I feel very lucky that one of them  @irwan72686328 @CuanHunterrr @DropHunterrr   #𝙲𝚁𝚈𝙿𝚃𝙾𝙲𝚄𝚁𝚁𝙴𝙽𝙲𝚈  #𝙱𝚒𝚗𝚊𝚗𝚌𝚎𝚂𝚖𝚊𝚛𝚝𝙲𝚑ain #Bitcoin  #Airdrop\n",
            "1473988647342862338 2021-12-23 15:07:33 +0300 <letecho_com> #btc #Bitcoin [2021/12/23 21:05:23] 値段：5,561,544¥ 時価総額：105,109,148,584,148¥ 高値(24h)：5,637,198¥ 安値(24h)：5,510,130¥ 値段変動率(1h)：0.03％ See more:  https://t.co/bdLQn9gxiU #cyptocurrency #仮想通貨 #ビットコイン\n",
            "1473988644939526145 2021-12-23 15:07:32 +0300 <Crypto_News100> ‘Bitcoin Just Gives Power To New Rich People’—Elon Musk Reveals Why He Supports Dogecoin Over Ethereum Even As Its Price Slides  https://t.co/NDBlD2agsc #cryptocurrency #bitcoin #crypto\n",
            "1473988636815372290 2021-12-23 15:07:31 +0300 <IAmBitcoinBot> Current #Bitcoin Price is $48512 #BTC #Crypto\n",
            "1473988603705536515 2021-12-23 15:07:23 +0300 <KardesBaris> Saat 14.49'da Poolin'den 2256.5 adet #Bitcoin çıkışı gerçekleşti.  Bakalım ne olacak...  https://t.co/bUvpht40Qo\n",
            "1473988596902289408 2021-12-23 15:07:21 +0300 <finmexBTC> @blocktrainer Jeder der die Verteilung von #Bitcoin als ungerecht empfindet kann dagegen etwas tun und Sats stacken.\n",
            "1473988593676914691 2021-12-23 15:07:20 +0300 <PaxfulArabic> Imagine if we had a digital currency that existed to help level the playing field for people all around the world...  Oh wait, that's #Bitcoin.  تخيل لو كان لدينا عملة رقمية موجودة للمساعدة في تكافؤ الفرص أمام الناس في جميع أنحاء العالم ...  انتظر ، هذه هي #البيتكوين.\n",
            "1473988590166327297 2021-12-23 15:07:19 +0300 <criptobastardo> The #Bitcoin effect  https://t.co/y3DMS2CrWu\n",
            "1473988582566252545 2021-12-23 15:07:18 +0300 <BrettRosen325> @nahtanrn29 @JohnSmi27871922 @SalsTradingOTC #RBCapital is also super bullish on $ISWH and is holding more than 3,000,000 shares too; and we have invested $15,000,000+ in $ISWH over the past 12 months! @iswholdings @bloqhouse1 @deborahrachelb @BITMAINtech @bit5ive $mara $riot $hvbt #Bitcoin $BTC #Crypto\n",
            "1473988567382863877 2021-12-23 15:07:14 +0300 <bitcoinagile> #bitcoin Scenario  for BITFINEX:BTCUSD by CryptoContinental $BTC  https://t.co/07zhuFIobv  https://t.co/Tuw9TJ4wW2\n",
            "1473988562915835910 2021-12-23 15:07:13 +0300 <_vedai_> #Dolar bile ayı sezonu yaşayabilirmiş demekki, #bitcoin yaşamaz diyenler bir daha düşünsün ;) Dolar 12 - 11 - 9 …\n",
            "1473988546230984711 2021-12-23 15:07:09 +0300 <BTC_Whale_Alert> 🐳🚨 Bitcoin Whale Alert: [ TX: 808f71a77ee99c92376f6d3ffcd4c6c51bfa1bd983057866ec3563c81991e01c ]-[ ADDR: 3H3WqgE7Bc5cYrYwsyx2rGErD7TJzCErmb ]-[ #BTC: 18.45169099 ]-[ BLOCK_DATE: 2021-12-23 10:54:26 ] #btc_whale_alert #bitcoin\n",
            "1473988545467412483 2021-12-23 15:07:09 +0300 <Abhinav_Tweets> Finally we have an asset, that has grown faster than #Bitcoin   Modi-Yogi hai toh mumkin hai 😎\n",
            "1473988538106810374 2021-12-23 15:07:07 +0300 <Whiskey_bonbon_> 追いがつお、もとい、追いBUYで1時間BUY2連発 1時間オシレーターは買えと言っている #スナイパー #Bitcoin  https://t.co/tv50H6PtjS\n",
            "1473988528468017155 2021-12-23 15:07:05 +0300 <nachodonUST> I used to measure my wealth in terms of #Bitcoin &amp; $USD  2022 will be the year I measure my wealth in $LUNA 🌖\n",
            "1473988517235765259 2021-12-23 15:07:02 +0300 <Barbie__Crypto> Google searches for #Bitcoin  haven't recovered since the -50% crash in the summer.  #Bitcoin  at 48K and zero hype. 👍🤓  https://t.co/yWzegwLCCw\n",
            "1473988498499715073 2021-12-23 15:06:58 +0300 <criptoconcarlos> 4 años atrás los federales estadounidenses imprimían 6.25 millones de dólares cada 10 minutos. Hoy en día imprimen 12.5 millones de dólares cada 10 minutos.  #Bitcoin / #Criptomonedas es la solución.\n",
            "1473988480032067591 2021-12-23 15:06:53 +0300 <OdoStacks> They attack us with names because they can’t attack our ideas. They’re intellectually inadequate and flailing against their failing system. This is why #bitcoin\n",
            "1473988450844094471 2021-12-23 15:06:46 +0300 <Barbie__Crypto> Bullish divergence between #Bitcoin  price and illiquid supply ratio.    This has led to higher prices the last 2 times. 3rd time? 🧐  https://t.co/Yhoc3Xg6Xz\n",
            "1473988447270576138 2021-12-23 15:06:45 +0300 <FlaviusDaniel8> Ca scenariu optimist de viitor #bitcoin , e acesta ,desi valul 2 nu e clar definit insa o sa updatez la nevoie. Target pt wave 3 - 54K si pt wave 5 - 56.5K  Sansele de indeplinire a acestuia sunt mari daca inchide peste fib ext 1 (51.8K)  Scop educativ!👀 #cryptotrading #FYP #btc  https://t.co/iYGjz3jVX7\n",
            "1473988427251171329 2021-12-23 15:06:41 +0300 <aja_curtis> I am very proud to have never owned any #Bitcoin, or any other #cryptocurrency.  Think of all the prosperity-facilitating innovation out there that could be funded with the $USD 2.2 trillion+ currently allocated by investors to #crypto.\n",
            "1473988423065210889 2021-12-23 15:06:40 +0300 <pappmamsel> #bitcoin vererben im Schweizer TV @SRF    https://t.co/CxRMQTHR3l\n",
            "1473988417390264332 2021-12-23 15:06:38 +0300 <PaxfulArabic> Look around you and see how #Bitcoin is changing the lives of people whose financial systems failed them.  انظر حولك وشاهد كيف تغير #البيتكوين حياة الأشخاص الذين فشلت أنظمتهم المالية معهم.  https://t.co/IXODi6Kzi6\n",
            "1473988415050125312 2021-12-23 15:06:38 +0300 <StockandmoreCom> Binance introduces BNB Auto-Burn to replace quarterly burn protocol  #crypto #blockchain #bitcoin #stockandmore $btc\n",
            "1473988408154353664 2021-12-23 15:06:36 +0300 <WestCoastCoz> Haven't got a @coinspotau account yet? Sign up with my referral link and get $10 worth of #Bitcoin for free!  https://t.co/ekVyn0DuxW\n",
            "1473988398524383233 2021-12-23 15:06:34 +0300 <CryptoNewz4> CRYPTO TRADING - HOW TO TRADE CRYPTOCURRENCY USING MOVING AVERAGES   https://t.co/k3bnfdjkIZ   #Bitcoin\n",
            "1473988398285266956 2021-12-23 15:06:34 +0300 <CryptoNewz4> My Top 5 Crypto Picks for 2022!   https://t.co/2G3sTc5PAP   #Bitcoin\n",
            "1473988359978688512 2021-12-23 15:06:25 +0300 <ShibCoinOwner> 1 Cryptocurrency I'd Buy Right Now #CryptoCurrency #bitcoin #cryptocurrencies via  https://t.co/6FnEGp60l8  https://t.co/Rvc5rDgHhM\n",
            "1473988344581398535 2021-12-23 15:06:21 +0300 <fibeeapp> Analyses et décryptages du jour : \"Les cryptoactifs comme une solution pour diversifier son patrimoine\" par tobam (-) #Bitcoin #Cryptomonnaies |  https://t.co/Sen87uIlMQ ⇲   https://t.co/Sen87uIlMQ\n",
            "1473988344203915271 2021-12-23 15:06:21 +0300 <stevedabitcoin> TL bazında #Bitcoin trade edenler için zor zamanlar maalesef. Btc $48k-$49k arasında stabil ilerlediği halde TL’deki düşüş Türk kripto yatırmıcısını şimdilik mahvetti maalesef\n",
            "1473988305071255557 2021-12-23 15:06:11 +0300 <BrittneyVanzan1> Let's moon #bitcoin\n",
            "1473988302902542338 2021-12-23 15:06:11 +0300 <CyberHornetCash> The first Cyber Hornet Hive has launched.   Buy only #bitcoin at 1005 N State St, Chicago, IL 60610.  We're inside the parking garage.   Special thanks to @LamassuBTC @saylor 🟠💊 @orangepillpod @maxkeiser @stacyherbert for the inspiration. We hope to see everyone in El Salvador!  https://t.co/0itHvWLN4Y\n",
            "1473988299526217730 2021-12-23 15:06:10 +0300 <VitaICrypto> It wouldnt be a bull market if there wasnt a #bitcoin  maxi vs #eth war\n",
            "1473988295029837837 2021-12-23 15:06:09 +0300 <Feheron> #metaverse #metapets #bnb #bitcoin @MiranaPatikli  Metapets goes viral!🐼🦊🐺🐶🐱 45'000 Wallets in 4 Weeks  https://t.co/NTfgHkVMaN\n",
            "1473988292089581569 2021-12-23 15:06:08 +0300 <ahmdhdd> #bitcoin is built by people $people is built by $People\n",
            "1473988287291441162 2021-12-23 15:06:07 +0300 <leboncoincrypto> #Blockchain #Crypto #Bitcoin #Ethereum #Trading Boris Schlossberg : Le bitcoin (BTC) est une « réserve de valeur plus avantageuse que l’or »:  https://t.co/FcoN0YsyPw\n",
            "1473988283751411712 2021-12-23 15:06:06 +0300 <leboncoincrypto> #Blockchain #Crypto #Bitcoin #Ethereum #Trading Le prix des NFTs Bored Ape passe devant celui des CryptoPunks:  https://t.co/21UDp1923h\n",
            "1473988282472140806 2021-12-23 15:06:06 +0300 <bmurphypointman> #tumblr #twitter #facebook #instagram #dogecoin #socialmedia #pinterest #doge #deal #gift #gifts #shoppingtime #giftideas #shop #shopping #affiliatemarketing #bitcoin #freeshipping on purchases over $25 at #Amazon  https://t.co/EynvCaoEnT\n",
            "1473988277321572361 2021-12-23 15:06:05 +0300 <leboncoincrypto> #Blockchain #Crypto #Bitcoin #Ethereum #Trading Capital-risque (VC) – $25 milliards investit dans le secteur crypto en 2021:  https://t.co/QZgaRVrbvG\n",
            "1473988266378633223 2021-12-23 15:06:02 +0300 <BTC_Whale_Alert> 🐳🚨 Bitcoin Whale Alert: [ TX: acf0928c8f743465d5bfe672e5c17d1ea0233122401f2e700ccd3ee51e613d30 ]-[ ADDR: 329koRvovTyNnd4ADrpR2uJHzXxfvKxta5 ]-[ #BTC: 21.90567895 ]-[ BLOCK_DATE: 2021-12-23 10:54:26 ] #btc_whale_alert #bitcoin\n",
            "1473988265799680000 2021-12-23 15:06:02 +0300 <CappcoinsCrypto> Report: Illegal Trades Account for Less Than 3% of Total Bitcoin Transactions  https://t.co/m9AiUSbyvX #crypto #cryptocurrency #bitcoin\n",
            "1473988254231777280 2021-12-23 15:05:59 +0300 <crypptoholix> Mr. Manipulator is up again. A few more tweets and people will treat him like a Chinese Gov. 😂 Probably we will hear some superlatives about $DODGE soon $BTC #Bitcoin\n",
            "1473988237354053640 2021-12-23 15:05:55 +0300 <paleobit> Comprando el dip. #bitcoin #paxfulLatam  https://t.co/dr07ujili3\n",
            "1473988232312352770 2021-12-23 15:05:54 +0300 <naisha2018> #CPLAY #IDO #CryptoPlayStore #Bitcoin #BinanceSmartChain #Cryptocurrency  https://t.co/qNrD3jQhIy\n",
            "1473988219293388800 2021-12-23 15:05:51 +0300 <BTC_Whale_Alert> 🐳🚨 Bitcoin Whale Alert: [ TX: 2b3d579e69a408d85c1a978fcd807c1f4df9471b30d4e9b4bdcdb72933369c0d ]-[ ADDR: 3MWQB3TP5sgMkaZHfgAvCk5kB8RGfKB6Xm ]-[ #BTC: 11.36424781 ]-[ BLOCK_DATE: 2021-12-23 10:54:26 ] #btc_whale_alert #bitcoin\n",
            "1473988213081526272 2021-12-23 15:05:50 +0300 <CryptoRevoltFR> @bender57b @LudovicBrossy @nico_dufrene @blast_france @salomesaque @ydemombynes Non... ça devrait réjouir Dufrêne qui souhaite une dictature verte pour sauver la planète  #Bitcoin est le seul outil pouvant amener une décroissance CONSENTIE par les individus en limitant rationnellement leur consommation sachant que la thésaurisation est de nouveau récompensée\n",
            "1473988168328298500 2021-12-23 15:05:39 +0300 <BitcoinTracker2> $BTCUSD Current Bitcoin Price: $48,452 Day High: $48,705 Day Low: $48,112 Year Low: $22,778 Year High: $68,790 65 Day Moving Avg: $54,781 10 Day Moving Avg: $47,827 #Bitcoin #RealMoney #BTC #Cypto\n",
            "1473988164545093634 2021-12-23 15:05:38 +0300 <AlotaibiBasel> Buy #Bitcoin\n",
            "1473988158006382596 2021-12-23 15:05:36 +0300 <dovewallet_en> Last #Bitcoin savings has ended and distributed successfully. The upcoming product of Savings is open now, and the application period ends 12/24/2021 at 1 AM (UTC). Please check out the Savings page below for more information.  https://t.co/EJ6kQjHNz0  Thank you and Super happy!  https://t.co/p8AtuvIRyD\n",
            "1473988155208577031 2021-12-23 15:05:36 +0300 <fixtheblock> Supply On Exchange Wallets [1D], #Bitcoin EXCHANGES: #Coinbase #Binance #Bitfinex #Huobi #Kraken #OKEX  https://t.co/oOpZKEPxMY\n",
            "1473988140549427202 2021-12-23 15:05:32 +0300 <adamjhaller> @leadlagreport Few understand how tame I am and open minded about #bitcoin.  FT is not so kind.  I pity those that lose what they cannot afford to.\n",
            "1473988135621206018 2021-12-23 15:05:31 +0300 <coinhippoHQ> 🌦 Today's #Bitcoin Fear &amp; Greed Index is 34 - Fear  #Crypto #Cryptocurrency  https://t.co/ISf4iycJAh\n",
            "1473988129463971860 2021-12-23 15:05:30 +0300 <CryptoHolon> The legacy system is run by an unconscience establishment.  Boycott amazon. Buy #Bitcoin\n",
            "1473988117120094209 2021-12-23 15:05:27 +0300 <Sober_Trading> #SNM / #BTC #SONM / #Bitcoin #Chart showing the accuracy of our VIP signals 🤯🚀  +26% profit in 2 days 🤑🤯  More of these signals are released daily on our VIP channel 🤩🤩  📩 DM to join  https://t.co/ZJuG5uwoN7\n",
            "1473988103031431179 2021-12-23 15:05:23 +0300 <rsollos> #Bitcoin is freedom! - for everyone!  https://t.co/u3vY6QeynD\n",
            "1473988099952816128 2021-12-23 15:05:23 +0300 <mtcbtc> @GravityAnalyti1 @FT #Bitcoin makes no such claims. Those who do well are those who do the work - by design.\n",
            "1473988082223382528 2021-12-23 15:05:18 +0300 <BobLin21231417> @nftbadger Normal people buy #Bitcoin but what you don’t know is: only successful people buy #Elemon\n",
            "1473988075722260484 2021-12-23 15:05:17 +0300 <mindfulbtcboss> Less than 3% of #bitcoin transactions account for illegal trades.  Source:  https://t.co/3J4T8URMJv  #illegaltrade #3percent\n",
            "1473988068906610692 2021-12-23 15:05:15 +0300 <CharlesOlafson> An intense review of #Bitcoin vs. Gold, Bonds, &amp; Equities, update on Institutional Adoption of BTC, the impact &amp; future of Public Miners, #Bitcoin vs. #Crypto,  Looming competition &amp; regulation of other digital assets, major BTC growth catalysts to watch.  https://t.co/8vnqBx3MuC\n",
            "1473988067321008129 2021-12-23 15:05:15 +0300 <DHodlguy> Phele 55k fir aaste aaste 65k fir ATH then BP…… #bitcoin\n",
            "1473988039017832452 2021-12-23 15:05:08 +0300 <ericvandeursen> #KISHU #KISHUARMY #KISHUSTRONG #Crypto #BITCOIN #KISHUFAM $KISHU\n",
            "1473988033707855876 2021-12-23 15:05:07 +0300 <BitFuFu1> #BTC price: $48,427.21 24h Change：-656.38 -1.34% 24h High: 49,245.81, 24h Low: 47,920.42 #cryptocurrency  #Bitcoin  #Cryptos  https://t.co/wDb7wLLFTG\n",
            "1473988029215916035 2021-12-23 15:05:06 +0300 <Kellykellam> Similarly, the #Bitcoin onchain data shows this pullback just bounced super healthy on the NUPL trend line that we did on all major pullbacks in 2021-Trade the Data, dont trade fear or hopium based on the price numbers-Always ask-WHAT DOES THE DATA SAY? It clearly points bullish\n",
            "1473988023951888385 2021-12-23 15:05:04 +0300 <eBargainsToday> Altcoins Jump, XRP and SHIB See Substantial Gains: Altcoins are making a strong comeback after taking a major hit in the last 4 weeks. XRP crossed the price level…  https://t.co/D4QQ1P2Imp  |  https://t.co/FHLhKCQA7o   |  https://t.co/FHLhKCQA7o #Cryptocurrency #Bitcoin #Ethereum  https://t.co/4ZEGcW42FA\n",
            "1473988018809802758 2021-12-23 15:05:03 +0300 <BtchcoinBipolar> #Bitcoin subiu ☹️️ - R$ 273.903,48 às 09:05  Variação 📉 -0,50% (R$ 1.372,33)\n",
            "1473988014200471552 2021-12-23 15:05:02 +0300 <Falconweed01> #Bitcoin gives power to everyone that has done, proof of work.\n",
            "1473988005023133702 2021-12-23 15:05:00 +0300 <CryptoWild777> #Festivus is HERE @CryptoWild777  Get up to 50 #FreeSpins with EVERY deposit today on wild @MascotGames #slots  T&amp;C Apply #bitcoin #btc #Crypto #OnlineCasino #casino  https://t.co/HNt2Gx6kvD\n",
            "1473988002380607490 2021-12-23 15:04:59 +0300 <CryptoChatRoom1> INCREDIBLE  Crypto signals and updates!!  #Bitcoin $ETH $DOT $XRP $LUNA $SNX $MIR $SOL $EGLD $AVAX $KSM $GRT $ZIL $RUNE $NEAR $RDD $ICON $QTUM $FTM $BAND $ROSE $ONE $IRIS $AKT $BTC $FSN $DASH $OLT $CAKE $SUSHI $DFI $CELO $SCRT $one $omg  https://t.co/QZovNJ9r62\n",
            "1473987975361200128 2021-12-23 15:04:53 +0300 <ahmetturkkan_> $GALA / USDT  Bugün hareketli görünüyor.   Devamlılık için grafikte belirttiğim direnç bölgesinin üzerinde kalması başlangıç için bile yeterli olur...  Piyasa oynaklığı çok yüksek olduğu için sağlıklı tahmin ve analiz yapmak çok mümkün olmuyor maalesef...  #Bitcoin #ETH #BNB  https://t.co/1p2KO64xaF\n",
            "1473987965537988608 2021-12-23 15:04:51 +0300 <HobaBot> 🚀🚀🚀 $XRP Long Position(v2) 🚀🚀🚀  Entry: 0.9664 Target:0.971 Stop:0.9565  #Binance #Bitcoin #Signals #Buy #XRPUSDT #XRP\n",
            "1473987960349634561 2021-12-23 15:04:49 +0300 <MyLegacyKit> @jongekaas5 @SkiveTM @ErJunai @cadillackiller I don't recognize anything Satoshi Nakamoto or #Bitcoin in BSV, except for the wise words of Satoshi that minority versions would end ugly, and that arbitrary data in the blockchain doesn't work. BSV is a perfect little testbed for these things.\n",
            "1473987957648510985 2021-12-23 15:04:49 +0300 <kessef212> President Nayib Bukele announcing a new purchase of 21 #Bitcoin #BTC on Tuesday.#crypto\n",
            "1473987954573918209 2021-12-23 15:04:48 +0300 <CryptoTraderUA> SELL #BITCOIN BUY #TONCOIN  https://t.co/6jh4zmUxlD  https://t.co/2vl6xIHc2U\n",
            "1473987917316034565 2021-12-23 15:04:39 +0300 <BTC_Whale_Alert> 🐳🚨 Bitcoin Whale Alert: [ TX: 18607c45d7cf71a18062391465bc0cb0bb9178e8cac2d306bd9d53d0685f9f41 ]-[ ADDR: 1LG8iMzYGRskbQE2dcTDuu2Nwhr6UvnsVE ]-[ #BTC: 16.75036713 ]-[ BLOCK_DATE: 2021-12-23 10:54:26 ] #btc_whale_alert #bitcoin\n",
            "1473987907019059205 2021-12-23 15:04:37 +0300 <BTC_Whale_Alert> 🐳🚨 Bitcoin Whale Alert: [ TX: 92a67c7c15152131ea9c8d1be77837ee4f5bc266019fca0248ff38ce979f655f ]-[ ADDR: 3Pv7L9EeYyAMcn7U3tTWyKWxFpVJHfQBTa ]-[ #BTC: 16.48142718 ]-[ BLOCK_DATE: 2021-12-23 10:54:26 ] #btc_whale_alert #bitcoin\n",
            "1473987895149182982 2021-12-23 15:04:34 +0300 <Victorius_BTC> The human species in the context of the universe is a mere coincidence of biological evolution on the smallest scale possible.  Yet we are awaiting a breakout of #bitcoin  We humans are very special as meaningless as we might be in the bigger picture.\n",
            "1473987862425227265 2021-12-23 15:04:26 +0300 <additionalrules> cryptocurrency news.  ‘Dead Man’s Switch: A Crypto Mystery’ Review: A Staggering Scam? - The New York Times     https://t.co/FaihdMKmJ5  #crypto #cryptocurrency #BTC #bitcoin #money\n",
            "1473987860210589697 2021-12-23 15:04:25 +0300 <additionalrules> cryptocurrency news.  Large Ethereum Holders Are Actively Accumulating Three Crypto Exchange Tokens - The Daily Hodl     https://t.co/JIQI4jjX93  #crypto #cryptocurrency #BTC #bitcoin #money\n",
            "1473987858511937537 2021-12-23 15:04:25 +0300 <additionalrules> cryptocurrency news.  3 million in dirty crypto cleaned by Frankfurt prosecutors - Mint     https://t.co/yF80lqlGhn  #crypto #cryptocurrency #BTC #bitcoin #money\n",
            "1473987856410771456 2021-12-23 15:04:24 +0300 <additionalrules> cryptocurrency news.  No Progress on Russian Crypto Law until February 2022 at the Earliest, Says Duma Chief - Cryptonews     https://t.co/nMpGsdPfUv  #crypto #cryptocurrency #BTC #bitcoin #money\n",
            "1473987851700293637 2021-12-23 15:04:23 +0300 <additionalrules> cryptocurrency news.  Crypto Markets See Mixed Session as Terra Falls, NEAR Sets All-Time High - CoinDesk     https://t.co/GPuq4xnDE8  #crypto #cryptocurrency #BTC #bitcoin #money\n",
            "1473987848114249730 2021-12-23 15:04:23 +0300 <TheCapalyon> Brought $UFO coin today available on KuCoin I'm prepared for the year of 2022 crypto megatrends. Blockchain⛓ gaming, metaverse, mining and software is the future of wealth creation. #bitcoin #Metaverse #gaming @RadioSilentplay @keytweetz\n",
            "1473987845157269512 2021-12-23 15:04:22 +0300 <additionalrules> cryptocurrency news.  What the top crypto execs predict for the industry in 2022: Regulation and a Big Tech 'brain drain' - CNBC     https://t.co/irP16mleos  #crypto #cryptocurrency #BTC #bitcoin #money\n",
            "1473987792820600832 2021-12-23 15:04:09 +0300 <simplykashif> Generally speaking countries have gold, foreign exchange as treasury reserve.  UAE &amp; Norway has gold, real estate, oil companies, foreign exchange and stocks of Apple, Google, Tesla, Facebook and other tech companies.  How long it will take them to include #Bitcoin?\n",
            "1473987785254408194 2021-12-23 15:04:08 +0300 <bmurphypointman> #discounts #bitcoin #tumblr #twitter #facebook #instagram #dogecoin #socialmedia #tiktok #doge #deal #gift #gifts #giftideas #shop #shopping #affiliatemarketing  #cooking #homecooking  https://t.co/pfupencvc5\n",
            "1473987782053879811 2021-12-23 15:04:07 +0300 <bmurphypointman> #discounts #blogger #tumblr #twitter #facebook #instagram #blog #socialmedia #affiliatemarketing #blogging #website #reddit #affiliate #referral #crypto #shopping #travel #business #bitcoin #dogecoin  https://t.co/O63RzsxkBf\n",
            "1473987781437370371 2021-12-23 15:04:07 +0300 <bmurphypointman> #discounts #tumblr #twitter #facebook #instagram #webtalk #socialmedia #pinterest #reddit #deal #gift #gifts #giftideas #shop #shopping #affiliatemarketing #bitcoin #PrimeVideo  member deals on #AmazonPrime #AmazonPrimeVideo  https://t.co/EynvCaoEnT\n",
            "1473987718225047559 2021-12-23 15:03:52 +0300 <HobaBot> 🔻🔻🔻 $UNFI Short Position(v1) 🔻🔻🔻 Entry Price: 9.39 Target:9.344 Stop:9.485 #Binance #Bitcoin #Signals #Sell #UNFIUSDT #UNFI\n",
            "1473987692824526852 2021-12-23 15:03:45 +0300 <btctradep2p> ZaifスマートATMやLocalBitcoinsなどと違い、双方が対等な関係でBitcoinなどの暗号通貨の売買ができるサイトです。  「手数料の安さと、匿名性のどちらも大事」という方は、ぜひご利用ください！   https://t.co/bYqAjnrCfM  #Bitcoin\n",
            "1473987666786062342 2021-12-23 15:03:39 +0300 <WhaleRumors> Bullish divergence between #Bitcoin  price and illiquid supply ratio.   This has led to higher prices the last 2 times.  3rd time? 🧐  https://t.co/R3x3K04X6x\n",
            "1473987652965781506 2021-12-23 15:03:36 +0300 <pappmamsel> @ShiftCryptoHQ @srfnews @PatrickCrypto92 @_marcsteiner Keine Gute Idee, mit seiner Identität im TV für den Besitz von #Bitcoin und der Lagerung der Steelwallet zu Hause zu werben…\n",
            "1473987651560689665 2021-12-23 15:03:36 +0300 <BTCTN> El Salvador has purchased 21 more #bitcoins to commemorate \"the last 21st day of the year 21 of the 21st century.\" #bitcoin #cryptocurrency  https://t.co/QwWruQluej\n",
            "1473987628903116809 2021-12-23 15:03:30 +0300 <VapzerSignals> Scanner #crypto @ 12/23/2021 4:03 AM PST TF: 1 hr  🔵 Buy: 1/39 $REPUSD @ 17.55  🔴 Sell: 0/39  #Bitcoin #DOGE #Crypto #Coins\n",
            "1473987615527419905 2021-12-23 15:03:27 +0300 <StockSearcherBt> #Cryptocurrency, #StockMarket #Bitcoin price: 48441.3 USD || #Ethereum price: 3941.67 USD || #XRP price:0.966764 USD  || #Cardano price: 1.3516 USD || #Solana price: 178.03 USD\n",
            "1473987613438713857 2021-12-23 15:03:27 +0300 <pipequintem> @TheCryptoLark Always hold #Bitcoin 2022 is gonna be amazing\n",
            "1473987611551227917 2021-12-23 15:03:26 +0300 <bmw999> @Breedlove22 Keep on keeping on Robert, we shall overcome the tyranny of the fiat monetary complex. #Bitcoin is the ultimate super hero. Impenetrable, unstoppable and a force for good.  https://t.co/AJzOPUrsZ8\n",
            "1473987590424608776 2021-12-23 15:03:21 +0300 <CoinJot> The narrative was that Chinese #Bitcoin miners went on an exodus to greener pastures in the face of an aggressive crackdown from government officials.  Some brave miners have decided to stay back while playing hide and seek with regulators.   https://t.co/KXHTFKTHa3\n",
            "1473987573261520896 2021-12-23 15:03:17 +0300 <sntcapitalBTC> #MNG #MoonNationGame Benimle beraber alanlar, MACD günlükte al konumuna geçmek üzere ve W formasyonu gördüm. Bunun bize getirisi buradan 2x ilk etapta olabilir. (Kısa vade )  Projesi zaten gayet güzel ve marketcap değeri düşük. Bence güzel bir yatırım oldu.   #Bitcoin #Btc\n",
            "1473987526637535246 2021-12-23 15:03:06 +0300 <bmurphypointman> #tumblr #twitter #facebook #instagram #dogecoin #socialmedia #pinterest #doge #deal #gift #shoppingtime #gifts #giftideas #shop #shopping #affiliatemarketing #bitcoin #freeshipping on purchases over $25 at #Amazon  https://t.co/EynvCaoEnT\n",
            "1473987504193912839 2021-12-23 15:03:01 +0300 <BitcoinUKPR> Mine Crypto Currency from your Phone on the Pi Network  https://t.co/QYxs0ANnxC   #Bitcoin #Pi #PiCoin #PhoneMining #Crypto #CryptoCurrency  https://t.co/GD8T7zNXjP\n",
            "1473987491485077513 2021-12-23 15:02:57 +0300 <Aroa_cripto> Cada vez mas se esta comenzando hablar de un posible #criptoinvierno, muchos afirman que ya llegó, otros lo ven imposible.   Entonces en invierno cripto es ¿MITO O REALIDAD?  Los invito a leer mi articulo en #tradingview hablando sobre el tema   #bitcoin   https://t.co/wuy43dGZQQ\n",
            "1473987473025998848 2021-12-23 15:02:53 +0300 <BenHart_Truths> @BitcoinMagazine @elonmusk This sounds very different from what's he's been saying about #Bitcoin.  I'd like to see the full context of what he said here.\n",
            "1473987443833860108 2021-12-23 15:02:46 +0300 <riri123coin> @komochi4xamo #Bitcoin #BTC\n",
            "1473987438745956360 2021-12-23 15:02:45 +0300 <isthisallowed> isthisallowed found #bitcoin in a User vault at this location! Join me playing #coinhuntworld, It's awesome!  https://t.co/Ypr9hPogn9 #cryptocurrency #54287  https://t.co/fMOKfwRyCn\n",
            "1473987431607189510 2021-12-23 15:02:43 +0300 <MoneyMakerGrou2> Report: Illegal Trades Account for Less Than 3% of Total #Bitcoin Transactions  https://t.co/zBKzvksrDr\n",
            "1473987422044450821 2021-12-23 15:02:41 +0300 <rhett_creighton> #Bitcoin is the worst scam because...  You can't even SUE IT!  https://t.co/QehMbsk1dk\n",
            "1473987287880900609 2021-12-23 15:02:09 +0300 <cryptocharts> Thoughts on $BTC #Bitcoin! See CryptoContinental's idea on TradingView below.  https://t.co/nKfYoPhOzq\n",
            "1473987235385065474 2021-12-23 15:01:56 +0300 <SaylorBot> Michael Saylor's Bitcoin Average: ~$29534  Profit/Loss: $2.2866 Bn(+63.963%)  Bitcoin Hodled: ~₿121044  Total Investment: $3.5749 Bn  Learn from the Gigachad. Keep Stacking Sats.  #Bitcoin\n",
            "1473987226711343108 2021-12-23 15:01:54 +0300 <Spanishtrader> Update #bitcoin Schuren tegen de dalende trendljinen  https://t.co/gdpy0y43J7\n",
            "1473987204192088064 2021-12-23 15:01:49 +0300 <OrionBilisim> 📍 Elon Musk, #Dogecoin'in kurucusu Billy Markus'un #Bitcoin 'in sadece varlıklı insanlara güç vermesiyle ilgili düşüncesini destekleyerek, #DOGE'u tam olarak bu yüzden desteklediğini ifade etti.\n",
            "1473987202925436930 2021-12-23 15:01:49 +0300 <BotcoinUSD> on the 12/23/2021 at 12:01 1BTC was worth $48449.00 #Bitcoin #Crypto #BotcoinUSD #Bitfinex\n",
            "1473987176325173253 2021-12-23 15:01:42 +0300 <Manivesto1> Thanks god! I am #Bitcoiner   #Bitcoin #LightningNetwork  https://t.co/dFwZCmE400\n",
            "1473987140732157953 2021-12-23 15:01:34 +0300 <BullshitTrader_> #BTC currently ranging at the most important levels of the year as per volume profile 24.6% of the entire BTC Circulating Supply remains underwater.  This means in coming weeks/months support a high strength move towards at our All Time Highs. #bitcoin #crypto  https://t.co/xHdJdI62AB\n",
            "1473987121728069632 2021-12-23 15:01:29 +0300 <ShibCoinOwner> One Altcoin Is Now Mirroring Pre-Breakout Patterns of Cardano, Algorand and Bitcoin, Says Crypto Analyst #Altcoin #bitcoin via  https://t.co/6FnEGp6yaG  https://t.co/5uxlVE6AeM\n",
            "1473987114656276488 2021-12-23 15:01:28 +0300 <psalm911lisa> You Have Brains In Your Head. You Have Feet In Your Shoes. You Can Steer Yourself Any Direction You Choose.  https://t.co/5iZAJDywXT #Crypto #CryptoCurrency #Bitcoin #Blockchain #PassiveIncome  https://t.co/IEChL8w8AG\n",
            "1473987106544439301 2021-12-23 15:01:26 +0300 <PhilippWeber_> @Bryaneadamson The role $BTC and $ETH play is of course important, but IMO you can only use it for the general market direction, not for specific targets or resistance.   #Bitcoin and #Ethereum make the tides, but every individual #crypto has its own waves.\n",
            "1473987097937723394 2021-12-23 15:01:24 +0300 <DviusHackers> IoT SAFE — An Innovative Way to Secure IoT #Blockchain #bitcoin #ethereum via  https://t.co/zJ8ujdgW4g  https://t.co/OCW0WbyHR7\n",
            "1473987078459383811 2021-12-23 15:01:19 +0300 <lecriptovalute> Secondo #JackDorsey #Bitcoin potrebbe rimpiazzare il dollaro #USA   https://t.co/iwKUK86UeS\n",
            "1473987077087932417 2021-12-23 15:01:19 +0300 <SameFinance> 🚀 SamePay supports all the prominent #cryptocurrencies including Samecoin, #Bitcoin, #Ethereum and #TRON.  🔥 All SamePay users can exchange cryptocurrencies with the lowest fees and best exchange rates available in the open market!   👉 Learn more here:  https://t.co/7uqyvpRIkX  https://t.co/g6ESGL8zIu\n",
            "1473987075582087172 2021-12-23 15:01:18 +0300 <CriptoPasion> Conviértete en una obra de teatro para ganarte a Dios en esta epopeya de cadenas cruzadas. -  https://t.co/eYU2j4IFMV #cryptocurrencies #criptomonedas #bitcoin #btc\n",
            "1473987057504632832 2021-12-23 15:01:14 +0300 <Cryptomonkey01> El sentimiento está abandonando rápidamente el \"miedo\", pero ¿la acción del precio de Bitcoin puede superar y mantener con éxito la marca de USD 50,000?  #bitcoin #criptomonedas #trading #volatilidad #pypro $BTC $ETH,  https://t.co/S4MW8Ec2NC\n",
            "1473987052794519556 2021-12-23 15:01:13 +0300 <semcobackchat> devletiniz sizi ekonomi politikasıyla kandırıp birikimlerinizi bir gecede eritip el koyuyorsa ,siz de devleti , (bankalarında olan paranızı sisteminden çıkarıp   #bitcoin e yatırıp ) kandırabilirsiniz !\n",
            "1473987036445130757 2021-12-23 15:01:09 +0300 <ideaslikeflames> Thrilled to see one of our stars, the \"Exit Fiat\" sticker, make a cameo in the fantastic \"Human B\" documentary by @cinemuck_ 🤩  If you haven't done so, watch the movie and share it. Instant classic #Bitcoin film!  https://t.co/cJzYj9xjJk\n",
            "1473987036344471555 2021-12-23 15:01:09 +0300 <precofiat> R$ 1 = 364 sats | 24h: +2.53% $ 1 = 2056 sats | 24h: +0.98% € 1 = 2328 sats | 24h: +1.15%  #bitcoin\n",
            "1473987030799765507 2021-12-23 15:01:08 +0300 <yuugiriawano> 2021-12-23 21:00:00  BTCJPY   1Day SHORTLINE Sell   日足　短いローソク足　売り  日足は毎朝9時更新  #Bitcoin #ビットコイン #BTC #BTCJPY #仮想通貨 #投資 #Crypto #FX  https://t.co/PfEKapmhDK\n",
            "1473987028966834176 2021-12-23 15:01:07 +0300 <yuugiriawano> 2021-12-23 21:00:00  BTCUSD   1Day No signal  ---    日足　シグナル無し　 ---   日足は毎朝9時更新  #Bitcoin #ビットコイン #BTC #BTCUSD #BTCUSDT #BTCJPY #仮想通貨 #投資 #Crypto #FX  https://t.co/NLa7OtYhgv\n",
            "1473987028643901443 2021-12-23 15:01:07 +0300 <yuugiriawano> 2021-12-23 21:00:00  BTCJPY   60min ENGULFING Sell   １時間足　包み線　売り  HPにはBTCJPY5分足もあります  #Bitcoin #ビットコイン #BTC #BTCJPY #仮想通貨 #投資 #Crypto #FX  https://t.co/L17M3iD6Re\n",
            "1473987005319106567 2021-12-23 15:01:02 +0300 <SECAlerts2> 🚨 BitNile Holdings, Inc. filed a 8-K SEC filing mentioning #Bitcoin $DPW $NILE ➡️  https://t.co/RBNJcjfk2y\n",
            "1473987004190924806 2021-12-23 15:01:01 +0300 <BitSwings> [1h] #Bitcoin market is weakly trending down current momentum suggests the market is neutral. #markets #forextrading #forexsignals visit:  https://t.co/yuSljvM9Fq for more!\n",
            "1473987002055933955 2021-12-23 15:01:01 +0300 <DwightEichorn> @jackbutcher @dergigi decades of fiat has taught us a hard lesson; Either follow the money or get poor.  #Bitcoin fixes this.\n",
            "1473986994145533956 2021-12-23 15:00:59 +0300 <_adembilican_> @AlexLielacher @imobbcs @signalapp @signalapp what do you think? What about moving to #bitcoin lightning instead?\n",
            "1473986991838613507 2021-12-23 15:00:58 +0300 <CryptoPricing> Bitcoin Price (USD): 48429.35  Ethereum Price (USD): 3938.51  Dogecoin Price (USD): 0.1758  Safemoon Price (USD): 1.34e-06  #Bitcoin #Dogecoin #Ethereum #Safemoon #Crypto\n",
            "1473986989087154190 2021-12-23 15:00:58 +0300 <cryptosor> On est sur le bas de range sur la #bitcoin dominance  https://t.co/F1VPSrj5uR\n",
            "1473986978345533451 2021-12-23 15:00:55 +0300 <SePagos> 🟠 Esta semana vuelvo a enseñarte un concepto muy importante de #Bitcoin    https://t.co/1CU56m8ylf\n",
            "1473986977431101447 2021-12-23 15:00:55 +0300 <satsstackamoto> Literally ever alt coin is storing value. Storing value for #bitcoin.\n",
            "1473986974574858244 2021-12-23 15:00:54 +0300 <ErnAkyz> #Dolar Eski seviyelerine dönüyor. #bitcoin sende 60k lara gelsene hayatım hadi\n",
            "1473986955830562817 2021-12-23 15:00:50 +0300 <Zaaaxii> Bitcoin Parabolic SAR bullish! #Bitcoin  https://t.co/JZ3KfT2i2l\n",
            "1473986952013750277 2021-12-23 15:00:49 +0300 <MarketChartsApp> #BTC.D - New Technical Analysis   Chart on TradingView  https://t.co/ecR28JQAUJ $BTC $ETH #Bitcoin #CryptoCurrency #Trading #TechnicalAnalysis  https://t.co/2n3YY33T2Q\n",
            "1473986937207799810 2021-12-23 15:00:45 +0300 <kriptofoni> 🟠 Shiba Inu’da İbre Tersine Döndü! Potansiyel %200’lük Ralli Beklentisi!  #altcoin #bitcoin #btc #kriptopara #shib #shibainu   https://t.co/XhIan76La5\n",
            "1473986922284474375 2021-12-23 15:00:42 +0300 <GlobalEconomyEN> #Bitcoin is boring 🥱 (4-hour chart)  Trade crypto on #Bybit! Get up to - $100 - Bonus when you sign up with my link and trade!  https://t.co/yemjyeZ08e #Cryptotrading #Bitcointrading  https://t.co/2X5DiDWu99\n",
            "1473986904806735877 2021-12-23 15:00:38 +0300 <fashionplus1505> @WazirXIndia All user very well knew this. 1 #bitcoin = 1 #bitcoin\n",
            "1473986898867601409 2021-12-23 15:00:36 +0300 <coinok> 1 BTC Price: Bitstamp 48406.56 USD #BTC #Bitcoin 2021-12-23 07:00  https://t.co/TxRjqMuXUY\n",
            "1473986896892239879 2021-12-23 15:00:36 +0300 <MrCryptHODL> Preparing all the chips 👀⚡️#bitcoin  https://t.co/2xrorXHqS7\n",
            "1473986892316258308 2021-12-23 15:00:35 +0300 <day_bitcoin> Bitcoin chart #Bitcoin  https://t.co/jxEFtFl4TK\n",
            "1473986891179569155 2021-12-23 15:00:34 +0300 <BitcoinPrice30> Price of Bitcoin:  U$    48,381.66 €U    42,746.30 R$    275,460.24  24H   % change: -1.28% Week  % change: -1.58% Month % change: -13.82%  #bitcoin\n",
            "1473986882648227851 2021-12-23 15:00:32 +0300 <CryptoObn> Binance to implement automatic burn mechanism for BNB  https://t.co/fxrrZrg4SO #bitcoin #crypto #cryptocurrency\n",
            "1473986874561548291 2021-12-23 15:00:30 +0300 <VapzerSignals> Scanner #crypto @ 12/23/2021 4:00 AM PST TF: 1 hr  🔵 Buy: 3/39 $BATUSD @ 1.2608 $ALGOUSD @ 1.367 $SOLUSD @ 179.1298  🔴 Sell: 4/39 $ONTUSD @ 0.7069 $OMGUSD @ 6.5446 $ATOMUSD @ 27.157 $ZENUSD @ 66.337  #Bitcoin #DOGE #Crypto #Coins\n",
            "1473986871294312451 2021-12-23 15:00:30 +0300 <BtcPulse> BTC hourly update $48431.74    |    -0.03%📉 $BTC #BTCUSD #Bitcoin\n",
            "1473986854026366985 2021-12-23 15:00:26 +0300 <bmurphypointman> #discounts #tumblr #twitter #facebook #instagram #webtalk #socialmedia #pinterest #reddit #deal #gift #gifts #giftideas #shop #shopping #affiliatemarketing #bitcoin #freeshipping on purchases over $25 #Amazon  https://t.co/EynvCaoEnT\n",
            "1473986853711798282 2021-12-23 15:00:25 +0300 <bmurphypointman> #discounts #bitcoin #tumblr #twitter #facebook #instagram #dogecoin #socialmedia #tiktok #doge #deal #gift #gifts #giftideas #shop #shopping #affiliatemarketing  #savemoney #airportparking  https://t.co/tzPAOUPX4L\n",
            "1473986851467931654 2021-12-23 15:00:25 +0300 <bmurphypointman> #discounts #blogger #tumblr #twitter #facebook #instagram #blog #socialmedia #affiliatemarketing #blogging #website #reddit #affiliate #referral #crypto #shopping #travel #business #bitcoin #dogecoin  https://t.co/3735L0oW9i\n",
            "1473986849400098821 2021-12-23 15:00:24 +0300 <bmurphypointman> #tumblr #twitter #facebook #instagram #dogecoin #socialmedia #pinterest #doge #deal #shoppingtime #gift #gifts #giftideas #shop #shopping #affiliatemarketing #bitcoin #freeshipping on purchases over $25 at #Amazon  https://t.co/EynvCaoEnT\n",
            "1473986847491645444 2021-12-23 15:00:24 +0300 <axion_network> Here is a chance to earn a FREE #Bitcoin stake! Buy AXN in the Accelerator, and receive a Particles #NFT! The #NFTs contain a multiplier of the $AXN you bought. The multiplier is randomly given up to a 10x, with a max bonus stake of 50M!  https://t.co/Es7erhO8cr  #BTC #Crypto #ETH  https://t.co/0h1IEkJPiC\n",
            "1473986837362446340 2021-12-23 15:00:22 +0300 <Realcryptolexi> #Bitcoin just smashed $56k 🚀\n",
            "1473986836116742146 2021-12-23 15:00:21 +0300 <btcsentimentCOM> 🐋 #Crypto Whales vs. #Stablecoins 💵  🚨 Last 4 hours of #BTC-Exchange transactions 🚨  For clarification: #Crypto are ALL #cryptocurrencies incl. #Bitcoin  #Stablecoins are for example: #USDT #USDC #BUSD #TUSD etc. without ANY #cryptocurrencies   🤖 Automated-Tweet 🤖  https://t.co/hEBGIF9j4a\n",
            "1473986835261104131 2021-12-23 15:00:21 +0300 <weeblueghost> -  BTC price: $48,395 / £36,069   20.66 Naks per USD 27.72 Naks per GBP  &lt;price steady&gt;   When 1 #Nak = 1 #Dollar we shall have a 1m dollar Bitcoin  When 1 Nak = 1 GBPound then #Bitcoin = £1m etc.  #Bitcoinprice   23/12/2021  12:00:19 GMT  https://t.co/TifT9WUTMK\n",
            "1473986825425457156 2021-12-23 15:00:19 +0300 <BitcoinPreco> Preço do Bitcoin:  48.381,66   U$      275.460,24 R$    Binance 276.585,13 R$    Biscoint 275.868,00 R$    BitPreço  Variação 24H    : -1.28% Variação 7Dias  : -1.58% Variação 30Dias : -13.82%  #bitcoin\n",
            "1473986822447452168 2021-12-23 15:00:18 +0300 <free_crypto_21> Mining #Bitcoin for free 🚀 Signup and get 1 TH/s for free! 👇👇👇👇👇👇  https://t.co/HMURSaAMqi  #freebtc #bitcoins #Crypto #Investment #FreeMoney #freecash  https://t.co/6bV1WUGOgI\n",
            "1473986820010647566 2021-12-23 15:00:17 +0300 <TushPage> December 23, 2021 - \"Fair Values\" From  https://t.co/z6XIcLGyfs  $1.00 USD = 21,612 #NewYorkCoin 1 $NYC = $0.00004627 USD  $1.00 USD = 0.00002084 #Bitcoin 1 #Bitcoin = $47,993.27 USD  Worldwide Online Classified Advertising $NYC $BTC #Crypto - TUSH &amp; NYC Rewards  https://t.co/BD7PK5NjUU\n",
            "1473986812762755072 2021-12-23 15:00:16 +0300 <LYJP888> #Ethereum #BTC #BTCUSD #Bitcoin  https://t.co/IW93eej1jd\n",
            "1473986809663217673 2021-12-23 15:00:15 +0300 <jfallorina> ¡El último Noticias Sobre Bitcoin y Altcoins!  https://t.co/ANQu6LVNcn Gracias a @Juanasaucedo19 @CryptoJoseJM #bitcoin #btc\n",
            "1473986807599665157 2021-12-23 15:00:14 +0300 <kurneoldu> ⏰ 15:00   ₿ Bitcoin = 48.409,62 $  #bitcoin #btc #BTCUSD\n",
            "1473986798980198403 2021-12-23 15:00:12 +0300 <YearlyBTC_Bot> #Bitcoin yearly price on Dec 23:  2021: $48,406 2020: $23,832 2019: $7,563 2018: $4,009 2017: $15,025 2016: $907 2015: $440 2014: $331 2013: $621 2012: $13  #BitcoinPriceOnThisDay\n",
            "1473986795612385282 2021-12-23 15:00:12 +0300 <conews5> Telegram-verified payments bot to accept Toncoin cryptocurrency.   https://t.co/2dc8EdttHZ  #Bitcoin\n",
            "1473986784228954114 2021-12-23 15:00:09 +0300 <CryptoTys0n> If the whole world is waiting for 42k, 42k won't come.   The first rule is:expect the unexpected. #Bitcoin #btc  https://t.co/qezQne9cus\n",
            "1473986782739972107 2021-12-23 15:00:09 +0300 <koinmedya_> Zilliqa nedir ve geleceği nasıl? Zilliqa- ZIL token haber ve gelişmeleri  https://t.co/L8Ms6QUnKs #101 #altcoin #kriptopara #tml101 #zil101 #zilcoin #zilliqa #ziltoken #btc #bitcoin #eth\n",
            "1473986777878863876 2021-12-23 15:00:07 +0300 <fixtheblock> #Bitcoin stats every hour ---- Block: 715396 Hashrate: 191.23 EH/s Price last 24h: 48310.65$ -- Fast Fee: 2sat Slow Fee: 1sat -- TX unconfirmed: 749 -- Diff: 24T Diff change in block 715680 Next diff in 284 blocks\n",
            "1473986771738578949 2021-12-23 15:00:06 +0300 <yuugiriawano> 仮想通貨値下がり率ランキング24時間  2021-12-23 21:00:00  1位 $STEP  -11.6 2位 $DFL  -10.5 3位 $PERP  -8.2 4位 $STARS  -7.7 5位 $RNDR  -7.6 6位 $AMC  -7.4 7位 $GOG  -7.2 8位 $MRNA  -6.6 9位 $OKB  -6.2 10位 $MCB  -6.1 (%) #Bitcoin #BTC #BTCUSD #BTCJPY #Crypto #FX  https://t.co/kKV8Oe8J2j\n",
            "1473986771109265411 2021-12-23 15:00:06 +0300 <coinsamba> Fundador do Twitter critica CEO da Binance, notícia por @livecoinsBR #Binance #Bitcoin #BTCBRL #BTCNEWS #BTCUSD #Criptomoedas #JackDorsey #Notícias   https://t.co/5p1hQLgdRS\n",
            "1473986771100782592 2021-12-23 15:00:06 +0300 <CryptoCartel69> Defi Marketplace and NFT Platform Arcade Raises $15 Million in Series A Funding Round #Bitcoin #Btc #Cryptocurrency #Finance #Forex #Markets #Money #crypto  Read:  https://t.co/z1SilaOT3X  https://t.co/QXu7FBRhOS\n",
            "1473986770392002563 2021-12-23 15:00:06 +0300 <btcreports> Dec 23, 2021 04:00AM #Bitcoin Price: USD 48597.46 | EUR 42892.07 | JPY 5542284.78\n",
            "1473986770379280386 2021-12-23 15:00:06 +0300 <GustiRa74991529> Bitcoin 1-week social activity:  Galaxy Score™ 65.5/100 AltRank™ 177/3,414 2,130,255 social mentions 7,673,689,304 engagements 15,417 social contributors 24.09% social dominance 477,464 shared links Price -1.83% to $48,310.29    https://t.co/dbUPYkZF4C $btc #bitcoin\n",
            "1473986766638301184 2021-12-23 15:00:05 +0300 <yuugiriawano> 仮想通貨値上がり率ランキング24時間  2021-12-23 21:00:00  1位 $TONCOIN  42.1 2位 $ROOK  17.0 3位 $BOBA  15.9 4位 $AAVE  15.5 5位 $SUSHI  15.1 6位 $TRYB  12.8 7位 $SPELL  11.3 8位 $ENS  9.5 9位 $SLND  9.3 10位 $PSG  8.5 (%) #投資初心者 #投資家 #Bitcoin #game #仮想通貨  https://t.co/LDcduNh7bF\n",
            "1473986765434327042 2021-12-23 15:00:04 +0300 <BTCtoCAD> #Bitcoin price in Canadian Dollar $BTC $XBT $BTCCAD  BTC Price Now : 62,183.71$ CAD  Avg Last Hour : 62,158.93$  Avg 24 Hours : 62,576.19$  24h Change : -1.71%  24h Low : 61,835.87$  24h High : 63,466.53$   More information here  https://t.co/AnKnaDahL6  https://t.co/ObVCljjY0q\n",
            "1473986765115432967 2021-12-23 15:00:04 +0300 <coindata_uk> The price of #Bitcoin is currently $48,415.79  #Crypto $BTC #BTC   https://t.co/StFdwaGsoA\n",
            "1473986763400036361 2021-12-23 15:00:04 +0300 <500plusBTC> 👏 Jedna wpłata 500zł zainwestowana w #bitcoin 1 kwietnia 2016 roku jest dzisiaj warta 63989.64 zł. Aktualna cena #Bitcoin to: 198375.55zł.  https://t.co/71294pVP2d #500plus #btc\n",
            "1473986761848205314 2021-12-23 15:00:04 +0300 <BTCticker> One Bitcoin now worth $48406.56@bitstamp. High $49279.990. Low $48051.100. Market Cap $915.307 Billion #bitcoin  https://t.co/do9W7AJ1Mh\n",
            "1473986761344921601 2021-12-23 15:00:03 +0300 <BTCticker> One Bitcoin now worth $48406.56@bitstamp. High $49279.990. Low $48051.100. Market Cap $915.307 Billion #bitcoin\n",
            "1473986760912814082 2021-12-23 15:00:03 +0300 <BTCticker> One Bitcoin now worth $48381.715. Market Cap $914.837 Billion. Based on #coindesk BPI #bitcoin\n",
            "1473986758576594950 2021-12-23 15:00:03 +0300 <alisakittystar> Gold Investors Like What Chairman Powell Had to Say #trading #litecoin #gold #bitcoin  https://t.co/yk3SVG0YsD\n",
            "1473986756781481986 2021-12-23 15:00:02 +0300 <PlnSats> 👋 Aktualna cena #Bitcoin to: 198093.49 PLN a 1 PLN = 505 sats\n",
            "1473986756584230918 2021-12-23 15:00:02 +0300 <btcturk> ❓Yaklaşık 4 yılda bir gerçekleşen ve kısaca “Halving” olarak adlandırılan #Bitcoin blok ödülü yarılanması, kaç blok üretiminde bir gerçekleşmektedir?  📚En hızlı doğru yanıtı veren 3 kullanıcımız #BtcTurk'ten #BitcoinStandardı kitabını kazanıyor.  #BitcoinTurkiye  https://t.co/jbh4d0y2xy\n",
            "1473986756412592128 2021-12-23 15:00:02 +0300 <bitcoinjp> 現在の価格は 5,534,584.5円です。前回比は4,379円(0.08%)です。 #ビットコイン #bitcoin #btc $BTCJPY via @bitFlyer #ブロックチェーン\n",
            "1473986755405746177 2021-12-23 15:00:02 +0300 <precios_crypto> Precios Crypto - 2021-12-23 09:00 ------------------------------------------- #Bitcoin: $ 48387.72 | € 42747.86 #Ethereum: $ 3935.72 | € 3478.34 #Ripple: $ 0.9644 | € 0.8523 #Solana: $ 179.18 | € 158.31 #Stellar: $ 0.2752 | € 0.2432\n",
            "1473986755128971266 2021-12-23 15:00:02 +0300 <BufoBitcoin> #Bitcoin is currently $48,381.7150\n",
            "1473986754805968896 2021-12-23 15:00:02 +0300 <BitcoinAverage> BitcoinAverage - bitcoin price index - ($ 48392.1) -  https://t.co/z6cbnPDdmv #bitcoin  https://t.co/D6WCI66aSc\n",
            "1473986754684334086 2021-12-23 15:00:02 +0300 <CryptoNews_21> Thinking about finally investing in Cryptocurrencies?! 🪙🪙🪙  Get 20% off transaction fees on EVERY transaction you make.  Sign up using the link below..... #Bitcoin  #etherium  #Binance #Crypto #T1   https://t.co/qdXVt8HoIS\n",
            "1473986754239729665 2021-12-23 15:00:02 +0300 <bitapeso> Precio actual del #Bitcoin, #Ethereum y #Ripple   1 $USD  = $20.69 MXN  1 $BTC = $1,001,778.01 MXN  1 $ETH = $81,496.70 MXN  1 $XRP = $19.95 MXN  1 $LTC = $3,230.89 MXN  1 $BCH = $9,092.68 MXN  Compra y Vende Bitcoin, Ethereum y Ripple desde aquí:  https://t.co/EgcahDQQRb  https://t.co/G8ujbvtPFX\n",
            "1473986752733929473 2021-12-23 15:00:01 +0300 <CarbonaraIndex> The price of Spaghetti alla Carbonara is 22,705 Satoshis or 0.00022705 BTC  1 BTC = 48,402.50 USD 1 USD = 2,066 Sat on Thursday, 23 December 2021 06:00 AM CST  #bitcoin #CarbonaraIndex\n",
            "1473986752666689536 2021-12-23 15:00:01 +0300 <topcryptostats> Bitcoin - BTC Price: $48,390.89 Change in 1h: -0.14635166% Market cap: $915,005,824,783.38 Ranking: 1 #Bitcoin #BTC\n",
            "1473986752306106378 2021-12-23 15:00:01 +0300 <Bitcoin10min> $48397.19 | €42747.86 | ¥314499.03 | £36039.32 #bitcoinprice #cryptocurrency #bitcoin\n",
            "1473986752234901508 2021-12-23 15:00:01 +0300 <NowBitcoinPrice> Dec 23, 2021 11:59:00 UTC | 48,381.70$ | 42,714.80€ | 36,059.30£ | #Bitcoin #BTC $BTC #crypto #financial #news  https://t.co/zx45qH9WGi\n",
            "1473986751605706762 2021-12-23 15:00:01 +0300 <MertiumFin> Chinese Bitcoin Miners Still Operating Under the Radar  News Source: @beincrypto  Author: @CryptoBizzle   For More Trending Crypto And Finance News, Please visit:  https://t.co/8oqUfDO66i  #Bitcoin  #Chinese  #cryptocurrency    https://t.co/NUb5zEQDYm\n",
            "1473986751156920328 2021-12-23 15:00:01 +0300 <BTCHourlyPrice> 1 $BTC = $48,374.20 $USD 🔴 -1.27% chg/24h  #Bitcoin #BTC #Crypto #Cryptocurrency\n",
            "1473986750422863876 2021-12-23 15:00:01 +0300 <moon_or_earth> current price of #Bitcoin : 48,354.77 USDT  last 15 min  change : +0.20% volatile : 0.40%  O : 48,260.38 USDT H : 48,448.28 USDT L : 48,255.52 USDT C : 48,354.77 USDT  to the moon? [23-12-2021 12:00 Z]\n",
            "1473986750146088970 2021-12-23 15:00:01 +0300 <player2world> Have you been naughty or nice this year? 🎅 will reward you with early access to our #Bitcoin Accumulator...more to be revealed soon!  https://t.co/pbqqsvxXQY\n",
            "1473986749235875845 2021-12-23 15:00:01 +0300 <precodosatoshi> 🇧🇷 BRL - R$ 0.00275061 🇺🇸 USD - $ 0.00048645 🇪🇺 EUR - € 0.00042956 🇯🇵 JPY - ¥ 0.05558767 🇬🇧 GBP - £ 0.00036213 🇨🇭 CHF - Fr 0.00044769 🇨🇳 CNY - ¥ 0.00309876 🇦🇷 ARS - $ 0.04975038  Stack Sats!  #Bitcoin\n",
            "1473986748996890629 2021-12-23 15:00:00 +0300 <HourlyBTCUpdate> Bitcoin: $48425.33 💔 -22.83 last 1 Hour (-0.05%) 💔 -81.96 last 5 Hours (-0.17%) 💔 -578.42 last 24 Hours (-1.18%)  #BitcoinPriceUpdates #Bitcoin #HourlyCrypto #CryptoUpdates #Crypto Powered By @CryptoCompare API\n",
            "1473986748791197700 2021-12-23 15:00:00 +0300 <wolfdotbet> 🏁 $5000 wolf race end in 5 hours!  🎁 Join the race and win some #Bitcoin   Play now 👉  https://t.co/FHsvbtlWfP  https://t.co/DI6VTRnVHL\n",
            "1473986748170764288 2021-12-23 15:00:00 +0300 <lawn_fx> 📄 Hourly Report 🖥 GMO Coin 🕘 2021-12-23 21:00 JST 💰 口座残高: 1,184,263 JPY 😱 評価損益: -17,142 JPY #⃣ #Bitcoin #ビットコイン #自動売買\n",
            "1473986649273122819 2021-12-23 14:59:37 +0300 <BTC_Whale_Alert> 🐳🚨 Bitcoin Whale Alert: [ TX: 6ffd9975143791e2dc77aa230fbe978b3f1cb152f5e8181591c28e140df3a589 ]-[ ADDR: 3PgTZoTfBX5R6vPRC253cr6LwFqwpEjf7S ]-[ #BTC: 13.66536623 ]-[ BLOCK_DATE: 2021-12-23 11:00:31 ] #btc_whale_alert #bitcoin\n",
            "1473986645145833480 2021-12-23 14:59:36 +0300 <Web3markets> @adam3us @mhereandthere I don’t disagree that #bitcoin paved the way and did start from seemingly a few individuals with a higher vision for the world.   What won’t happen happen is that breakthrough not be applied and adapted to suit wherever it’s needed in society.  Natural selection begins…\n",
            "1473986630545465349 2021-12-23 14:59:32 +0300 <Demetrius6170> An intense review of #Bitcoin vs. Gold, Bonds, &amp; Equities, update on Institutional Adoption of BTC, the impact &amp; future of Public Miners, #Bitcoin vs. #Crypto,  Looming competition &amp; regulation of other digital assets, major BTC growth catalysts to watch.  https://t.co/iEtBIHQp1r\n",
            "1473986628616175621 2021-12-23 14:59:32 +0300 <BTC_Whale_Alert> 🐳🚨 Bitcoin Whale Alert: [ TX: bd22a411debeaae821968b8865e386fadc454be506fc316cb7e4038f0a6cd803 ]-[ ADDR: 35yapBU9aCSqqZ1kM4DLWCgJxz5XjsuC8a ]-[ #BTC: 22.87442746 ]-[ BLOCK_DATE: 2021-12-23 11:00:31 ] #btc_whale_alert #bitcoin\n",
            "1473986622219825154 2021-12-23 14:59:30 +0300 <BitcoinTracker2> $BTCUSD Current Bitcoin Price: $48,378 Day High: $48,705 Day Low: $48,112 Year Low: $22,778 Year High: $68,790 65 Day Moving Avg: $54,780 10 Day Moving Avg: $47,817 #Bitcoin #RealMoney #BTC #Cypto\n",
            "1473986619573211140 2021-12-23 14:59:30 +0300 <BTC_Whale_Alert> 🐳🚨 Bitcoin Whale Alert: [ TX: 6f2788852d393cac490990a23137aa3518ddb48f9fbdb14f9d5d6aae7a79980e ]-[ ADDR: 3JjsvvAEmCVSzZrsFTwEdC97ZgG6CJShiZ ]-[ #BTC: 19.78122567 ]-[ BLOCK_DATE: 2021-12-23 11:00:31 ] #btc_whale_alert #bitcoin\n",
            "1473986572106223621 2021-12-23 14:59:18 +0300 <BTC_Whale_Alert> 🐳🚨 Bitcoin Whale Alert: [ TX: 38d59937469a8d20aeb355d413b10a32b452fb0fe3a735a2724757449cf5f646 ]-[ ADDR: 3CiaBvAnU6SHnWRv48vU6yfcxfLVXzLphn ]-[ #BTC: 25.83632987 ]-[ BLOCK_DATE: 2021-12-23 11:00:31 ] #btc_whale_alert #bitcoin\n",
            "1473986553340964865 2021-12-23 14:59:14 +0300 <diabolik_crypto> 2022 : Le logo @DiviWallet sera présent lors des matchs en direct. Cela inclut des équipes telles que le FC Barcelone et le Real Madrid. ⚽🚀 Pour tous les détails du partenariat  :👀  https://t.co/nTqSz1xTBC #Bitcoin $DIVI #football #Crypto  https://t.co/k3cwy22dOl\n",
            "1473986516040892421 2021-12-23 14:59:05 +0300 <CryptoKrine> $NEAR hit all targets, made 56% gains🎯  #NEARUSDT chart setup was posted on 21st and white line entry was triggered. It hit all targets and made huge gains!  Day trade with us and enjoy gains. Register here:  https://t.co/hDj4RiamoT  #Binance #Bitcoin #crypto #MATIC  https://t.co/uCESCooCWe\n",
            "1473986465860399105 2021-12-23 14:58:53 +0300 <elderalto> @ggreenwald If you have been mega wealthy for most of your adult life, as much as I love capitalism, you’re no longer qualified to speak on the merits of #bitcoin. For instance: You’ve likely forgotten things that your assistant does like wiring money, which is an archaic system.\n",
            "1473986449011879938 2021-12-23 14:58:49 +0300 <CryptoLellaNFT> @TizianoTridico The world doesn't believe it because the economy blames cryptocurrencies for their failures. #Bitcoin is the future and the banks are afraid. 😎\n",
            "1473986402236907522 2021-12-23 14:58:38 +0300 <zamparastraders> 18.47 den sattığım dolarları daha almadım kesin dip yaptığına emin olduktan sonra aldım diye twit atacağım :q  #bitcoin #dolar   https://t.co/sIjezzckn8\n",
            "1473986384633421824 2021-12-23 14:58:34 +0300 <sonya_marte> Year-to-date, the price of Bitcoin has risen by nearly 70%. Promote the total value of the entire crypto market to 2 trillion US dollars. However, the recent strengthening of regulatory scrutiny and severe price volatility have dampened Bitcoin’s prospects. #bitcoin  https://t.co/dtmobx1j62\n",
            "1473986380728578062 2021-12-23 14:58:33 +0300 <2xWhisky> Bitcoin 'Inventor' Loses Bid To Nix Suit Challenging Claim  https://t.co/z1tijim7W1  🧵 🧵 🧵 🧵 🧵 🧵 🧵 🧵   $BSV $BTC #Bitcoin #CryptoNews #BitcoinSV #BitcoinCash $BCH\n",
            "1473986373598257154 2021-12-23 14:58:31 +0300 <HobaBot> 🔻🔻🔻 $BAT Short Position(v1) 🔻🔻🔻 Entry Price: 1.2603 Target:1.2542 Stop:1.2731 #Binance #Bitcoin #Signals #Sell #BATUSDT #BAT\n",
            "1473986362319806467 2021-12-23 14:58:28 +0300 <noufsmith> #Bitcoin and its mega cup &amp; HODL.  https://t.co/oc9puvZKhq\n",
            "1473986340899651589 2021-12-23 14:58:23 +0300 <AliciaF65479248> #Bitcoin.\" – Coinbase\n",
            "1473986338689101827 2021-12-23 14:58:23 +0300 <cryptoMaxi420> Imagine thinking #Bitcoin can settle anything but simple transactions\n",
            "1473986333668360192 2021-12-23 14:58:21 +0300 <rey_sea> “Go against the trends, don’t follow the trend, the popular thinking, that’s conformity” do your homework, insvestigate, innovate, improve. #crypto #invest #shib #doge #elon #bitcoin #etc\n",
            "1473986333370630145 2021-12-23 14:58:21 +0300 <CointimesNews> Confira no Resumo de Mercado de hoje (23) a expectativa de resultado negativo para o IPCA-15 de dezembro e também o resultado do #Bitcoin e demais #altcoins em 24 horas.   #orçamento2022   https://t.co/lcRykeRn8G\n",
            "1473986321979002888 2021-12-23 14:58:19 +0300 <LAREVDELBITCOIN> Solana, una Criptomoneda para holdear y y comprar de forma inteligente..Nosotros lo hacemos con #ibot  . . . . #solana #sol #bitcoin #inteligenciaartificial en Barcelona, Spain  https://t.co/1hzFOvSJXB\n",
            "1473986299635777536 2021-12-23 14:58:13 +0300 <Musta530> #Bitcoin #Cryptocurrency  https://t.co/a4sPN6EtJu\n",
            "1473986296930394118 2021-12-23 14:58:13 +0300 <KeithschmidtMD> @RaoulGMI #Bitcoin vs #Ethereum ,   #WEB2 vs #WEB3 , @BoredApeYC vs #Cryptopunks These narratives are examples of #splitting. A psychological defense mechanism where we instinctively fail to recognize the dichotomy of both positive and negatives of being cohesive. Let’s all adapt together.\n",
            "1473986291494797323 2021-12-23 14:58:11 +0300 <Sober_Trading> #SNM / #BTC #SONM / #Bitcoin This #signal was put on our Crypto VIP channel on December 21 🤑🤑  Its +26% profit From This Signal 💰  📩 DM to join  https://t.co/7ZMh1L3utb\n",
            "1473986278832197637 2021-12-23 14:58:08 +0300 <DWhitmanBTC> Seeing the uninformed attempt to attach political messages or group identifiers to #bitcoin (as if it were some NGO or corporation)…  …only further highlights how money is used as a sword for, top-down social control, rather than a utility to incentivize human cooperation\n",
            "1473986257688670216 2021-12-23 14:58:03 +0300 <CryptoBullGod> ⚡️Why is it taking some time for #Bitcoin &amp; #crypto to recover in price?⚡️  I share a data-driven historical data point here that told us this was most likely  I also created a follow-up video on my channel  Please share  $btc #cryptocurrencies #metaverse   https://t.co/LyRmomJaUn\n",
            "1473986216177459201 2021-12-23 14:57:53 +0300 <lamvuvn93> #Bitcoin #Cryptocurrency  https://t.co/jbAVagFmVa\n",
            "1473986194560233474 2021-12-23 14:57:48 +0300 <CriptoNoticias> #Tutoriales Te mostramos cómo comprar y vender dentro de @binance P2P con tu moneda local de #Venezuela, #Colombia, #Argentina, #Chile, #España y más👌💰🌐  #Bitcoin #comprarbitcoin   https://t.co/IyPz2xY2HW\n",
            "1473986155494400003 2021-12-23 14:57:39 +0300 <realRicardoRuiz> #Bitcoin dominance is weakening and could break support which suggests alts will have a run. My bet is on alts that are on weekly support VS $btc.\n",
            "1473986115296276489 2021-12-23 14:57:29 +0300 <BKudamm> Lorenz Schmidt ist Inhaber der Bitcoinschule Hamburg. Mit ihm sprechen wir über #Bitcoin-Futures, #Investorenschutz sowie Contango.  https://t.co/vufpb70D2R  https://t.co/mlGXgYs9n1\n",
            "1473986100578377737 2021-12-23 14:57:26 +0300 <Tennessee96> Forbes: “New research has recently revealed that just 0.01% of bitcoin holders control 27% of the bitcoin in circulation.”  So this means that 99.9% of bitcoin holders control 73% of the bitcoin in circulation.   I don’t see what the problem is here? #Bitcoin\n",
            "1473986058320814082 2021-12-23 14:57:16 +0300 <ShibCoinOwner> Bitcoin price flatlines as XRP hits $1 with 'massive' altcoin move set for 2022 #Altcoin #bitcoin via  https://t.co/6FnEGp60l8  https://t.co/p0DHZRMdpX\n",
            "1473986055124635650 2021-12-23 14:57:15 +0300 <CuredSausage> The third web is strung by the corporate spider.  #Bitcoin\n",
            "1473986035185029120 2021-12-23 14:57:10 +0300 <Mehmet17556788> Bitcoin 1-year social activity:  Galaxy Score™ 59/100 AltRank™ 171/3,414 122,435,208 social mentions 586,941,656,511 engagements 161,910 social contributors 28.66% social dominance 20,106,700 shared links Price -1.83% to $48,311.64    https://t.co/1O6SYls1p1 $btc #bitcoin\n",
            "1473986021549346817 2021-12-23 14:57:07 +0300 <bmurphypointman> #tumblr #twitter #facebook #instagram #dogecoin #socialmedia #pinterest #doge #shoppingtime #deal #gift #gifts #giftideas #shop #shopping #affiliatemarketing #bitcoin #freeshipping on purchases over $25 at #Amazon  https://t.co/EynvCaoEnT\n",
            "1473986009616588803 2021-12-23 14:57:04 +0300 <Coherra1> 🚀 Meet our pioneer, ProChain Capital, @DavidDTawil. With YTD return +100% through Nov David visited @MariaBartiromo on @FoxNews, where he unveiled his outlook on Omikron, #Oil prices, #Bitcoin, #Etherium and Dec slump in equities as an opportunity. ( https://t.co/qB91J1ihRK).  https://t.co/mpZnz5WlFl\n",
            "1473985988284370945 2021-12-23 14:56:59 +0300 <NejatOzonay> Kriptoya ilgi de Türk Lirasının değer kaybında büyük pay sahibiydi.  Şu an doların değer kaybında da ters akımın başlaması nedenlerden birisi  Pazartesi gününden şu ana kadar Kripto’dan TL’ye geçişlerin 30 milyar TL’yi aştığı tahmin ediliyor  #döviz #DolarTL #coin #bitcoin #viop\n",
            "1473985946408439808 2021-12-23 14:56:49 +0300 <Garig48001264> @TheMoonCarl The Moon @TheMoonCarl  · Nov 15 If #Bitcoin does not hit $100,000 before the end of next year then I’ll delete my Twitter...\n",
            "1473985932395270149 2021-12-23 14:56:46 +0300 <bitcoinmybutt> Nobody likes a crypto diddler.  #Bitcoin only.\n",
            "1473985925885669382 2021-12-23 14:56:44 +0300 <HamArmyy> Thanks for the support @jack   #HamsterCoin #bnb #btc #bitcoin #binance\n",
            "1473985910509383684 2021-12-23 14:56:41 +0300 <TV_Finance> 📺 #CAC40 : VOLUMES TRÈS LİMİTÉS. 📉La volatilité reste forte... Sur @TV_Finance➡️  https://t.co/lNE1Qqc75t avec Antoine Quesada @QuesadaAntoine trader et coach pour @aqts_fr  #bourse #NASDAQ #DowJones #forex #Bitcoin  https://t.co/H9zsgIOf4b\n",
            "1473985829710307332 2021-12-23 14:56:21 +0300 <NJGirlinFLSun> Really learn what the  ⚡️⚡️⚡️⚡️ #lightningNetwork  is ...  ⚡️⚡️⚡️⚡️ #simple #Bitcoin   https://t.co/wu94oBw6Fq\n",
            "1473985826702995461 2021-12-23 14:56:21 +0300 <BITCOIN_AL_DIA> Análisis del mercado decriptomonedas. Retuitead por favor. #Bitcoin, apoyándose en la línea de tendencia para atacar las resistencias próximamente.  https://t.co/1gay2EfSOB\n",
            "1473985821799763970 2021-12-23 14:56:19 +0300 <fa124> @OfficialTravlad one bird in hand better than 10 on a tree ..  #bitcoin is the first to born that's why I would hold it for ever if i have one !\n",
            "1473985804762431489 2021-12-23 14:56:15 +0300 <TFPdaily> Omicron Cryptocurrency Token Jumps Over 900% as New Covid-19 Variant Makes Waves; #bitcoin Price Dips  https://t.co/eZmADb7qX6 #businessNews\n",
            "1473985795732168704 2021-12-23 14:56:13 +0300 <Tito_Garito> @gabrielboric Gabriel, espero que puedas mirar sin prejuicios el camino de prosperidad que El Salvador está creando para su gente y que unas fuerzas con @nayibbukele para liberar Latinoamérica de la esclavitud monetaria del sistema actual. Fuerza Chile y fuerza #Bitcoin\n",
            "1473985784613158921 2021-12-23 14:56:11 +0300 <Garig48001264> @TheMoonCarl The Moon @TheMoonCarl  · Nov 15 If #Bitcoin does not hit $100,000 before the end of next year then I’ll delete my Twitter...\n",
            "1473985769098588161 2021-12-23 14:56:07 +0300 <cryptojohnsmith> PREDICTION RESULT  SELL 0.1BTC for 48,424.85 USDT. It was BOUGHT for 48,410.39 USDT 10 min ago at Binance. Trade Profit: 1.45 USDT Daily Profit: -83.12 USDT  #bitcoin #BTC #Binance\n",
            "1473985764396609541 2021-12-23 14:56:06 +0300 <bmurphypointman> #marketing #tumblr #twitter #facebook #instagram #webtalk #socialmedia #pinterest #reddit #deal #gift #gifts #giftideas #shop #shopping #affiliatemarketing #bitcoin #halloween  https://t.co/dV266FST3k\n",
            "1473985763595407365 2021-12-23 14:56:06 +0300 <bmurphypointman> #marketing #bitcoin #tumblr #twitter #facebook #instagram #dogecoin #socialmedia #tiktok #doge #deal #gift #gifts #giftideas #shop #shopping #affiliatemarketing  #amazon #Onlineshopping Overstock Deals  https://t.co/EynvCaoEnT\n",
            "1473985763570298884 2021-12-23 14:56:06 +0300 <bmurphypointman> #marketing #blogger #tumblr #twitter #facebook #instagram #blog #socialmedia #affiliatemarketing #blogging #website #reddit #affiliate #referral #crypto #shopping #travel #business #bitcoin #dogecoin  https://t.co/LrtR7SUq1O\n",
            "1473985752186986498 2021-12-23 14:56:03 +0300 <criptossaur0> @BitcoinMagazine @elonmusk As far as I know, many got rich because of #Bitcoin. And I will still be one of these!\n",
            "1473985711690993669 2021-12-23 14:55:53 +0300 <lauefeacen> @CryptoProfit777 @elrondimus @MartiniGuyYT Anything you put your money is store of value? This is an absolute ignorance and most importantly a BULLSH*T. How the hell something that loses its value like fiat could be store of value? You can print incredible amount of money but not #Bitcoin. It is deflationary.\n",
            "1473985697140908035 2021-12-23 14:55:50 +0300 <IAmBitcoinBot> Current #Bitcoin Price is $48406 #BTC #Crypto\n",
            "1473985658960101379 2021-12-23 14:55:41 +0300 <BTC_Whale_Alert> 🔥🔥🔥 🐳🚨 Bitcoin Whale Alert: [ TX: 57fe7cd4fa5b3cac86dbbd1488ac79d31c1303807cfa5cb4926dc88a490c46b5 ]-[ ADDR: 1Kr6QSydW9bFQG1mXiPNNu6WpJGmUa9i1g ]-[ #BTC: 652.60742779 ]-[ BLOCK_DATE: 2021-12-23 11:06:10 ] #btc_whale_alert #bitcoin\n",
            "1473985656087101447 2021-12-23 14:55:40 +0300 <CanelaBtc> #ADOPCIONMASIVA #Bitcoin  @ManiThawani @MundoCrypto_ES    https://t.co/Yh1PVGqlZi\n",
            "1473985644032663554 2021-12-23 14:55:37 +0300 <Ulupablo> 60 saniyeni ayır oku. Son fotoğrafa özellikle önem ver. Geçiştirme.  #bitcoin  https://t.co/r6XRyuKj7Y\n",
            "1473985593033912320 2021-12-23 14:55:25 +0300 <Lucas_kin95> Sometimes you have to just try something to see how it’ll work and other times you just have to stop and think. Which one are you more inclined towards!! #Bitcoin  https://t.co/JKtLOdoIgm\n",
            "1473985583861186567 2021-12-23 14:55:23 +0300 <cryptoify> #Cryptocurrency prices today: #Bitcoin, #Ether face resistance as market remains steady   https://t.co/7wmxBQOClP\n",
            "1473985572343631872 2021-12-23 14:55:20 +0300 <KryptoInsider1> Die Krypto-Vermögensverwalter Valkyrie und Kryptoin haben beide eine Ablehnung ihrer Anträge für Spot- Bitcoin-ETFs durch die SEC erhalten. #bitcoin #BitcoinETF #Crypto #Krypto #cryptocurrency #CryptoNews\n",
            "1473985535253221380 2021-12-23 14:55:11 +0300 <BlockAssets> Another old school financial expert that knows nothing about Bitcoin and its value.   Why #bitcoin is worse than a Madoff-style Ponzi scheme  https://t.co/fARICvq8FL\n",
            "1473985528370368518 2021-12-23 14:55:09 +0300 <KedarPr45827116> #Bitcoin #Cryptocurrency  https://t.co/SMFPr2Z37I\n",
            "1473985490852487171 2021-12-23 14:55:01 +0300 <cryptotoknet> Holding #Bitcoin is less risky than holding dollars #USD #CashIsTrash\n",
            "1473985461316206604 2021-12-23 14:54:53 +0300 <AbulrobHussein> Bears are the least liked creatures  #Bitcoin  https://t.co/AItpTRiwL1\n",
            "1473985430827769862 2021-12-23 14:54:46 +0300 <CryptoGrinch666> Hello Hello ,   Who is ready for a Christmas Pump ?  How is your view on the Crypto Market .   #Metaverse #NFT #GameFi #BSC  #crypto #DeFi #BITCOIN #BTC #ETH\n",
            "1473985385965359105 2021-12-23 14:54:35 +0300 <tokenviz> 🌕 Biggest #Cryptos 1-Day Volume  #Bitcoin: $48,434.53 (−1.32%) #ethereum: $3,943.68 (−1.96%) $BCH: $438.4 (−0.48%) $LUNA: $86.54 (−11.08%) #XRP: $0.9787 (+2.34%)  👉 Follow to bring #blockchain dashboard right to your feed.  https://t.co/FE1rPx5HHf\n",
            "1473985383717384193 2021-12-23 14:54:35 +0300 <Cryptonomist_en> According to #JackDorsey, #Bitcoin could replace the #US dollar   https://t.co/zcPMwlv7Ch\n",
            "1473985357456756737 2021-12-23 14:54:29 +0300 <gatoarteaga> .@SECGov rejected again 2 spot #bitcoin ETF . #valkyrie and #Kryptoin  seriously?\n",
            "1473985349517037571 2021-12-23 14:54:27 +0300 <Demetrius6170> True then, true today. #Bitcoin  https://t.co/AYzdxEvand\n",
            "1473985342487384071 2021-12-23 14:54:25 +0300 <equalligy> #Bitcoin : This Will Make You A Believer | ZeroHedge  https://t.co/z63xEYKqxK\n"
          ]
        }
      ],
      "source": [
        "twint.run.Search(c)"
      ]
    },
    {
      "cell_type": "code",
      "execution_count": 10,
      "metadata": {},
      "outputs": [
        {
          "data": {
            "text/plain": [
              "(503, 38)"
            ]
          },
          "execution_count": 10,
          "metadata": {},
          "output_type": "execute_result"
        }
      ],
      "source": [
        "df.shape"
      ]
    },
    {
      "cell_type": "code",
      "execution_count": 9,
      "metadata": {
        "id": "mjuy4Il7kZag"
      },
      "outputs": [],
      "source": [
        "df = twint.storage.panda.Tweets_df"
      ]
    },
    {
      "cell_type": "code",
      "execution_count": null,
      "metadata": {},
      "outputs": [],
      "source": [
        "import pandas as pd \n",
        "pd.set_option('display.max_columns', None)\n",
        "pd.set_option('display.max_rows', None)"
      ]
    },
    {
      "cell_type": "code",
      "execution_count": null,
      "metadata": {},
      "outputs": [],
      "source": [
        "df.head()"
      ]
    },
    {
      "cell_type": "code",
      "execution_count": null,
      "metadata": {},
      "outputs": [],
      "source": [
        "df.iloc[0].tweet"
      ]
    },
    {
      "cell_type": "code",
      "execution_count": null,
      "metadata": {
        "id": "Qm3-cfLMvDzT"
      },
      "outputs": [],
      "source": [
        "c=twint.Config()\n",
        "c.Store_object = True\n",
        "c.Pandas = True\n",
        "c.Username =\"elonmusk\"\n",
        "#c.Limit = 30000\n",
        "c.Since = \"2020-01-01\"\n",
        "c.Until = \"2021-01-31\""
      ]
    },
    {
      "cell_type": "code",
      "execution_count": null,
      "metadata": {
        "id": "sneOewxBkU0Y"
      },
      "outputs": [],
      "source": [
        "twint.storage.panda.Tweets_df['tweet'].count()"
      ]
    },
    {
      "cell_type": "code",
      "execution_count": null,
      "metadata": {
        "id": "oJkKgZL9kj-c"
      },
      "outputs": [],
      "source": [
        "twint.storage.panda.Tweets_df.to_csv('elonmusk2020JAN2021.csv')\n",
        "#copy to csv\n",
        "!cp elonmusk2020JAN2021.csv \"gdrive/My Drive/ScrapedTweets\""
      ]
    },
    {
      "cell_type": "markdown",
      "metadata": {
        "id": "atxLW-7wGagH"
      },
      "source": [
        "<font color=\"turquoise\"> Search via Geographic Location <br>c.Geo = “lat,lon, radius”"
      ]
    },
    {
      "cell_type": "code",
      "execution_count": null,
      "metadata": {
        "id": "h_xTbQn3I_mQ"
      },
      "outputs": [],
      "source": [
        "c=twint.Config()\n",
        "c.Store_object = True\n",
        "c.Pandas = True\n",
        "c.Geo = \"51.507351,-0.127, 5km\"\n",
        "# c.Username =\"elonmusk\"\n",
        "# c.Search = \"covid\"\n",
        "# #c.Limit = 30000\n",
        "c.Since = \"2021-01-01\"\n",
        "c.Until = \"2021-01-31\"\n",
        "# c.Lang = 'en'\n"
      ]
    },
    {
      "cell_type": "code",
      "execution_count": null,
      "metadata": {},
      "outputs": [],
      "source": [
        "twint.run.Search(c)"
      ]
    },
    {
      "cell_type": "code",
      "execution_count": null,
      "metadata": {},
      "outputs": [],
      "source": [
        "df = twint.storage.panda.Tweets_df"
      ]
    },
    {
      "cell_type": "code",
      "execution_count": null,
      "metadata": {},
      "outputs": [],
      "source": [
        "import pandas as pd \n",
        "pd.set_option('display.max_columns', None)\n",
        "pd.set_option('display.max_rows', None)"
      ]
    },
    {
      "cell_type": "code",
      "execution_count": null,
      "metadata": {},
      "outputs": [],
      "source": [
        "df[df.place != ''].iloc[0]"
      ]
    },
    {
      "cell_type": "code",
      "execution_count": null,
      "metadata": {},
      "outputs": [],
      "source": [
        "df[df.place != ''].iloc[0].link"
      ]
    },
    {
      "cell_type": "code",
      "execution_count": null,
      "metadata": {},
      "outputs": [],
      "source": []
    }
  ],
  "metadata": {
    "accelerator": "GPU",
    "colab": {
      "name": "Updated_Twint_OSINT_complete.ipynb",
      "provenance": []
    },
    "kernelspec": {
      "display_name": "Python 3",
      "name": "python3"
    },
    "language_info": {
      "codemirror_mode": {
        "name": "ipython",
        "version": 3
      },
      "file_extension": ".py",
      "mimetype": "text/x-python",
      "name": "python",
      "nbconvert_exporter": "python",
      "pygments_lexer": "ipython3",
      "version": "3.8.10"
    }
  },
  "nbformat": 4,
  "nbformat_minor": 0
}
