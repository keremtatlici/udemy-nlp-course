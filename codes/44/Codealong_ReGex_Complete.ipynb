{
  "cells": [
    {
      "cell_type": "markdown",
      "metadata": {
        "id": "uiL2nmB1WAQd"
      },
      "source": [
        "## <font color='#fd79a8'>  ReGex <br> Compare Regex re.split() to <br> Python's split() without the re library<font/>"
      ]
    },
    {
      "cell_type": "code",
      "execution_count": 1,
      "metadata": {
        "id": "FqPOd3QgDMHK"
      },
      "outputs": [],
      "source": [
        "sentence = \"He's fast. The boy ran up the hill,he can't come back down!\""
      ]
    },
    {
      "cell_type": "code",
      "execution_count": 2,
      "metadata": {
        "id": "K04Cup4c-xTG"
      },
      "outputs": [],
      "source": [
        "result = sentence.split() "
      ]
    },
    {
      "cell_type": "code",
      "execution_count": 3,
      "metadata": {
        "colab": {
          "base_uri": "https://localhost:8080/"
        },
        "id": "RPrI_k3v-zTL",
        "outputId": "b6f51d76-8048-4f94-b344-3a9092027669"
      },
      "outputs": [
        {
          "name": "stdout",
          "output_type": "stream",
          "text": [
            "[\"He's\", 'fast.', 'The', 'boy', 'ran', 'up', 'the', 'hill,he', \"can't\", 'come', 'back', 'down!']\n"
          ]
        }
      ],
      "source": [
        "print(result)"
      ]
    },
    {
      "cell_type": "code",
      "execution_count": 6,
      "metadata": {
        "id": "okoqoDT-Ehet"
      },
      "outputs": [],
      "source": [
        "sentence = \"He has a Ph.D. He's fast. The boy ran up the hill and he can't come back down!\""
      ]
    },
    {
      "cell_type": "code",
      "execution_count": 7,
      "metadata": {
        "colab": {
          "base_uri": "https://localhost:8080/"
        },
        "id": "nON6TjVg_Lh2",
        "outputId": "fb1dda45-1bbd-4565-e1bd-1911dfb3f7fc"
      },
      "outputs": [
        {
          "name": "stdout",
          "output_type": "stream",
          "text": [
            "['He has a Ph.D', \"He's fast\", \"The boy ran up the hill and he can't come back down!\"]\n"
          ]
        }
      ],
      "source": [
        "result = sentence.split(\". \")\n",
        "print(result)"
      ]
    },
    {
      "cell_type": "markdown",
      "metadata": {
        "id": "ZQlt1TFkEvjp"
      },
      "source": [
        "<font color= #fd79a8 > Python’s split() method falls short as only one separator can be used at a time. Another thing to note – in word tokenization, split() did not consider punctuation as a separate token. <font/> "
      ]
    },
    {
      "cell_type": "markdown",
      "metadata": {
        "id": "3k6lXCc7Wuzi"
      },
      "source": [
        "# <font color='#0abde3'> Regular Expressions (RegEx)  <font/> <br/>\n",
        "Library used: **re** <br/>\n"
      ]
    },
    {
      "cell_type": "code",
      "execution_count": 6,
      "metadata": {
        "id": "9cdy8pDAAqrH"
      },
      "outputs": [],
      "source": [
        "import re "
      ]
    },
    {
      "cell_type": "code",
      "execution_count": 7,
      "metadata": {
        "id": "-yZ5sZgCA6sx"
      },
      "outputs": [],
      "source": [
        "txt = \"uno-dos+tres#quatro cinco\" "
      ]
    },
    {
      "cell_type": "code",
      "execution_count": 8,
      "metadata": {
        "colab": {
          "base_uri": "https://localhost:8080/"
        },
        "id": "ksM_0kedBLBb",
        "outputId": "417867cd-2731-4be6-ab84-f506fe84091b"
      },
      "outputs": [
        {
          "name": "stdout",
          "output_type": "stream",
          "text": [
            "['uno', 'dos', 'tres', 'quatro', 'cinco']\n"
          ]
        }
      ],
      "source": [
        "result = print(re.split('\\W+',txt))"
      ]
    },
    {
      "cell_type": "markdown",
      "metadata": {
        "id": "wqxx6J7fLIzl"
      },
      "source": [
        "ReGex method to replace strings: <font color= #fd79a8 > re.split() <font/> "
      ]
    },
    {
      "cell_type": "markdown",
      "metadata": {
        "id": "0n9YN5fbo2Kr"
      },
      "source": [
        "<font color='#0abde3'> w+ example </font> <br/>\n",
        "**'+'** means any number of times - keep searching <br/> \n",
        "The **“\\w”** represents “any word character” which usually means alphanumeric (letters, numbers) and underscore (_).  <br/> [\\w’]+ signals that the code should find all the alphanumeric characters  <font/>\n",
        "<font color='#0abde3'> <br/> Regular expressions use the backslash character \\ to indicate special forms;\n"
      ]
    },
    {
      "cell_type": "markdown",
      "metadata": {
        "id": "6XmgVU80jqZW"
      },
      "source": [
        "<font color= #fd79a8 > Enclose a string with [ ] to match any single character in it. It can be used to split by multiple different characters. <font/> "
      ]
    },
    {
      "cell_type": "code",
      "execution_count": 9,
      "metadata": {
        "id": "Iy5Y2_huCoSu"
      },
      "outputs": [],
      "source": [
        "num = 'one-two-three-#four'"
      ]
    },
    {
      "cell_type": "code",
      "execution_count": 10,
      "metadata": {
        "colab": {
          "base_uri": "https://localhost:8080/"
        },
        "id": "OTYpItgmCvtE",
        "outputId": "007957ad-e615-497e-ce93-d48567f2ef15"
      },
      "outputs": [
        {
          "name": "stdout",
          "output_type": "stream",
          "text": [
            "['one', 'two', 'three', '', 'four']\n"
          ]
        }
      ],
      "source": [
        "result = print(re.split('[-+#]', num))"
      ]
    },
    {
      "cell_type": "markdown",
      "metadata": {
        "id": "Y-QlPsHF-1F6"
      },
      "source": [
        "# <font color= #fd79a8 > ReGex method to replace strings: re.sub() <font/> \n",
        "\n"
      ]
    },
    {
      "cell_type": "code",
      "execution_count": 11,
      "metadata": {
        "colab": {
          "base_uri": "https://localhost:8080/"
        },
        "id": "6prLy0JI-yAH",
        "outputId": "660d886d-104a-4927-c693-76a688954d38"
      },
      "outputs": [
        {
          "name": "stdout",
          "output_type": "stream",
          "text": [
            "one-and-two-and-three-and-four-and-five\n"
          ]
        }
      ],
      "source": [
        "substitute = 'one and two and three and four and five'\n",
        "result = re.sub(' ','-',substitute)\n",
        "print(result)"
      ]
    },
    {
      "cell_type": "markdown",
      "metadata": {
        "id": "4OrO-6rNLLbl"
      },
      "source": [
        "# <font color='#1dd1a1'> ReGex method to search strings:  re.search() <font/><br/> The search() function takes the \"pattern\" and \"string\" to scan from the text input"
      ]
    },
    {
      "cell_type": "code",
      "execution_count": 12,
      "metadata": {
        "colab": {
          "base_uri": "https://localhost:8080/"
        },
        "id": "iq_-UOf0IhZr",
        "outputId": "7eee41d1-7089-4110-bed7-15b3c6cbd13b"
      },
      "outputs": [
        {
          "name": "stdout",
          "output_type": "stream",
          "text": [
            "Looking for \"nlp course\" in \"The best nlp course for beginners, with awesome practical projects\" :\n",
            " yayy search successful!!:\n",
            " \n",
            "Looking for \"advanced\" in \"The best nlp course for beginners, with awesome practical projects\" :\n",
            " oh no :( we did not find anything\n"
          ]
        }
      ],
      "source": [
        "patternwanted = ['nlp course', 'advanced']\n",
        "string = 'The best nlp course for beginners, with awesome practical projects'\n",
        "\n",
        "for pattern in patternwanted:\n",
        "  print ('Looking for \"%s\" in \"%s\" :\\n' % (pattern, string), end=' ')\n",
        "\n",
        "  if re.search(pattern, string):\n",
        "    print('yayy search successful!!:\\n ')\n",
        "  else: \n",
        "    print('oh no :( we did not find anything')"
      ]
    },
    {
      "cell_type": "markdown",
      "metadata": {
        "id": "uK0TfZP5Bq0W"
      },
      "source": [
        "# <font color= #0abde3 > ReGex Information Extraction Example using re.findall  </font> <br/> \n",
        "search() module will only return the first occurrence that matches the specified pattern. <br/>findall() will iterate over all the lines of the file and return all the matches. <br/>\n"
      ]
    },
    {
      "cell_type": "code",
      "execution_count": 13,
      "metadata": {
        "colab": {
          "base_uri": "https://localhost:8080/"
        },
        "id": "GDqgwP0tLPUk",
        "outputId": "ee3decd4-3f9f-4edc-a816-dea30bd7bbdc"
      },
      "outputs": [
        {
          "name": "stdout",
          "output_type": "stream",
          "text": [
            "duke@dukeemail.com\n",
            "joe@mrdenvergmail.com\n",
            "my_name77@hotmail.com\n"
          ]
        }
      ],
      "source": [
        "contact_details = \"Duke Richards 123-1233 duke@dukeemail.com Joe Denver 2020/JAN/05 joe@mrdenvergmail.com 2020/Dec/24 my_name77@hotmail.com John Black +4478564000\"\n",
        "emailinfo = re.findall(r'[\\w\\.-]+@[\\w\\.-]+', contact_details)\n",
        "\n",
        "for email in emailinfo:\n",
        "  print(email)\n"
      ]
    },
    {
      "cell_type": "markdown",
      "metadata": {
        "id": "cLRwXGgcHTdA"
      },
      "source": [
        "<font color='#0abde3'> Regular expressions use the backslash character \\ to indicate special forms; but backslashes are not handled in any special way in a string literal prefixed with 'r'"
      ]
    }
  ],
  "metadata": {
    "colab": {
      "name": "Codealong_ReGex_Complete.ipynb",
      "provenance": []
    },
    "kernelspec": {
      "display_name": "Python 3",
      "name": "python3"
    },
    "language_info": {
      "codemirror_mode": {
        "name": "ipython",
        "version": 3
      },
      "file_extension": ".py",
      "mimetype": "text/x-python",
      "name": "python",
      "nbconvert_exporter": "python",
      "pygments_lexer": "ipython3",
      "version": "3.8.10"
    }
  },
  "nbformat": 4,
  "nbformat_minor": 0
}
