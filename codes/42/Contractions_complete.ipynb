{
  "cells": [
    {
      "cell_type": "markdown",
      "metadata": {
        "id": "uiL2nmB1WAQd"
      },
      "source": [
        "# <font color='#fd79a8'> Tokenization Methods Using NLTK<font/>"
      ]
    },
    {
      "cell_type": "code",
      "execution_count": 1,
      "metadata": {
        "id": "TKFaFq4vrvH4"
      },
      "outputs": [],
      "source": [
        "import nltk #importing nltk package "
      ]
    },
    {
      "cell_type": "code",
      "execution_count": 2,
      "metadata": {
        "colab": {
          "base_uri": "https://localhost:8080/"
        },
        "id": "698RpQucr79J",
        "outputId": "d5f68701-7e75-4dd1-8236-840bc0968823"
      },
      "outputs": [
        {
          "name": "stderr",
          "output_type": "stream",
          "text": [
            "[nltk_data] Downloading package punkt to /home/shakabrah/nltk_data...\n",
            "[nltk_data]   Package punkt is already up-to-date!\n"
          ]
        },
        {
          "data": {
            "text/plain": [
              "True"
            ]
          },
          "execution_count": 2,
          "metadata": {},
          "output_type": "execute_result"
        }
      ],
      "source": [
        "from nltk.tokenize import word_tokenize \n",
        "nltk.download('punkt')"
      ]
    },
    {
      "cell_type": "markdown",
      "metadata": {
        "id": "VgVZGbhouyyK"
      },
      "source": [
        "<font color= #fd79a8 > NLTK Module **tokenize()** "
      ]
    },
    {
      "cell_type": "markdown",
      "metadata": {
        "id": "NImBGS2cvHgO"
      },
      "source": [
        "<font color= #fd79a8 > NLTK Module **word_tokenize()** method"
      ]
    },
    {
      "cell_type": "code",
      "execution_count": 3,
      "metadata": {
        "id": "C2_BTyTCsbHN"
      },
      "outputs": [],
      "source": [
        "sentence = \"He's a German Shepherd. They are some of the smartest dogs!\""
      ]
    },
    {
      "cell_type": "code",
      "execution_count": 4,
      "metadata": {
        "colab": {
          "base_uri": "https://localhost:8080/"
        },
        "id": "js5ny_-UsgJ3",
        "outputId": "4b258ef0-e480-45e3-dbc0-62f708d0cf2b"
      },
      "outputs": [
        {
          "data": {
            "text/plain": [
              "['He',\n",
              " \"'s\",\n",
              " 'a',\n",
              " 'German',\n",
              " 'Shepherd',\n",
              " '.',\n",
              " 'They',\n",
              " 'are',\n",
              " 'some',\n",
              " 'of',\n",
              " 'the',\n",
              " 'smartest',\n",
              " 'dogs',\n",
              " '!']"
            ]
          },
          "execution_count": 4,
          "metadata": {},
          "output_type": "execute_result"
        }
      ],
      "source": [
        "word_tokenize(sentence)"
      ]
    },
    {
      "cell_type": "markdown",
      "metadata": {
        "id": "ZQlt1TFkEvjp"
      },
      "source": [
        "<font color= #fd79a8 > **sent_tokenization()** <font/> "
      ]
    },
    {
      "cell_type": "code",
      "execution_count": 5,
      "metadata": {
        "id": "CwlgelVzwvBg"
      },
      "outputs": [],
      "source": [
        "article = '''Did you know that World War 1 brought German Shepherds to the Western Hemisphere? Rin Tin Tin was a German Shepherd rescued from WWI. They are some of the smartest dogs!'''"
      ]
    },
    {
      "cell_type": "code",
      "execution_count": 6,
      "metadata": {
        "id": "oEJq6wS4s1L7"
      },
      "outputs": [],
      "source": [
        "from nltk.tokenize import sent_tokenize"
      ]
    },
    {
      "cell_type": "code",
      "execution_count": 7,
      "metadata": {
        "colab": {
          "base_uri": "https://localhost:8080/"
        },
        "id": "lLPPgGrvtCHU",
        "outputId": "975985c0-282d-4dd2-a182-ba5ce6f7e914"
      },
      "outputs": [
        {
          "data": {
            "text/plain": [
              "['Did you know that World War 1 brought German Shepherds to the Western Hemisphere?',\n",
              " 'Rin Tin Tin was a German Shepherd rescued from WWI.',\n",
              " 'They are some of the smartest dogs!']"
            ]
          },
          "execution_count": 7,
          "metadata": {},
          "output_type": "execute_result"
        }
      ],
      "source": [
        "sent_tokenize(article)"
      ]
    },
    {
      "cell_type": "markdown",
      "metadata": {
        "id": "oGsxrI6fQVCC"
      },
      "source": [
        "# <font color='#fd79a8'> Expand Clitics/Contractions<br>\n",
        "[Library source for contractions](https://github.com/kootenpv/contractions) <br> <font color='#81ecec'>latest version Jun 17, 2021"
      ]
    },
    {
      "cell_type": "code",
      "execution_count": 8,
      "metadata": {
        "id": "nm6Sf7UGQUCA"
      },
      "outputs": [
        {
          "name": "stdout",
          "output_type": "stream",
          "text": [
            "Defaulting to user installation because normal site-packages is not writeable\n",
            "Collecting contractions\n",
            "  Downloading contractions-0.0.58-py2.py3-none-any.whl (8.0 kB)\n",
            "Collecting textsearch>=0.0.21\n",
            "  Downloading textsearch-0.0.21-py2.py3-none-any.whl (7.5 kB)\n",
            "Collecting anyascii\n",
            "  Downloading anyascii-0.3.0-py3-none-any.whl (284 kB)\n",
            "     |████████████████████████████████| 284 kB 1.2 MB/s            \n",
            "\u001b[?25hCollecting pyahocorasick\n",
            "  Downloading pyahocorasick-1.4.2.tar.gz (321 kB)\n",
            "     |████████████████████████████████| 321 kB 7.4 MB/s            \n",
            "\u001b[?25h  Preparing metadata (setup.py) ... \u001b[?25ldone\n",
            "\u001b[?25hBuilding wheels for collected packages: pyahocorasick\n",
            "  Building wheel for pyahocorasick (setup.py) ... \u001b[?25ldone\n",
            "\u001b[?25h  Created wheel for pyahocorasick: filename=pyahocorasick-1.4.2-cp38-cp38-linux_x86_64.whl size=98367 sha256=a9dc2a989a2d344b732ed3bd88d28dcc38210f9d9535c7b3aba27976a2f3d332\n",
            "  Stored in directory: /home/shakabrah/.cache/pip/wheels/74/bc/b8/e5f739a84005620cfe66d3fcb8bb182e309d6056bc6700b60e\n",
            "Successfully built pyahocorasick\n",
            "Installing collected packages: pyahocorasick, anyascii, textsearch, contractions\n",
            "Successfully installed anyascii-0.3.0 contractions-0.0.58 pyahocorasick-1.4.2 textsearch-0.0.21\n"
          ]
        }
      ],
      "source": [
        "!pip install contractions"
      ]
    },
    {
      "cell_type": "code",
      "execution_count": 10,
      "metadata": {
        "colab": {
          "base_uri": "https://localhost:8080/"
        },
        "id": "c9Uet791Qn5R",
        "outputId": "206bc0c1-4fe4-48d6-8933-ba295736b20f"
      },
      "outputs": [
        {
          "name": "stdout",
          "output_type": "stream",
          "text": [
            "Text with contractions: She's going for a walk. Jack didn't go because he was tired. \n",
            "          They'd definitely go tonight. I'm sorry, I'll be late.\n",
            "          That's the way I like 'em!! \n",
            "Expanded Clitics: she is going for a walk. Jack did not go because he was tired. they would definitely go tonight. I am sorry, I will be late. that is the way I like  them!!\n"
          ]
        }
      ],
      "source": [
        "import contractions\n",
        "contracted = '''She's going for a walk. Jack didn't go because he was tired. \n",
        "          They'd definitely go tonight. I'm sorry, I'll be late.\n",
        "          That's the way I like 'em!! '''\n",
        "  \n",
        "expanded_all = []    \n",
        "for word in contracted.split():\n",
        "  expanded_all.append(contractions.fix(word))   \n",
        "    \n",
        "expand_clitics = ' '.join(expanded_all)\n",
        "print('Text with contractions: ' + contracted)\n",
        "print('Expanded Clitics: ' + expand_clitics)"
      ]
    },
    {
      "cell_type": "code",
      "execution_count": 19,
      "metadata": {
        "colab": {
          "base_uri": "https://localhost:8080/"
        },
        "id": "4mIQfkvwTyfC",
        "outputId": "e0e70069-365c-4f4c-acc2-57479f1dd71a"
      },
      "outputs": [
        {
          "data": {
            "text/plain": [
              "['She',\n",
              " \"'s\",\n",
              " 'going',\n",
              " 'for',\n",
              " 'a',\n",
              " 'walk',\n",
              " '.',\n",
              " 'Jack',\n",
              " 'did',\n",
              " \"n't\",\n",
              " 'go',\n",
              " 'because',\n",
              " 'he',\n",
              " 'was',\n",
              " 'tired',\n",
              " '.',\n",
              " 'They',\n",
              " \"'d\",\n",
              " 'definitely',\n",
              " 'go',\n",
              " 'tonight',\n",
              " '.',\n",
              " 'I',\n",
              " \"'m\",\n",
              " 'sorry',\n",
              " ',',\n",
              " 'I',\n",
              " \"'ll\",\n",
              " 'be',\n",
              " 'late',\n",
              " '.',\n",
              " 'That',\n",
              " \"'s\",\n",
              " 'the',\n",
              " 'way',\n",
              " 'I',\n",
              " 'like',\n",
              " \"'em\",\n",
              " '!',\n",
              " '!']"
            ]
          },
          "execution_count": 19,
          "metadata": {
            "tags": []
          },
          "output_type": "execute_result"
        }
      ],
      "source": [
        "word_tokenize(contracted)"
      ]
    },
    {
      "cell_type": "code",
      "execution_count": 20,
      "metadata": {
        "colab": {
          "base_uri": "https://localhost:8080/"
        },
        "id": "IfGWNPwrUDyM",
        "outputId": "d649e4a0-812f-4a84-93b1-39d376a42ccc"
      },
      "outputs": [
        {
          "data": {
            "text/plain": [
              "['she',\n",
              " 'is',\n",
              " 'going',\n",
              " 'for',\n",
              " 'a',\n",
              " 'walk',\n",
              " '.',\n",
              " 'Jack',\n",
              " 'did',\n",
              " 'not',\n",
              " 'go',\n",
              " 'because',\n",
              " 'he',\n",
              " 'was',\n",
              " 'tired',\n",
              " '.',\n",
              " 'they',\n",
              " 'would',\n",
              " 'definitely',\n",
              " 'go',\n",
              " 'tonight',\n",
              " '.',\n",
              " 'I',\n",
              " 'am',\n",
              " 'sorry',\n",
              " ',',\n",
              " 'I',\n",
              " 'will',\n",
              " 'be',\n",
              " 'late',\n",
              " '.',\n",
              " 'that',\n",
              " 'is',\n",
              " 'the',\n",
              " 'way',\n",
              " 'I',\n",
              " 'like',\n",
              " 'them',\n",
              " '!',\n",
              " '!']"
            ]
          },
          "execution_count": 20,
          "metadata": {
            "tags": []
          },
          "output_type": "execute_result"
        }
      ],
      "source": [
        "word_tokenize(expand_clitics)"
      ]
    }
  ],
  "metadata": {
    "accelerator": "GPU",
    "colab": {
      "name": "TokenizationNLTK_complete.ipynb",
      "provenance": []
    },
    "kernelspec": {
      "display_name": "Python 3",
      "name": "python3"
    },
    "language_info": {
      "codemirror_mode": {
        "name": "ipython",
        "version": 3
      },
      "file_extension": ".py",
      "mimetype": "text/x-python",
      "name": "python",
      "nbconvert_exporter": "python",
      "pygments_lexer": "ipython3",
      "version": "3.8.10"
    }
  },
  "nbformat": 4,
  "nbformat_minor": 0
}
